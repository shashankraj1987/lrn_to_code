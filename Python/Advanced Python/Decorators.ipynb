{
 "cells": [
  {
   "cell_type": "markdown",
   "metadata": {},
   "source": [
    "## First Class Functions"
   ]
  },
  {
   "cell_type": "markdown",
   "metadata": {},
   "source": [
    "First Class Functions: \n",
    "    When a function can be treated like any other object in a Progremming language, like passing as an argument, returned from function and assigning to a variable. "
   ]
  },
  {
   "cell_type": "code",
   "execution_count": 1,
   "metadata": {},
   "outputs": [
    {
     "name": "stdout",
     "output_type": "stream",
     "text": [
      "100\n",
      "8\n"
     ]
    }
   ],
   "source": [
    "## Basic Operation \n",
    "\n",
    "def square_num(x: int) -> int:\n",
    "    ''' Takes an Integer and Returns the Square of it.\n",
    "    For Eg:\n",
    "    square_num(2) returns 4 \n",
    "    and so on. \n",
    "    '''\n",
    "\n",
    "    return x**2\n",
    "\n",
    "def cube_num(x: int) -> int:\n",
    "    ''' Takes an Integer and Returns the Cube of it.\n",
    "    For Eg:\n",
    "    square_num(2) returns 8 \n",
    "    and so on. \n",
    "    '''\n",
    "    return x**3\n",
    "\n",
    "sqr = square_num(10) ##  This assigns the result of a function to sqr\n",
    "func_cube = cube_num ## This assigns the function itself to the variable func_sqr\n",
    "\n",
    "print(sqr)\n",
    "print(func_cube(2))"
   ]
  },
  {
   "cell_type": "code",
   "execution_count": 2,
   "metadata": {},
   "outputs": [
    {
     "name": "stdout",
     "output_type": "stream",
     "text": [
      "[1, 9, 25]\n",
      "[1, 27, 125]\n"
     ]
    }
   ],
   "source": [
    "def operation(func, vals):\n",
    "    result = []\n",
    "    for num in vals:\n",
    "        result.append(func(num))\n",
    "    \n",
    "    return result\n",
    "\n",
    "\n",
    "lst = [1,3,5]\n",
    "print(operation(square_num,lst))\n",
    "print(operation(cube_num, lst))\n"
   ]
  },
  {
   "cell_type": "markdown",
   "metadata": {},
   "source": [
    "## Returning a Function from a Function"
   ]
  },
  {
   "cell_type": "code",
   "execution_count": 3,
   "metadata": {},
   "outputs": [
    {
     "name": "stdout",
     "output_type": "stream",
     "text": [
      "<h1>Hello World</h1>\n",
      "<p>This is a Paragraph</p>\n"
     ]
    }
   ],
   "source": [
    "def html_tag(tag):                          # This becomes a Higher Order Function \n",
    "    def wrap_text(text):\n",
    "        print(f'<{tag}>{text}</{tag}>')     # This function can still use tag variable, as it is defined in the parent function  \n",
    "    return wrap_text                        # It Returns a function \n",
    "\n",
    "html_h1 = html_tag('h1')\n",
    "html_h1(\"Hello World\")\n",
    "\n",
    "html_p = html_tag('p')\n",
    "html_p(\"This is a Paragraph\")"
   ]
  },
  {
   "cell_type": "markdown",
   "metadata": {},
   "source": [
    "## Closures in Python "
   ]
  },
  {
   "cell_type": "code",
   "execution_count": 4,
   "metadata": {},
   "outputs": [
    {
     "name": "stdout",
     "output_type": "stream",
     "text": [
      "INFO: Everything Okay\n",
      "This can go to a console\n",
      "Warning:!!! Something May Be Wrong !!!\n",
      "This can go to a console\n",
      "Error:xxx Something Did Go Wrogn xxx\n",
      "This can go to a console\n"
     ]
    }
   ],
   "source": [
    "def outer_fun(type):\n",
    "    warn_sign = \"!\"    # This is a Free Variable, as it is not defined in the inner function but we still have access to it thru inner func.\n",
    "    err_sign = \"x\"\n",
    "\n",
    "    def info(msg):\n",
    "        print(f'INFO: {msg}')\n",
    "        print(\"This can go to a console\")\n",
    "\n",
    "    def warning(msg):\n",
    "        print(f'Warning:{warn_sign}{warn_sign}{warn_sign} {msg} {warn_sign}{warn_sign}{warn_sign}')\n",
    "        print(\"This can go to a console\")\n",
    "\n",
    "    def error(msg):\n",
    "        print(f'Error:{err_sign}{err_sign}{err_sign} {msg} {err_sign}{err_sign}{err_sign}')\n",
    "        print(\"This can go to a console\")\n",
    "        \n",
    "    if type == \"info\":\n",
    "        return info\n",
    "    elif type == \"warn\":\n",
    "        return warning\n",
    "    elif type == \"err\":\n",
    "        return error\n",
    "\n",
    "\n",
    "msg_info = outer_fun(\"info\")\n",
    "msg_warn = outer_fun(\"warn\")\n",
    "msg_error = outer_fun(\"err\")\n",
    "\n",
    "msg_info(\"Everything Okay\")\n",
    "msg_warn(\"Something May Be Wrong\")\n",
    "msg_error(\"Something Did Go Wrogn\")\n",
    "\n",
    "# Here, even though we are printing the inner functions, our inner function has access to free variables, outside the outer function. This is called Closure."
   ]
  },
  {
   "cell_type": "markdown",
   "metadata": {},
   "source": [
    "### Closure Example with Logging"
   ]
  },
  {
   "cell_type": "code",
   "execution_count": 5,
   "metadata": {},
   "outputs": [
    {
     "name": "stderr",
     "output_type": "stream",
     "text": [
      "INFO:root:[Running info]. This can be passed to a file\n"
     ]
    },
    {
     "name": "stdout",
     "output_type": "stream",
     "text": [
      "INFO: Still Okay\n",
      "This can go to a console\n"
     ]
    }
   ],
   "source": [
    "import logging\n",
    "logging.basicConfig(level=logging.INFO)\n",
    "\n",
    "def logger(func):\n",
    "    def log_func(*args, **kwargs):\n",
    "        logging.info(f'[Running {func.__name__}]. This can be passed to a file')\n",
    "        func(*args, **kwargs)\n",
    "    return log_func\n",
    "\n",
    "msg_info = outer_fun(\"info\")\n",
    "m_info = logger(msg_info)\n",
    "m_info(\"Still Okay\")"
   ]
  },
  {
   "cell_type": "markdown",
   "metadata": {},
   "source": [
    "## Python Decorators"
   ]
  },
  {
   "cell_type": "code",
   "execution_count": 6,
   "metadata": {},
   "outputs": [
    {
     "name": "stderr",
     "output_type": "stream",
     "text": [
      "INFO:root:[Running warning]. This can be passed to a file\n"
     ]
    },
    {
     "name": "stdout",
     "output_type": "stream",
     "text": [
      "Warning:!!!  Sample Warning  !!!\n",
      "This can go to a console\n"
     ]
    }
   ],
   "source": [
    "# Decorator without the '@' symbol \n",
    "\n",
    "msg_warn1 = outer_fun(\"warn\")\n",
    "info_1 = logger(msg_warn1)\n",
    "info_1(\" Sample Warning \")\n"
   ]
  },
  {
   "cell_type": "markdown",
   "metadata": {},
   "source": [
    "### Decorator with the '@' symbol \n"
   ]
  },
  {
   "cell_type": "code",
   "execution_count": 7,
   "metadata": {},
   "outputs": [
    {
     "name": "stderr",
     "output_type": "stream",
     "text": [
      "INFO:root:[Running mw_info]. This can be passed to a file\n",
      "INFO:root:[Running mw_error]. This can be passed to a file\n"
     ]
    },
    {
     "name": "stdout",
     "output_type": "stream",
     "text": [
      "INFO: 28-04-2022 :  Test Information \n",
      "This can go to a console \n",
      "\n",
      "Error:xxx  This is Some error.  xxx\n",
      "This can go to a console \n",
      "\n"
     ]
    }
   ],
   "source": [
    "def message_wrapper(type):\n",
    "    warn_sign = \"!\"    # This is a Free Variable, as it is not defined in the inner function but we still have access to it thru inner func.\n",
    "    err_sign = \"x\"\n",
    "\n",
    "    @logger\n",
    "    def mw_info(msg, dt):\n",
    "        print(f'INFO: {dt} : {msg}')\n",
    "        print(f'This can go to a console \\n')\n",
    "\n",
    "    @logger\n",
    "    def mw_warning(msg):\n",
    "        print(f'Warning:{warn_sign}{warn_sign}{warn_sign} {msg} {warn_sign}{warn_sign}{warn_sign}')\n",
    "        print(f'This can go to a console \\n')\n",
    "\n",
    "    @logger\n",
    "    def mw_error(msg):\n",
    "        print(f'Error:{err_sign}{err_sign}{err_sign} {msg} {err_sign}{err_sign}{err_sign}')\n",
    "        print(f'This can go to a console \\n')\n",
    "        \n",
    "    if type == \"info\":\n",
    "        return mw_info\n",
    "    elif type == \"warn\":\n",
    "        return mw_warning\n",
    "    elif type == \"err\":\n",
    "        return mw_error\n",
    "    else:\n",
    "        raise ValueError(\"Incorrect Argument\")\n",
    "\n",
    "\n",
    "msg3 = message_wrapper(\"info\")\n",
    "msg3(\" Test Information \",\"28-04-2022\")\n",
    "\n",
    "msg4 = message_wrapper(\"err\")\n",
    "msg4(\" This is Some error. \")\n",
    "\n",
    "# Notice that, due to the way parent argument is defined, we can pass as many parameters we want for the child argument. \n",
    "# And it will still work. "
   ]
  },
  {
   "cell_type": "markdown",
   "metadata": {},
   "source": [
    "### Using Class as a Decorator"
   ]
  },
  {
   "cell_type": "code",
   "execution_count": 8,
   "metadata": {},
   "outputs": [
    {
     "name": "stderr",
     "output_type": "stream",
     "text": [
      "INFO:root:Function family got executed via the class\n",
      "INFO:root: This can also be passed to a file \n"
     ]
    },
    {
     "data": {
      "text/plain": [
       "\"Shashank Raj is 35 years old and has kids named ['Parth', 'Anu']\""
      ]
     },
     "execution_count": 8,
     "metadata": {},
     "output_type": "execute_result"
    }
   ],
   "source": [
    "class logger_class(object):\n",
    "    def __init__(self,child_function):\n",
    "        self.child_function = child_function\n",
    "    \n",
    "    def __call__(self, *args, **kwargs):\n",
    "        logging.info(f'Function {self.child_function.__name__} got executed via the class')\n",
    "        logging.info(f' This can also be passed to a file ')\n",
    "        return self.child_function(*args, **kwargs)\n",
    "\n",
    "\n",
    "@logger_class\n",
    "def family(name:str, children: tuple, age = 0):\n",
    "    return f'{name} is {age} years old and has kids named {children}'\n",
    "\n",
    "family(\"Shashank Raj\", [\"Parth\",\"Anu\"], 35)"
   ]
  },
  {
   "cell_type": "markdown",
   "metadata": {},
   "source": [
    "### Using Multiple Wrappers"
   ]
  },
  {
   "cell_type": "code",
   "execution_count": 14,
   "metadata": {},
   "outputs": [
    {
     "name": "stderr",
     "output_type": "stream",
     "text": [
      "INFO:root:Logging square_num, args (3,) and kwargs {}\n"
     ]
    },
    {
     "name": "stdout",
     "output_type": "stream",
     "text": [
      "********************\n",
      "Function Starting.\n",
      "Passed functions ['square_num', 'dummy_func']\n",
      "\n",
      "Logging configured\n",
      "\n",
      "The Value of sqr variable is ['wrap_log', 'wrap_log2']\n",
      "Inside wrap_log function\n"
     ]
    },
    {
     "data": {
      "text/plain": [
       "9"
      ]
     },
     "execution_count": 14,
     "metadata": {},
     "output_type": "execute_result"
    }
   ],
   "source": [
    "# Multiple Wrappers\n",
    "# Function to Generate Logs for the Functions passed as params\n",
    "# -----------------------------------------------------------\n",
    "def log_wrapper(func):\n",
    "    print(\"*\"*20)\n",
    "    print(f'Function Starting.\\nPassed functions {[x.__name__ for x in func]}')\n",
    "    import logging\n",
    "    logging.basicConfig(level = logging.INFO)\n",
    "\n",
    "    print(f'\\nLogging configured')\n",
    "\n",
    "    def wrap_log(*args,**kwargs):\n",
    "        print(\"Inside wrap_log function\")\n",
    "\n",
    "        logging.info(f'Logging {func[0].__name__}, args {args} and kwargs {kwargs}')\n",
    "        return func[0](*args,**kwargs)\n",
    "    \n",
    "    def wrap_log2():\n",
    "        print(\"Inside wrap_log function\")\n",
    "\n",
    "        logging.info(f'Logging {func[1].__name__}')\n",
    "        return func()\n",
    "    \n",
    "    return wrap_log, wrap_log2\n",
    "\n",
    "def dummy_func():\n",
    "    print(f'Dummy')\n",
    "\n",
    "sqr = log_wrapper([square_num,dummy_func])      \n",
    "print(f'\\nThe Value of sqr variable is {[x.__name__ for x in sqr]}')\n",
    "sqr[0](3)\n",
    "\n",
    "''' \n",
    "# Explanation of why we pass arguments in the inner function. \n",
    "\n",
    "When we define sqr = log_wrapper([func1,func2]),\n",
    "we are actually passing the function names to the main log wrapper function. \n",
    "At this point, sqr is pointing to a tuple containing \"Function Names\"\n",
    "\n",
    "To actually invoke the function, we use the inner definition, which takes any argument. \n",
    "Then does it's thing and returns the original function, now with the arguments. \n",
    "\n",
    "So, the first time, we are passing the address of the function. Then second time, we are taking the arguments, \n",
    "when we say \"sqr[0](3)\". \n",
    "\n",
    "Finally, when the function is returned at \" return func[0](*args,**kwargs)\", at this point,\n",
    "the function is actually called with the argument. \n",
    "\n",
    "At the final    \" return wrap_log, wrap_log2\", the value of the function with the argument is returned. \n",
    "\n",
    "\n",
    "'''"
   ]
  },
  {
   "cell_type": "code",
   "execution_count": 10,
   "metadata": {},
   "outputs": [],
   "source": [
    "def log_wrapper(func):\n",
    "    \n",
    "    import logging\n",
    "    logging.basicConfig(level=logging.INFO)\n",
    "    \n",
    "    def write_log(*args,**kwargs):\n",
    "        logging.info(f'Ran Function {func.__name__} with arguments {args} and kwargs {kwargs}')\n",
    "        return func(*args,**kwargs)\n",
    "    \n",
    "    return write_log"
   ]
  },
  {
   "cell_type": "code",
   "execution_count": 11,
   "metadata": {},
   "outputs": [
    {
     "name": "stderr",
     "output_type": "stream",
     "text": [
      "INFO:root:Ran Function sum_cube with arguments (10,) and kwargs {}\n"
     ]
    },
    {
     "name": "stdout",
     "output_type": "stream",
     "text": [
      "for [1], the Square is [1] and the cube is [1]\n",
      "for [2], the Square is [4] and the cube is [8]\n",
      "for [3], the Square is [9] and the cube is [27]\n",
      "for [4], the Square is [16] and the cube is [64]\n",
      "for [5], the Square is [25] and the cube is [125]\n",
      "for [6], the Square is [36] and the cube is [216]\n",
      "for [7], the Square is [49] and the cube is [343]\n",
      "for [8], the Square is [64] and the cube is [512]\n",
      "for [9], the Square is [81] and the cube is [729]\n",
      "write_log ran in 0.0010535717010498047 seconds\n"
     ]
    }
   ],
   "source": [
    "# Function to Time the other Functions\n",
    "# -----------------------------------------------------------\n",
    "\n",
    "def func_timer(func):\n",
    "    import time\n",
    "    \n",
    "    def time_it(*args,**kwargs):\n",
    "        s_time = time.time()\n",
    "        result = func(*args,**kwargs)\n",
    "        e_time = time.time()\n",
    "        print(f'{func.__name__} ran in {e_time-s_time} seconds')\n",
    "        return result\n",
    "\n",
    "    return time_it\n",
    "\n",
    "\n",
    "@func_timer\n",
    "@log_wrapper\n",
    "def sum_cube(num_rng):\n",
    "    for x in range(1,num_rng):\n",
    "        print(f'for [{x}], the Square is [{square_num(x)}] and the cube is [{cube_num(x)}]')\n",
    "\n",
    "sum_cube(10)"
   ]
  },
  {
   "cell_type": "markdown",
   "metadata": {},
   "source": [
    "As we can see in the above output, it says \"wrap_log ran in 0.0009300708770751953 seconds\". However, sum_cube was the function that ran. \n",
    "To mitigate that issue, we use wraps from functools."
   ]
  },
  {
   "cell_type": "markdown",
   "metadata": {},
   "source": [
    "### Using wraps from functools"
   ]
  },
  {
   "cell_type": "code",
   "execution_count": 12,
   "metadata": {},
   "outputs": [
    {
     "name": "stderr",
     "output_type": "stream",
     "text": [
      "INFO:root:Ran Function sum_cube with arguments (10,) and kwargs {}\n"
     ]
    },
    {
     "name": "stdout",
     "output_type": "stream",
     "text": [
      "for [1], the Square is [1] and the cube is [1]\n",
      "for [2], the Square is [4] and the cube is [8]\n",
      "for [3], the Square is [9] and the cube is [27]\n",
      "for [4], the Square is [16] and the cube is [64]\n",
      "for [5], the Square is [25] and the cube is [125]\n",
      "for [6], the Square is [36] and the cube is [216]\n",
      "for [7], the Square is [49] and the cube is [343]\n",
      "for [8], the Square is [64] and the cube is [512]\n",
      "for [9], the Square is [81] and the cube is [729]\n",
      "Function sum_cube ran in 0.0009062290191650391 seconds\n"
     ]
    }
   ],
   "source": [
    "# This is used if we want to use multiple wrappers\n",
    "# Then, in order to ensure that the correct function is returned from the child function, \n",
    "# We use wraps decorator from functools\n",
    "\n",
    "from functools import wraps\n",
    "\n",
    "# Function to Log other Functions\n",
    "# -----------------------------------------------------------\n",
    "\n",
    "def log_wrapper2(func):\n",
    "\n",
    "    import logging\n",
    "    logging.basicConfig(level=logging.INFO)\n",
    "\n",
    "    @wraps(func)\n",
    "    def write_log(*args,**kwargs):\n",
    "        logging.info(f'Ran Function {func.__name__} with arguments {args} and kwargs {kwargs}')\n",
    "        return func(*args,**kwargs)\n",
    "    \n",
    "    return write_log\n",
    "\n",
    "# Function to Time the other Functions\n",
    "# -----------------------------------------------------------\n",
    "def timer_wrapper2(func):\n",
    "    import time\n",
    "\n",
    "    @wraps(func)\n",
    "    def time_it(*args,**kwargs):\n",
    "        s_time = time.time()\n",
    "        result = func(*args,**kwargs)\n",
    "        e_time = time.time()\n",
    "        print(f'Function {func.__name__} ran in {e_time-s_time} seconds')\n",
    "        return result\n",
    "\n",
    "    return time_it\n",
    "\n",
    "@timer_wrapper2\n",
    "@log_wrapper2\n",
    "def sum_cube(num_rng):\n",
    "    for x in range(1,num_rng):\n",
    "        print(f'for [{x}], the Square is [{square_num(x)}] and the cube is [{cube_num(x)}]')\n",
    "\n",
    "sum_cube(10)"
   ]
  },
  {
   "cell_type": "markdown",
   "metadata": {},
   "source": [
    "Here, we can see that in the output, it says \"Function sum_cube ran in 0.0010073184967041016 seconds\", instead of \"wrap_log\".\n",
    "That is why we use wraps."
   ]
  },
  {
   "cell_type": "markdown",
   "metadata": {},
   "source": [
    "## Instance Methods, Class Methods, Static Methods"
   ]
  },
  {
   "cell_type": "code",
   "execution_count": 6,
   "metadata": {},
   "outputs": [],
   "source": [
    "class print_info:\n",
    "    def __init__(self,name):\n",
    "        self.name = name\n",
    "    \n",
    "    def __repr__(self):\n",
    "        return f'The Name Passed is {self.name}'\n",
    "\n",
    "    def greeting(self):\n",
    "        print (f'Hello {self.name}')"
   ]
  },
  {
   "cell_type": "code",
   "execution_count": 9,
   "metadata": {},
   "outputs": [
    {
     "name": "stdout",
     "output_type": "stream",
     "text": [
      "Hello Shashank Raj\n"
     ]
    }
   ],
   "source": [
    "p1 = print_info(\"Shashank Raj\")\n",
    "p1.greeting()                       \n",
    "\n",
    "# This is an example of an intance method.\n",
    "# p1 is the instance of the class and the greeting() is the method"
   ]
  },
  {
   "cell_type": "markdown",
   "metadata": {},
   "source": [
    "### Static Method and Class Methods"
   ]
  },
  {
   "cell_type": "code",
   "execution_count": 22,
   "metadata": {},
   "outputs": [
    {
     "name": "stdout",
     "output_type": "stream",
     "text": [
      "Hello Shashank. You are 36 years old\n",
      "Hello Annu. You are 32 years old\n"
     ]
    }
   ],
   "source": [
    "class person_info:\n",
    "    \n",
    "    actual_age = 0\n",
    "    \n",
    "    def __init__(self,name):\n",
    "        self.name = name\n",
    "    \n",
    "    def __repr__(self):\n",
    "        return f'The Name Passed is {self.name}'\n",
    "\n",
    "    def greeting(self):\n",
    "        print (f'Hello {self.name}. You are {self.actual_age} years old')\n",
    "\n",
    "    @staticmethod\n",
    "    def what_is_my_age(birth_yr):\n",
    "        from datetime import datetime\n",
    "        return datetime.now().year - birth_yr\n",
    "\n",
    "    @classmethod\n",
    "    def set_age(cls,age):\n",
    "        cls.age = age\n",
    "    \n",
    "p2 = person_info(\"Shashank\")\n",
    "age = p2.what_is_my_age(1986)\n",
    "p2.set_age(age)            ## This here, overwrites the value of 'age' class variable for all the instances \n",
    "p2.greeting()\n",
    "\n",
    "p3 = person_info(\"Annu\")\n",
    "p3.set_age(p3.what_is_my_age(1990))\n",
    "p3.greeting()"
   ]
  },
  {
   "cell_type": "markdown",
   "metadata": {},
   "source": [
    "In the above example, the staticmethod (what_is_my_age) has no relation to the class, but it is useful here, in defining the age. \n",
    "This is then used in the \"set_age\" variable, to set the age of an intance and print it out. "
   ]
  },
  {
   "cell_type": "markdown",
   "metadata": {},
   "source": [
    "## MetaClasses and Method Overload in Python"
   ]
  },
  {
   "cell_type": "code",
   "execution_count": null,
   "metadata": {},
   "outputs": [],
   "source": []
  }
 ],
 "metadata": {
  "interpreter": {
   "hash": "e6b9d61a4266f52d00cbbd231546cddd0f1da2674cbe09c6f674fda245c3e9ab"
  },
  "kernelspec": {
   "display_name": "Python 3.9.6 64-bit (system)",
   "language": "python",
   "name": "python3"
  },
  "language_info": {
   "codemirror_mode": {
    "name": "ipython",
    "version": 3
   },
   "file_extension": ".py",
   "mimetype": "text/x-python",
   "name": "python",
   "nbconvert_exporter": "python",
   "pygments_lexer": "ipython3",
   "version": "3.10.4"
  },
  "orig_nbformat": 4
 },
 "nbformat": 4,
 "nbformat_minor": 2
}
