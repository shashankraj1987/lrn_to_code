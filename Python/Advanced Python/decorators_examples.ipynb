{
 "cells": [
  {
   "cell_type": "markdown",
   "metadata": {},
   "source": [
    "## Decorators Example "
   ]
  },
  {
   "cell_type": "markdown",
   "metadata": {},
   "source": [
    "Initially, we create basic functions which are unsecured. "
   ]
  },
  {
   "cell_type": "code",
   "execution_count": null,
   "metadata": {},
   "outputs": [],
   "source": [
    "user = {\"username\":\"shashank\",\"access_level\":\"guest\"}\n",
    "\n",
    "def get_admin_pwd():\n",
    "    return 1234\n",
    "\n",
    "def secure_get_admin_pwd():\n",
    "    if user['access_level'] == \"admin\":\n",
    "        get_admin_pwd()\n",
    "    else:\n",
    "        return \"Access Denied\"\n",
    "\n",
    "# We have created a secure_get_admin_pwd() function which will mask the get_admin_pwd()\n",
    "# However, we can just run the function called get_admin_password() \n",
    "# and we will get the admin password. \n",
    "\n",
    "print(secure_get_admin_pwd())\n",
    "print(get_admin_pwd())\n"
   ]
  },
  {
   "cell_type": "markdown",
   "metadata": {},
   "source": [
    "### Using Decorator for the Above Situation"
   ]
  },
  {
   "cell_type": "code",
   "execution_count": null,
   "metadata": {},
   "outputs": [],
   "source": [
    "def admin_pwd(func):\n",
    "    if user['access_level'] == 'admin':\n",
    "        return func\n",
    "    else: \n",
    "        return \"Access Denied\"\n",
    "\n",
    "get_admin_pwd = admin_pwd(get_admin_pwd)\n",
    "print(get_admin_pwd())\n",
    "\n",
    "# In the above method, we cannot call the get_admin_password function at all, \n",
    "# as it is masked by the declaration get_admin_pwd = admin_pwd(get_admin_pwd)"
   ]
  },
  {
   "cell_type": "markdown",
   "metadata": {},
   "source": [
    "This has a flaw as we have to set the access level, at a global level. We need to be able to pass the access level at runtime. "
   ]
  }
 ],
 "metadata": {
  "interpreter": {
   "hash": "1ea856f75c744b83ee05856dd1a145e8846d73b2689b503f4e3256f20a6fee7c"
  },
  "kernelspec": {
   "display_name": "Python 3.10.4 64-bit (system)",
   "language": "python",
   "name": "python3"
  },
  "language_info": {
   "codemirror_mode": {
    "name": "ipython",
    "version": 3
   },
   "file_extension": ".py",
   "mimetype": "text/x-python",
   "name": "python",
   "nbconvert_exporter": "python",
   "pygments_lexer": "ipython3",
   "version": "3.10.4"
  },
  "orig_nbformat": 4
 },
 "nbformat": 4,
 "nbformat_minor": 2
}
