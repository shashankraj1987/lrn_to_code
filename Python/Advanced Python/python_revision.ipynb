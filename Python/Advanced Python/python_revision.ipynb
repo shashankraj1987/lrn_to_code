{
 "cells": [
  {
   "cell_type": "markdown",
   "metadata": {},
   "source": [
    "Labmda and Map"
   ]
  },
  {
   "cell_type": "code",
   "execution_count": 3,
   "metadata": {},
   "outputs": [
    {
     "data": {
      "text/plain": [
       "[1, 4, 9, 16, 25]"
      ]
     },
     "execution_count": 3,
     "metadata": {},
     "output_type": "execute_result"
    }
   ],
   "source": [
    "add_nums = lambda x:x**2\n",
    "\n",
    "series = [1,2,3,4,5]\n",
    "\n",
    "arr = list(map(add_nums,series))\n",
    "arr"
   ]
  },
  {
   "cell_type": "markdown",
   "metadata": {},
   "source": [
    "Argument unpacking"
   ]
  },
  {
   "cell_type": "code",
   "execution_count": 4,
   "metadata": {},
   "outputs": [
    {
     "name": "stdout",
     "output_type": "stream",
     "text": [
      "1\n",
      "[4, 9, 16, 25]\n"
     ]
    }
   ],
   "source": [
    "first, *rest = arr\n",
    "print(first)\n",
    "print(rest)"
   ]
  },
  {
   "cell_type": "code",
   "execution_count": 5,
   "metadata": {},
   "outputs": [
    {
     "name": "stdout",
     "output_type": "stream",
     "text": [
      "25\n"
     ]
    }
   ],
   "source": [
    "# If we have a function with named arguments, then we can pass a dictionary as the arguments.\n",
    "def add(x,y):\n",
    "    return x+y\n",
    "\n",
    "nums = {\"x\":10,\"y\":15}\n",
    "print(add(**nums))"
   ]
  },
  {
   "cell_type": "markdown",
   "metadata": {},
   "source": [
    "Object Oriented Programming"
   ]
  },
  {
   "cell_type": "code",
   "execution_count": 1,
   "metadata": {},
   "outputs": [
    {
     "name": "stdout",
     "output_type": "stream",
     "text": [
      "Name: Shashank, Age 34\n"
     ]
    }
   ],
   "source": [
    "# Class name should be mostly upper case \n",
    "# __str__() method and __repr__() methods print informatio about the class \n",
    "\n",
    "class Person:\n",
    "    def __init__(self, name, age):\n",
    "        self.name = name\n",
    "        self.age = age\n",
    "    \n",
    "    def __str__(self):\n",
    "        return f\"Name: {self.name}, Age {self.age}\"\n",
    "\n",
    "person = Person(\"Shashank\",34)\n",
    "print(person)   # <- This calls the str metyhod. Without the __str__ method, it will print the memory address"
   ]
  },
  {
   "cell_type": "code",
   "execution_count": null,
   "metadata": {},
   "outputs": [],
   "source": [
    "# Class Coding Exercise \n",
    "\n",
    "class Store:\n",
    "    def __init__(self,name):\n",
    "        self.name = name\n",
    "        self.list = list()\n",
    "\n",
    "    def add_items(self)\n"
   ]
  }
 ],
 "metadata": {
  "interpreter": {
   "hash": "51566a6452fa46aa58fd4f83c1c64917cf743f71110fdbc540a638c66b3982a4"
  },
  "kernelspec": {
   "display_name": "Python 3.10.2 64-bit (system)",
   "language": "python",
   "name": "python3"
  },
  "language_info": {
   "codemirror_mode": {
    "name": "ipython",
    "version": 3
   },
   "file_extension": ".py",
   "mimetype": "text/x-python",
   "name": "python",
   "nbconvert_exporter": "python",
   "pygments_lexer": "ipython3",
   "version": "3.10.2"
  },
  "orig_nbformat": 4
 },
 "nbformat": 4,
 "nbformat_minor": 2
}
