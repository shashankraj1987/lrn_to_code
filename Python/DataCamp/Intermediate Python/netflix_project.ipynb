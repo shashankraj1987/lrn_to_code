{
 "cells": [
  {
   "cell_type": "code",
   "execution_count": null,
   "metadata": {},
   "outputs": [],
   "source": [
    "import numpy as np\n",
    "import pandas as pd\n",
    "import matplotlib.pyplot as plt"
   ]
  },
  {
   "cell_type": "code",
   "execution_count": null,
   "metadata": {},
   "outputs": [],
   "source": [
    "# Create the years and durations lists\n",
    "years = [2011, 2012, 2013, 2014, 2015, 2016, 2017, 2018, 2019,2020]\n",
    "durations =  [103, 101, 99, 100, 100, 95, 95, 96, 93, 90]\n",
    "\n",
    "print(years)\n",
    "print(durations)\n",
    "\n",
    "# Create a dictionary with the two lists\n",
    "movie_dict = {\"years\":years,\"durations\":durations}\n",
    "\n",
    "# Print the dictionary\n",
    "print(movie_dict)"
   ]
  },
  {
   "cell_type": "code",
   "execution_count": 8,
   "metadata": {},
   "outputs": [
    {
     "name": "stdout",
     "output_type": "stream",
     "text": [
      "      durations\n",
      "2011        103\n",
      "2012        101\n",
      "2013         99\n",
      "2014        100\n",
      "2015        100\n",
      "2016         95\n",
      "2017         95\n",
      "2018         96\n",
      "2019         93\n",
      "2020         90\n"
     ]
    }
   ],
   "source": [
    "# Create a DataFrame from the dictionary\n",
    "durations_df = pd.DataFrame(movie_dict['durations'],index=(movie_dict['years']))\n",
    "durations_df.columns=[\"durations\"]\n",
    "\n",
    "# Print the DataFrame\n",
    "print(durations_df)"
   ]
  },
  {
   "cell_type": "code",
   "execution_count": 10,
   "metadata": {},
   "outputs": [
    {
     "data": {
      "image/png": "[encoded data removed]",
      "text/plain": [
       "<Figure size 432x288 with 1 Axes>"
      ]
     },
     "metadata": {
      "needs_background": "light"
     },
     "output_type": "display_data"
    }
   ],
   "source": [
    "plt.clf()\n",
    "plt.plot(durations_df)\n",
    "plt.title(\"Movies Duration over time\")\n",
    "plt.show()"
   ]
  },
  {
   "cell_type": "code",
   "execution_count": 14,
   "metadata": {},
   "outputs": [
    {
     "data": {
      "text/plain": [
       "<generator object DataFrame.iterrows at 0x000002C7B941B820>"
      ]
     },
     "execution_count": 14,
     "metadata": {},
     "output_type": "execute_result"
    }
   ],
   "source": [
    "durations_df.iterrows()"
   ]
  }
 ],
 "metadata": {
  "interpreter": {
   "hash": "f1cc5f0ce100780784a8549fccb73fa4d4a6eaa09aeab623fe19dd816a1cfbf1"
  },
  "kernelspec": {
   "display_name": "Python 3.9.6 64-bit (system)",
   "name": "python3"
  },
  "language_info": {
   "codemirror_mode": {
    "name": "ipython",
    "version": 3
   },
   "file_extension": ".py",
   "mimetype": "text/x-python",
   "name": "python",
   "nbconvert_exporter": "python",
   "pygments_lexer": "ipython3",
   "version": "3.9.6"
  },
  "orig_nbformat": 4
 },
 "nbformat": 4,
 "nbformat_minor": 2
}
