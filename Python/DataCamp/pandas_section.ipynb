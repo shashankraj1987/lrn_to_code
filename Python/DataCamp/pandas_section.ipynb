{
 "cells": [
  {
   "cell_type": "code",
   "execution_count": null,
   "metadata": {
    "executionInfo": {
     "elapsed": 418,
     "status": "ok",
     "timestamp": 1634974673360,
     "user": {
      "displayName": "Shashank Raj",
      "photoUrl": "https://lh3.googleusercontent.com/a/default-user=s64",
      "userId": "10647275340804459091"
     },
     "user_tz": -330
    },
    "id": "nveoaDgzz1L0"
   },
   "outputs": [],
   "source": [
    "import pandas as pd \n",
    "import numpy as np\n",
    "import matplotlib.pyplot as plt"
   ]
  },
  {
   "cell_type": "code",
   "execution_count": null,
   "metadata": {
    "executionInfo": {
     "elapsed": 8,
     "status": "ok",
     "timestamp": 1634974673749,
     "user": {
      "displayName": "Shashank Raj",
      "photoUrl": "https://lh3.googleusercontent.com/a/default-user=s64",
      "userId": "10647275340804459091"
     },
     "user_tz": -330
    },
    "id": "d4pY8wmNcAVB"
   },
   "outputs": [],
   "source": [
    "#df = pd.read_csv(\"H:\\\\Other computers\\\\Ryzen-PC\\\\Learning\\\\DataCamp\\\\Intermediate Python\\\\Data\\\\Sample-sales-data-excel.csv\",index_col=0)\n",
    "df = pd.read_csv(\"/home/shashankraj/Documents/Learning/DataCamp/Intermediate Python/Data/Sample-sales-data-excel.csv\",index_col=0)"
   ]
  },
  {
   "cell_type": "markdown",
   "metadata": {
    "id": "eE_351X4z1L5"
   },
   "source": [
    "### Getting Around the DataFrame.. Basic Functions. "
   ]
  },
  {
   "cell_type": "code",
   "execution_count": null,
   "metadata": {
    "colab": {
     "base_uri": "https://localhost:8080/",
     "height": 756
    },
    "executionInfo": {
     "elapsed": 602,
     "status": "ok",
     "timestamp": 1634974674345,
     "user": {
      "displayName": "Shashank Raj",
      "photoUrl": "https://lh3.googleusercontent.com/a/default-user=s64",
      "userId": "10647275340804459091"
     },
     "user_tz": -330
    },
    "id": "UcrHo2kmz1L7",
    "outputId": "4331d058-49c0-4079-c16c-b89f68f651ee"
   },
   "outputs": [],
   "source": [
    "## For a Given Dataframe \n",
    "## We can get the Basic Info Via. \n",
    "\n",
    "df.head()     # -- Head of the Data Frame\n",
    "df.info()     # -- Information about the column types and missing values in homelessness.\n",
    "df.shape      # -- No. of Rows and Columns in the DataFrame\n",
    "df.describe() # -- Sttistical Information about the dataset"
   ]
  },
  {
   "cell_type": "code",
   "execution_count": null,
   "metadata": {
    "executionInfo": {
     "elapsed": 30,
     "status": "ok",
     "timestamp": 1634974674346,
     "user": {
      "displayName": "Shashank Raj",
      "photoUrl": "https://lh3.googleusercontent.com/a/default-user=s64",
      "userId": "10647275340804459091"
     },
     "user_tz": -330
    },
    "id": "1ZDkPb4Xz1L9"
   },
   "outputs": [],
   "source": [
    "# .values: A two-dimensional NumPy array of values. Prints all the values.\n",
    "# .columns: An index of columns: the column names. Prints the column names. \n",
    "# .index: An index for the rows: either row numbers or row names. Prints the row indexe names. "
   ]
  },
  {
   "cell_type": "markdown",
   "metadata": {
    "id": "xqBu1Tx9z1L9"
   },
   "source": [
    "### Sorting and Subsetting the DataFrame"
   ]
  },
  {
   "cell_type": "code",
   "execution_count": null,
   "metadata": {
    "colab": {
     "base_uri": "https://localhost:8080/"
    },
    "executionInfo": {
     "elapsed": 30,
     "status": "ok",
     "timestamp": 1634974674347,
     "user": {
      "displayName": "Shashank Raj",
      "photoUrl": "https://lh3.googleusercontent.com/a/default-user=s64",
      "userId": "10647275340804459091"
     },
     "user_tz": -330
    },
    "id": "ADyBNt1Zz1L-",
    "outputId": "4ce9f8a9-5762-40d2-8a76-9be558f31793"
   },
   "outputs": [],
   "source": [
    "print(df.sort_values(\"Sales\").head()) # --> This will sort the given column with ascending order. \n",
    "print(df.sort_values(\"Sales\",ascending = False).head()) # --> Descending Order Sort\n",
    "\n",
    "## We can pass a list of column names to sort the dataframe using that list \n",
    "print(df.sort_values(['Sales','Quantity']).head())\n",
    "\n",
    "\n",
    "# we can also specify seperate sorting to separate columns \n",
    "print(df.sort_values(['Sales','Quantity'], ascending = [True,False]).head())\n",
    "\n",
    "#In this, the first column is sorted Ascending and the second one, Descending. \n",
    "\n"
   ]
  },
  {
   "cell_type": "markdown",
   "metadata": {
    "id": "LONPfMbrz1L_"
   },
   "source": [
    "#### Double Bracket Explanation "
   ]
  },
  {
   "cell_type": "code",
   "execution_count": null,
   "metadata": {
    "executionInfo": {
     "elapsed": 27,
     "status": "ok",
     "timestamp": 1634974674348,
     "user": {
      "displayName": "Shashank Raj",
      "photoUrl": "https://lh3.googleusercontent.com/a/default-user=s64",
      "userId": "10647275340804459091"
     },
     "user_tz": -330
    },
    "id": "5NhSUdW3z1MA"
   },
   "outputs": [],
   "source": [
    "# #Double Brackets act perform the following task. \n",
    "\n",
    "#df[[]] \n",
    "\n",
    "# The First Set of Brackets is for subsetting the data frame and the second set of brackets \n",
    "# provides a list of values to subset the data frame from. "
   ]
  },
  {
   "cell_type": "markdown",
   "metadata": {
    "id": "a8YjvtuPz1MB"
   },
   "source": [
    "## Subsetting the Dataframe on Multiple Conditions. "
   ]
  },
  {
   "cell_type": "code",
   "execution_count": null,
   "metadata": {
    "colab": {
     "base_uri": "https://localhost:8080/",
     "height": 705
    },
    "executionInfo": {
     "elapsed": 28,
     "status": "ok",
     "timestamp": 1634974674349,
     "user": {
      "displayName": "Shashank Raj",
      "photoUrl": "https://lh3.googleusercontent.com/a/default-user=s64",
      "userId": "10647275340804459091"
     },
     "user_tz": -330
    },
    "id": "4y_7oTl_z1MC",
    "outputId": "79ba899e-d7e3-4e07-ce05-dca0e4537a33"
   },
   "outputs": [],
   "source": [
    "is_test = df[\"Sales\"] > 1000 #= \"condition1\"\n",
    "is_test2 = df[\"Quantity\"] < 10 # \"condition2\"\n",
    "\n",
    "df[is_test & is_test2] #--> Now we are subsetting the dataframe on two conditions. "
   ]
  },
  {
   "cell_type": "code",
   "execution_count": null,
   "metadata": {
    "executionInfo": {
     "elapsed": 27,
     "status": "ok",
     "timestamp": 1634974674350,
     "user": {
      "displayName": "Shashank Raj",
      "photoUrl": "https://lh3.googleusercontent.com/a/default-user=s64",
      "userId": "10647275340804459091"
     },
     "user_tz": -330
    },
    "id": "T9DUkz3Mz1MC"
   },
   "outputs": [],
   "source": [
    "# Subsetting one column on multiple conditions. \n",
    "\n",
    "# We can subset one column based on multiple values using the isin operator. \n",
    "# condition = df['col1'].isin([\"cond1\",\"cond2\"])\n",
    "# df[condition]\n",
    "\n",
    "\n",
    "# Example of Using isin\n",
    "# Subset for rows in South Atlantic or Mid-Atlantic regions\n",
    "\n",
    "# Regions = ['South Atlantic','Mid-Atlantic']\n",
    "# Condition = homelessness['region'].isin(regions)\n",
    "# South_mid_atlantic = homelessness[condition]\n",
    "\n",
    "# See the result\n",
    "# print(south_mid_atlantic)\n",
    "#"
   ]
  },
  {
   "cell_type": "markdown",
   "metadata": {
    "id": "otwKQQpTz1MD"
   },
   "source": [
    "## Aggregating DataFrames"
   ]
  },
  {
   "cell_type": "code",
   "execution_count": null,
   "metadata": {
    "executionInfo": {
     "elapsed": 26,
     "status": "ok",
     "timestamp": 1634974674350,
     "user": {
      "displayName": "Shashank Raj",
      "photoUrl": "https://lh3.googleusercontent.com/a/default-user=s64",
      "userId": "10647275340804459091"
     },
     "user_tz": -330
    },
    "id": "7_TZDJCkz1MD"
   },
   "outputs": [],
   "source": [
    "##  Dropping the Duplicates \n",
    "\n",
    "df.drop_duplicates(subset =['Sales','Quantity'])"
   ]
  },
  {
   "cell_type": "code",
   "execution_count": null,
   "metadata": {
    "executionInfo": {
     "elapsed": 26,
     "status": "ok",
     "timestamp": 1634974674351,
     "user": {
      "displayName": "Shashank Raj",
      "photoUrl": "https://lh3.googleusercontent.com/a/default-user=s64",
      "userId": "10647275340804459091"
     },
     "user_tz": -330
    },
    "id": "iEhHJFc43IOz"
   },
   "outputs": [],
   "source": [
    "## Applying Summary Stats to dates. \n",
    "\n",
    "#df['date_col'].min() -- > Gives the oldes value \n",
    "#df['date_col'].max() --> Gives the newest value "
   ]
  },
  {
   "cell_type": "code",
   "execution_count": null,
   "metadata": {
    "executionInfo": {
     "elapsed": 26,
     "status": "ok",
     "timestamp": 1634974674351,
     "user": {
      "displayName": "Shashank Raj",
      "photoUrl": "https://lh3.googleusercontent.com/a/default-user=s64",
      "userId": "10647275340804459091"
     },
     "user_tz": -330
    },
    "id": "P7Smcarz3ZOG"
   },
   "outputs": [],
   "source": [
    "## Percentiles and Quartiles \n",
    "\n",
    "# df['column'].quantile() ->    It gives the quantiles \n",
    "# df['column'].quantile(0.5) ->    It gives the 50th percentile  \n"
   ]
  },
  {
   "cell_type": "code",
   "execution_count": null,
   "metadata": {
    "colab": {
     "base_uri": "https://localhost:8080/"
    },
    "executionInfo": {
     "elapsed": 26,
     "status": "ok",
     "timestamp": 1634974674352,
     "user": {
      "displayName": "Shashank Raj",
      "photoUrl": "https://lh3.googleusercontent.com/a/default-user=s64",
      "userId": "10647275340804459091"
     },
     "user_tz": -330
    },
    "id": "BIwkYi81cAVN",
    "outputId": "84dcd94e-1619-4e99-bcd5-2e1af532e2df"
   },
   "outputs": [],
   "source": [
    "## Aggregates \n",
    "\n",
    "# df['column1'].agg()  --> Aggregate the column based on a value or a List \n",
    "\n",
    "# The .agg() method allows you to apply your own custom functions to a DataFrame, \n",
    "# as well as apply functions to more than one column of a DataFrame at once, making your aggregations super-efficient. \n",
    "\n",
    "## Example \n",
    "\n",
    "# A custom IQR function\n",
    "def iqr(column):\n",
    "    return column.quantile(0.75) - column.quantile(0.25)\n",
    "    \n",
    "# Print IQR of the temperature_c column\n",
    "# print(sales['temperature_c'].agg(iqr))\n",
    "\n",
    "# Update to print IQR and median of temperature_c, fuel_price_usd_per_l, & unemployment\n",
    "print(df[[\"Sales\", \"Quantity\", \"Discount\"]].agg([np.mean,np.median]))"
   ]
  },
  {
   "cell_type": "code",
   "execution_count": null,
   "metadata": {
    "colab": {
     "base_uri": "https://localhost:8080/"
    },
    "executionInfo": {
     "elapsed": 22,
     "status": "ok",
     "timestamp": 1634974674352,
     "user": {
      "displayName": "Shashank Raj",
      "photoUrl": "https://lh3.googleusercontent.com/a/default-user=s64",
      "userId": "10647275340804459091"
     },
     "user_tz": -330
    },
    "id": "vIsSxb2acAVO",
    "outputId": "c9900e5e-465c-4932-ac75-6f7253947a08"
   },
   "outputs": [],
   "source": [
    "## Cumulative Sum\n",
    "\n",
    "cond = df['Sales'] > 10000\n",
    "\n",
    "print(df['Sales'].cumsum().head())  #--> Returns the Cumulative sum of the values of the column. \n",
    "\n",
    "# We can also perform the following operations\n",
    "\n",
    "# .cummax()\n",
    "# .cummin()\n",
    "# .cumprod()"
   ]
  },
  {
   "cell_type": "code",
   "execution_count": null,
   "metadata": {
    "executionInfo": {
     "elapsed": 20,
     "status": "ok",
     "timestamp": 1634974674353,
     "user": {
      "displayName": "Shashank Raj",
      "photoUrl": "https://lh3.googleusercontent.com/a/default-user=s64",
      "userId": "10647275340804459091"
     },
     "user_tz": -330
    },
    "id": "F6cD9utKcAVP"
   },
   "outputs": [],
   "source": [
    "df_1 = df.sort_values('Order Date', ascending=False)"
   ]
  },
  {
   "cell_type": "code",
   "execution_count": null,
   "metadata": {
    "colab": {
     "base_uri": "https://localhost:8080/",
     "height": 671
    },
    "executionInfo": {
     "elapsed": 660,
     "status": "ok",
     "timestamp": 1634974674993,
     "user": {
      "displayName": "Shashank Raj",
      "photoUrl": "https://lh3.googleusercontent.com/a/default-user=s64",
      "userId": "10647275340804459091"
     },
     "user_tz": -330
    },
    "id": "sXCnr5vbcAVQ",
    "outputId": "74f6343f-9156-4310-98d5-cbeaf5c4ab9c"
   },
   "outputs": [],
   "source": [
    "df_1"
   ]
  },
  {
   "cell_type": "code",
   "execution_count": null,
   "metadata": {
    "colab": {
     "base_uri": "https://localhost:8080/",
     "height": 824
    },
    "executionInfo": {
     "elapsed": 24,
     "status": "ok",
     "timestamp": 1634974674995,
     "user": {
      "displayName": "Shashank Raj",
      "photoUrl": "https://lh3.googleusercontent.com/a/default-user=s64",
      "userId": "10647275340804459091"
     },
     "user_tz": -330
    },
    "id": "OLkcorlpcAVQ",
    "outputId": "c4014c7b-4133-4abf-ddf1-fca950933f76"
   },
   "outputs": [],
   "source": [
    "df_1['Cumulative Quantity'] = df['Quantity'].cumsum()\n",
    "df_1"
   ]
  },
  {
   "cell_type": "markdown",
   "metadata": {
    "id": "K48HUdPUcAVQ"
   },
   "source": [
    "## Counting"
   ]
  },
  {
   "cell_type": "code",
   "execution_count": null,
   "metadata": {
    "colab": {
     "base_uri": "https://localhost:8080/",
     "height": 173
    },
    "executionInfo": {
     "elapsed": 24,
     "status": "ok",
     "timestamp": 1634974674996,
     "user": {
      "displayName": "Shashank Raj",
      "photoUrl": "https://lh3.googleusercontent.com/a/default-user=s64",
      "userId": "10647275340804459091"
     },
     "user_tz": -330
    },
    "id": "rzOMfCSAcAVR",
    "outputId": "c586bf57-f88b-4528-c4ef-c1721cc5ad0e"
   },
   "outputs": [],
   "source": [
    "df.loc[:,[\"Segment\"]].drop_duplicates()"
   ]
  },
  {
   "cell_type": "code",
   "execution_count": null,
   "metadata": {
    "colab": {
     "base_uri": "https://localhost:8080/",
     "height": 563
    },
    "executionInfo": {
     "elapsed": 22,
     "status": "ok",
     "timestamp": 1634974674997,
     "user": {
      "displayName": "Shashank Raj",
      "photoUrl": "https://lh3.googleusercontent.com/a/default-user=s64",
      "userId": "10647275340804459091"
     },
     "user_tz": -330
    },
    "id": "m4oZD_IrcAVR",
    "outputId": "28cc1b7f-6765-42d7-cc13-376d92cbb47a"
   },
   "outputs": [],
   "source": [
    "## Dropping Duplicate \n",
    "\n",
    "df.loc[:].drop_duplicates(subset = ['Segment','Category'])"
   ]
  },
  {
   "cell_type": "code",
   "execution_count": null,
   "metadata": {
    "colab": {
     "base_uri": "https://localhost:8080/"
    },
    "executionInfo": {
     "elapsed": 22,
     "status": "ok",
     "timestamp": 1634974674998,
     "user": {
      "displayName": "Shashank Raj",
      "photoUrl": "https://lh3.googleusercontent.com/a/default-user=s64",
      "userId": "10647275340804459091"
     },
     "user_tz": -330
    },
    "id": "vjHPLFSOcAVS",
    "outputId": "f0b89047-ddc9-49f8-c892-6bdd706b8768"
   },
   "outputs": [],
   "source": [
    "## Counting the Occurances of a Value\n",
    "\n",
    "df['Segment'].value_counts().sort_values()"
   ]
  },
  {
   "cell_type": "code",
   "execution_count": null,
   "metadata": {
    "executionInfo": {
     "elapsed": 18,
     "status": "ok",
     "timestamp": 1634974674998,
     "user": {
      "displayName": "Shashank Raj",
      "photoUrl": "https://lh3.googleusercontent.com/a/default-user=s64",
      "userId": "10647275340804459091"
     },
     "user_tz": -330
    },
    "id": "KUq_zxHtcAVS"
   },
   "outputs": [],
   "source": [
    "## Getting Proportion of Sales, Programatically. \n",
    "\n",
    "df.groupby([\"Segment\",\"Category\"])[\"Sales\"].sum()/sum(df[\"Sales\"])"
   ]
  },
  {
   "cell_type": "code",
   "execution_count": null,
   "metadata": {},
   "outputs": [],
   "source": [
    "# For each Category type, aggregate weekly_sales: get min, max, mean, and median\n",
    "df.groupby(\"Category\")[\"Sales\"].agg([min,max,sum,np.mean,np.median])"
   ]
  },
  {
   "cell_type": "markdown",
   "metadata": {},
   "source": [
    "## Pivot Tables"
   ]
  },
  {
   "cell_type": "code",
   "execution_count": null,
   "metadata": {},
   "outputs": [],
   "source": [
    "df.pivot_table(values=[\"Sales\",\"Profit\"],index = [\"Segment\",\"Category\"],aggfunc=[np.mean,max])"
   ]
  },
  {
   "cell_type": "code",
   "execution_count": null,
   "metadata": {},
   "outputs": [],
   "source": [
    "df.pivot_table(values=\"Profit\",index = \"Category\",columns=\"Segment\")"
   ]
  },
  {
   "cell_type": "code",
   "execution_count": null,
   "metadata": {},
   "outputs": [],
   "source": [
    "# Print the mean weekly_sales by department and type; fill missing values with 0s; sum all rows and cols\n",
    "print(df.pivot_table(values=\"Sales\", index=\"State\", columns=\"Segment\", margins=True,fill_value=0,aggfunc=np.mean))"
   ]
  },
  {
   "cell_type": "code",
   "execution_count": null,
   "metadata": {},
   "outputs": [],
   "source": [
    "(301.50+391.76+125.46)/3"
   ]
  }
 ],
 "metadata": {
  "accelerator": "TPU",
  "colab": {
   "name": "pandas_section.ipynb",
   "provenance": []
  },
  "interpreter": {
   "hash": "f1cc5f0ce100780784a8549fccb73fa4d4a6eaa09aeab623fe19dd816a1cfbf1"
  },
  "kernelspec": {
   "display_name": "Python 3 (ipykernel)",
   "language": "python",
   "name": "python3"
  },
  "language_info": {
   "codemirror_mode": {
    "name": "ipython",
    "version": 3
   },
   "file_extension": ".py",
   "mimetype": "text/x-python",
   "name": "python",
   "nbconvert_exporter": "python",
   "pygments_lexer": "ipython3",
   "version": "3.10.1"
  }
 },
 "nbformat": 4,
 "nbformat_minor": 1
}
