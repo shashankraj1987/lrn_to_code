{
 "cells": [
  {
   "cell_type": "code",
   "execution_count": 15,
   "metadata": {},
   "outputs": [],
   "source": [
    "def max_val_arr(dict_a):\n",
    "    dict = {}\n",
    "    for val in dict_a:\n",
    "        if val in dict:\n",
    "            dict[val] += 1\n",
    "        else:\n",
    "            dict[val]=1\n",
    "    #print(dict)\n",
    "\n",
    "    max_iter = max(dict.values())\n",
    "    \n",
    "    for x in dict.keys():\n",
    "        if dict[x] == max_iter:\n",
    "            max_key = x\n",
    "            max_val = dict[x]\n",
    "\n",
    "    #print(max_key,max_val)\n",
    "    return max_key,max_val"
   ]
  },
  {
   "cell_type": "code",
   "execution_count": 16,
   "metadata": {},
   "outputs": [],
   "source": [
    "def solve (N,K,A):\n",
    "    arr = []\n",
    "\n",
    "    ret_vals = max_val_arr(A)\n",
    "    max_key = ret_vals[0]\n",
    "    max_val = ret_vals[1]\n",
    "    #print(max_key, max_val)\n",
    "\n",
    "    for vals in A:\n",
    "        if vals == max_key:\n",
    "            arr.append(vals)\n",
    "        else:\n",
    "            arr.append((max_key-vals)+vals)\n",
    "\n",
    "    ret_val = max_val_arr(arr)[1]\n",
    "    #print(ret_val)\n",
    "    return ret_val"
   ]
  },
  {
   "cell_type": "code",
   "execution_count": 17,
   "metadata": {},
   "outputs": [
    {
     "data": {
      "text/plain": [
       "3"
      ]
     },
     "execution_count": 17,
     "metadata": {},
     "output_type": "execute_result"
    }
   ],
   "source": [
    "solve(3,2,[1,3,2])"
   ]
  }
 ],
 "metadata": {
  "interpreter": {
   "hash": "51566a6452fa46aa58fd4f83c1c64917cf743f71110fdbc540a638c66b3982a4"
  },
  "kernelspec": {
   "display_name": "Python 3.10.2 64-bit (system)",
   "language": "python",
   "name": "python3"
  },
  "language_info": {
   "codemirror_mode": {
    "name": "ipython",
    "version": 3
   },
   "file_extension": ".py",
   "mimetype": "text/x-python",
   "name": "python",
   "nbconvert_exporter": "python",
   "pygments_lexer": "ipython3",
   "version": "3.10.2"
  },
  "orig_nbformat": 4
 },
 "nbformat": 4,
 "nbformat_minor": 2
}
