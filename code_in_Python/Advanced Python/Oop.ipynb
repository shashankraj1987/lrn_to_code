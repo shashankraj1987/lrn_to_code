{
 "cells": [
  {
   "cell_type": "markdown",
   "metadata": {},
   "source": [
    "# Object Oriented Programming (Python)"
   ]
  },
  {
   "cell_type": "markdown",
   "metadata": {},
   "source": [
    "Terms: \n",
    "    -- Function inside a class is called a Method. "
   ]
  },
  {
   "cell_type": "code",
   "execution_count": 1,
   "metadata": {},
   "outputs": [],
   "source": [
    "class person:\n",
    "    def __init__(self,name,add):\n",
    "        self.name = name\n",
    "        self.add = add\n",
    "\n",
    "# In the Above example, 'self.name' is not a variable, but a property of the object self."
   ]
  },
  {
   "cell_type": "markdown",
   "metadata": {},
   "source": [
    "### Magic Methods in Python"
   ]
  },
  {
   "cell_type": "code",
   "execution_count": 2,
   "metadata": {},
   "outputs": [
    {
     "name": "stdout",
     "output_type": "stream",
     "text": [
      "Tesla is the first item in the list \n",
      "Tesla\n",
      "Ford\n"
     ]
    }
   ],
   "source": [
    "# Class storing a list object\n",
    "\n",
    "class Garage:\n",
    "    def __init__(self):\n",
    "        self.car = []\n",
    "    \n",
    "    def __len__(self):\n",
    "        '''\n",
    "        This will return the length of the car index\n",
    "        '''\n",
    "        return len(self.car) \n",
    "\n",
    "    def __getitem__(self,i):\n",
    "        '''\n",
    "        This Will return the i'th item in the list car\n",
    "        '''\n",
    "        return self.car[i]\n",
    "    \n",
    "    def __repr__(self):\n",
    "        return f'Garage  containing {len(self.car)} cars'\n",
    "\n",
    "electric = Garage()\n",
    "\n",
    "electric.car.append(\"Tesla\")\n",
    "electric.car.append(\"Ford\")\n",
    "\n",
    "len(electric)\n",
    "\n",
    "\n",
    "print(electric[0]+\" is the first item in the list \")\n",
    "\n",
    "\n",
    "# Iterate over the list \n",
    "for item in electric:\n",
    "    print(item)\n",
    "\n",
    "## The above is possible due to the presence of the __getitem__ method. "
   ]
  },
  {
   "cell_type": "markdown",
   "metadata": {},
   "source": [
    "__repr__() <- returns the information about a class. \n",
    "\n",
    "__str__() <- Returns some useful information about the class."
   ]
  },
  {
   "cell_type": "code",
   "execution_count": 3,
   "metadata": {},
   "outputs": [
    {
     "data": {
      "text/plain": [
       "Garage  containing 2 cars"
      ]
     },
     "execution_count": 3,
     "metadata": {},
     "output_type": "execute_result"
    }
   ],
   "source": [
    "electric"
   ]
  },
  {
   "cell_type": "markdown",
   "metadata": {},
   "source": [
    "## Inheritence"
   ]
  },
  {
   "cell_type": "code",
   "execution_count": null,
   "metadata": {},
   "outputs": [],
   "source": []
  }
 ],
 "metadata": {
  "interpreter": {
   "hash": "1ea856f75c744b83ee05856dd1a145e8846d73b2689b503f4e3256f20a6fee7c"
  },
  "kernelspec": {
   "display_name": "Python 3.10.4 64-bit (system)",
   "language": "python",
   "name": "python3"
  },
  "language_info": {
   "codemirror_mode": {
    "name": "ipython",
    "version": 3
   },
   "file_extension": ".py",
   "mimetype": "text/x-python",
   "name": "python",
   "nbconvert_exporter": "python",
   "pygments_lexer": "ipython3",
   "version": "3.10.4"
  },
  "orig_nbformat": 4
 },
 "nbformat": 4,
 "nbformat_minor": 2
}
