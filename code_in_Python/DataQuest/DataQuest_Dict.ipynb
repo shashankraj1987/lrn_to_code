{
 "cells": [
  {
   "cell_type": "code",
   "execution_count": 20,
   "id": "6070d1b2-27de-44f3-9a9b-ef04060d429e",
   "metadata": {},
   "outputs": [],
   "source": [
    "opened_file = open('AppleStore.csv',mode = 'r', encoding='utf-8')\n",
    "from csv import reader\n",
    "read_file = reader(opened_file)\n",
    "apps_data = list(read_file)\n",
    "opened_file.close()"
   ]
  },
  {
   "cell_type": "code",
   "execution_count": 41,
   "id": "89bd7551-77bc-49df-8683-5b49a2d648c7",
   "metadata": {},
   "outputs": [
    {
     "name": "stdout",
     "output_type": "stream",
     "text": [
      "{'4+': 4433, '12+': 1155, '9+': 987, '17+': 622}\n"
     ]
    }
   ],
   "source": [
    "# content_ratings = {\"4+\":0,\"9+\":0,\"12+\":0,\"17+\":0}\n",
    "# \"4+\" in content_ratings.keys()\n",
    "\n",
    "content_ratings = {}\n",
    "\n",
    "for val in apps_data[1:]:     # This starts counting from the ssecond element\n",
    "    c_rating = val[10]\n",
    "    if c_rating in content_ratings.keys():\n",
    "        content_ratings[c_rating]+=1\n",
    "    else:\n",
    "        content_ratings[c_rating]=1\n",
    "\n",
    "print(content_ratings)"
   ]
  },
  {
   "cell_type": "code",
   "execution_count": 42,
   "id": "5c6abc9b-2049-44eb-b93e-324d96e42805",
   "metadata": {},
   "outputs": [
    {
     "data": {
      "text/plain": [
       "True"
      ]
     },
     "execution_count": 42,
     "metadata": {},
     "output_type": "execute_result"
    }
   ],
   "source": [
    "\"4+\" in content_ratings.keys()"
   ]
  },
  {
   "cell_type": "code",
   "execution_count": 36,
   "id": "52a301e6",
   "metadata": {},
   "outputs": [],
   "source": [
    "genre_counting = {}\n",
    "\n",
    "for val in apps_data[1:]:\n",
    "    genre = val[11]\n",
    "    if genre in genre_counting:\n",
    "        genre_counting[genre] +=1\n",
    "    else:\n",
    "        genre_counting[genre]= 1"
   ]
  },
  {
   "cell_type": "code",
   "execution_count": 39,
   "id": "f49e6e6e-02d6-4a0d-a823-a45e264e99c1",
   "metadata": {},
   "outputs": [
    {
     "data": {
      "text/plain": [
       "{'Social Networking': 167,\n",
       " 'Photo & Video': 349,\n",
       " 'Games': 3862,\n",
       " 'Music': 138,\n",
       " 'Reference': 64,\n",
       " 'Health & Fitness': 180,\n",
       " 'Weather': 72,\n",
       " 'Utilities': 248,\n",
       " 'Travel': 81,\n",
       " 'Shopping': 122,\n",
       " 'News': 75,\n",
       " 'Navigation': 46,\n",
       " 'Lifestyle': 144,\n",
       " 'Entertainment': 535,\n",
       " 'Food & Drink': 63,\n",
       " 'Sports': 114,\n",
       " 'Book': 112,\n",
       " 'Finance': 104,\n",
       " 'Education': 453,\n",
       " 'Productivity': 178,\n",
       " 'Business': 57,\n",
       " 'Catalogs': 10,\n",
       " 'Medical': 23}"
      ]
     },
     "execution_count": 39,
     "metadata": {},
     "output_type": "execute_result"
    }
   ],
   "source": [
    "genre_counting"
   ]
  },
  {
   "cell_type": "code",
   "execution_count": null,
   "id": "4773b7ae-a189-48df-86ef-426d15fc469e",
   "metadata": {},
   "outputs": [],
   "source": [
    "total = 0\n",
    "for vals in genre_counting.values():\n",
    "    total += vals\n",
    "print(total)\n",
    "\n",
    "genre_prop = {}\n",
    "for keys in genre_counting.keys():\n",
    "    genre_prop[keys] = (genre_counting[keys]/total)*100\n",
    "\n",
    "genre_prop"
   ]
  },
  {
   "cell_type": "code",
   "execution_count": null,
   "id": "8be2038b-ad1d-41cc-8283-928138241b71",
   "metadata": {},
   "outputs": [],
   "source": [
    "def two_fer(name=\"\"):\n",
    "    pass\n",
    "    if name:\n",
    "        return f'test {name}'\n",
    "    else:\n",
    "        return \"test\"\n"
   ]
  },
  {
   "cell_type": "code",
   "execution_count": null,
   "id": "c4588f02-31c6-41cc-b507-87d2743d0065",
   "metadata": {},
   "outputs": [],
   "source": [
    "two_fer(\"shashank\")"
   ]
  },
  {
   "cell_type": "code",
   "execution_count": null,
   "id": "3ac746b8-e818-41b0-90c9-5f603148983c",
   "metadata": {},
   "outputs": [],
   "source": [
    "# TODO: define the 'EXPECTED_BAKE_TIME' constant\n",
    "# TODO: consider defining the 'PREPARATION_TIME' constant\n",
    "#       equal to the time it takes to prepare a single layer\n",
    "EXPECTED_BAKE_TIME = 40\n",
    "\n",
    "# TODO: define the 'bake_time_remaining()' function\n",
    "def bake_time_remaining(elapsed_bake_time):\n",
    "    \"\"\"Calculate the bake time remaining.\n",
    "    :param elapsed_bake_time: int baking time already elapsed.\n",
    "    :return: int remaining bake time derived from 'EXPECTED_BAKE_TIME'.\n",
    "\n",
    "    Function that takes the actual minutes the lasagna has been in the oven as\n",
    "    an argument and returns how many minutes the lasagna still needs to bake\n",
    "    based on the `EXPECTED_BAKE_TIME`.\n",
    "    \"\"\"\n",
    "    if EXPECTED_BAKE_TIME - elapsed_bake_time >= 0:\n",
    "        return EXPECTED_BAKE_TIME - elapsed_bake_time\n",
    "\n",
    "# TODO: define the 'preparation_time_in_minutes()' function\n",
    "#       and consider using 'PREPARATION_TIME' here\n",
    "\n",
    "# TODO: define the 'elapsed_time_in_minutes()' function\n",
    "def preparation_time_in_minutes(layers):\n",
    "    return layers*2\n",
    "\n",
    "def elapsed_time_in_minutes(number_of_layers ,elapsed_bake_time):\n",
    "    \"\"\"\n",
    "    Return elapsed cooking time.\n",
    "    This function takes two numbers representing the number of layers & the time already     spent baking and calculates the total elapsed minutes spent cooking the lasagna.\n",
    "    \"\"\"\n",
    "    tot_layers = preparation_time_in_minutes(number_of_layers)\n",
    "    return tot_layers+elapsed_bake_time\n",
    "    "
   ]
  },
  {
   "cell_type": "code",
   "execution_count": null,
   "id": "a3781900-4469-462e-a59b-afea0a45f2b3",
   "metadata": {},
   "outputs": [],
   "source": [
    "elapsed_time_in_minutes(3,20)"
   ]
  },
  {
   "cell_type": "markdown",
   "id": "d8128706",
   "metadata": {},
   "source": [
    "### Creating Frequency Tables usin Intervals rather than values"
   ]
  },
  {
   "cell_type": "code",
   "execution_count": 22,
   "id": "07359515",
   "metadata": {},
   "outputs": [
    {
     "name": "stdout",
     "output_type": "stream",
     "text": [
      "4025969664.0\n",
      "589824.0\n"
     ]
    }
   ],
   "source": [
    "size_bytes = []\n",
    "size = 0.0\n",
    "\n",
    "for i in apps_data:\n",
    "    if i[2] == \"size_bytes\":\n",
    "        pass\n",
    "    else:\n",
    "        size = i[2]\n",
    "        size_bytes.append(float(size)) ## This is important, or else Python will add them as strings\n",
    "\n",
    "print(max(size_bytes))\n",
    "print(min(size_bytes))"
   ]
  },
  {
   "cell_type": "code",
   "execution_count": 50,
   "id": "9ccf0b02",
   "metadata": {},
   "outputs": [
    {
     "name": "stdout",
     "output_type": "stream",
     "text": [
      "2974676 0\n"
     ]
    }
   ],
   "source": [
    "ratings_count_tot = []\n",
    "\n",
    "for row in apps_data[1:]:\n",
    "    ratings_count_tot.append(int(row[5]))\n",
    "\n",
    "max_rating_count = max(ratings_count_tot)\n",
    "min_rating_count = min(ratings_count_tot)\n",
    "\n",
    "print(max_rating_count,min_rating_count)"
   ]
  },
  {
   "cell_type": "code",
   "execution_count": 51,
   "id": "c56d3222",
   "metadata": {},
   "outputs": [
    {
     "data": {
      "text/plain": [
       "{'0-100': 2708, '100-1000': 1889, '1000-100000': 2382, '100000+': 218}"
      ]
     },
     "execution_count": 51,
     "metadata": {},
     "output_type": "execute_result"
    }
   ],
   "source": [
    "dict_rating_count = {\"0-100\":0,\"100-1000\":0,\"1000-100000\":0,\"100000+\":0}\n",
    "\n",
    "for val in ratings_count_tot:\n",
    "    if val <=100:\n",
    "        dict_rating_count[\"0-100\"]+=1\n",
    "    elif 100 < val <= 1000:\n",
    "        dict_rating_count[\"100-1000\"]+=1\n",
    "    elif 1000 < val <= 100000:\n",
    "        dict_rating_count[\"1000-100000\"]+=1\n",
    "    else:\n",
    "        dict_rating_count[\"100000+\"]+=1\n",
    "\n",
    "dict_rating_count"
   ]
  }
 ],
 "metadata": {
  "kernelspec": {
   "display_name": "Python 3 (ipykernel)",
   "language": "python",
   "name": "python3"
  },
  "language_info": {
   "codemirror_mode": {
    "name": "ipython",
    "version": 3
   },
   "file_extension": ".py",
   "mimetype": "text/x-python",
   "name": "python",
   "nbconvert_exporter": "python",
   "pygments_lexer": "ipython3",
   "version": "3.9.6"
  }
 },
 "nbformat": 4,
 "nbformat_minor": 5
}
