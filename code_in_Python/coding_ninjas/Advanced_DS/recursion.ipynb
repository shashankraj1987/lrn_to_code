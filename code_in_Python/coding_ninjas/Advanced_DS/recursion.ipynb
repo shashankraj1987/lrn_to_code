{
 "cells": [
  {
   "cell_type": "markdown",
   "metadata": {},
   "source": [
    "# Recursion"
   ]
  },
  {
   "cell_type": "markdown",
   "metadata": {},
   "source": [
    "### Write Recursion in 3 Steps"
   ]
  },
  {
   "cell_type": "code",
   "execution_count": 1,
   "metadata": {},
   "outputs": [],
   "source": [
    "## Imports \n",
    "\n",
    "from typing import List"
   ]
  },
  {
   "cell_type": "code",
   "execution_count": null,
   "metadata": {},
   "outputs": [],
   "source": [
    "## Factorial \n",
    "\n",
    "# It is a product of all positive numbers, less than or equal to n\n",
    "# It is applied only on positive numbers\n",
    "# Factorial of 0 and 1 is 1\n",
    "# fact(n) = n*(n-1)*(n-2)*...2*1\n",
    "\n",
    "def fact(n):\n",
    "    assert int(n) == n and n >=0, \" Input Should be positive Integer \"\n",
    "    if n in [0,1]:\n",
    "        return 1\n",
    "    else:\n",
    "        return fact(n-1)*n\n",
    "\n",
    "print(fact(10))\n"
   ]
  },
  {
   "cell_type": "code",
   "execution_count": null,
   "metadata": {},
   "outputs": [],
   "source": [
    "# Fibonacci Series \n",
    "# n fibonacci numbers are : 0,1,1,2,3,5,8,13,21,34,55,89 ... n\n",
    "\n",
    "# Recursive case : fib(n) = fib(n-1)+fib(n-2)\n",
    "\n",
    "def fib_arr(num:int):\n",
    "    assert int(num) == num and num >=0, \" Input Should be positive Integer only\"\n",
    "    arr = []\n",
    "    def fib(n):\n",
    "        \n",
    "        if n in [0,1]:\n",
    "            return n\n",
    "        else:\n",
    "            return fib(n-1)+fib(n-2)\n",
    "    for val in range(num):\n",
    "        arr.append(fib(val))\n",
    "    \n",
    "    return arr\n",
    "    \n",
    "print(fib_arr(10))"
   ]
  },
  {
   "cell_type": "markdown",
   "metadata": {},
   "source": [
    "### Find the Sum of Digits of a positive integer using recursion. "
   ]
  },
  {
   "cell_type": "code",
   "execution_count": null,
   "metadata": {},
   "outputs": [],
   "source": [
    "# Input - 3256\n",
    "# Output - 3+2+5+6 = 16\n",
    "# 3256 % 10 = 6\n",
    "# 3256 // 10 = 325\n",
    "# 3256 / 10 = 325.6\n",
    "\n",
    "def sum_digits(num):\n",
    "    assert num > 0 and int(num) == num, \"Number should be a possitive integer only\"\n",
    "    if len(str(num)) == 1:\n",
    "        return num\n",
    "    elif num == 0:\n",
    "        return num\n",
    "    else:\n",
    "        return num%10 + sum_digits(num // 10)\n",
    "\n",
    "sum_digits(7)"
   ]
  },
  {
   "cell_type": "markdown",
   "metadata": {},
   "source": [
    "### Calculate the Power of a number using Recursion. "
   ]
  },
  {
   "cell_type": "code",
   "execution_count": null,
   "metadata": {},
   "outputs": [],
   "source": [
    "#  pwr(2,3) = 2*2*2 = 8\n",
    "\n",
    "def pwr(base,exp):\n",
    "    assert exp > 0 and int(exp) == exp, \"Power should be a possitive integer only\"\n",
    "    if exp == 0:\n",
    "        return 1\n",
    "    elif exp == 1:\n",
    "        return base\n",
    "    return base*pwr(base,exp-1)\n",
    "\n",
    "pwr(-2.2,3)"
   ]
  },
  {
   "cell_type": "markdown",
   "metadata": {},
   "source": [
    "## Examples from Coding Ninjas"
   ]
  },
  {
   "cell_type": "code",
   "execution_count": null,
   "metadata": {},
   "outputs": [],
   "source": [
    "## Multiplication as Recursion \n",
    "\n",
    "def num_pow(x,y):\n",
    "    if y == 0:\n",
    "        return 1\n",
    "    elif y == 1:\n",
    "        return x\n",
    "    else:\n",
    "        return x*num_pow(x,y-1)\n",
    "\n",
    "\n",
    "print(num_pow(2,5))"
   ]
  },
  {
   "cell_type": "code",
   "execution_count": null,
   "metadata": {},
   "outputs": [],
   "source": [
    "import sys\n",
    "sys.set_int_max_str_digits(5000) ## This takes care of long output \n",
    "sys.setrecursionlimit(3000)       ## This takes care in case we want to increase recursion limit. \n",
    "\n",
    "\n",
    "def rec_fact(n):\n",
    "    if n == 1 or n == 0:\n",
    "        return 1\n",
    "    else:\n",
    "        return n*rec_fact(n-1)\n",
    "\n",
    "print(rec_fact(1600))"
   ]
  },
  {
   "cell_type": "markdown",
   "metadata": {},
   "source": [
    "#### Checking if a List is sorted or not using Recursion. "
   ]
  },
  {
   "cell_type": "code",
   "execution_count": null,
   "metadata": {},
   "outputs": [],
   "source": [
    "# Heavy Space and Time Requirement \n",
    "\n",
    "def isSorted(a):\n",
    "    l = len(a)\n",
    "    if l == 0 or l == 1:\n",
    "        return True\n",
    "\n",
    "    if a[0] > a[1]:\n",
    "        return False\n",
    "\n",
    "    smaller_list = a[1:]\n",
    "    is_smaller_sorted = isSorted(smaller_list)\n",
    "    return is_smaller_sorted\n",
    "\n",
    "isSorted([1,2,3,4,5,6])"
   ]
  },
  {
   "cell_type": "code",
   "execution_count": null,
   "metadata": {},
   "outputs": [],
   "source": [
    "# Check is a List is sorted or not, without using another array \n",
    "\n",
    "\n",
    "def is_sorted2(arr: List[int], ind: int) -> bool:\n",
    "    l = len(arr)\n",
    "    if ind == l-1 or l == 1:\n",
    "        return True\n",
    "\n",
    "    if arr[ind] > arr[ind+1]:\n",
    "        return False\n",
    "\n",
    "    smaller_sorted = is_sorted2(arr,ind + 1)\n",
    "    return smaller_sorted\n",
    "\n",
    "a = [1,2,30,2,1]\n",
    "print(is_sorted2(a,0))"
   ]
  },
  {
   "cell_type": "code",
   "execution_count": null,
   "metadata": {},
   "outputs": [],
   "source": [
    "## Find the Sum of an Array using recursion \n",
    "\n",
    "def rec_sum_arr(a: List[int]) -> int:\n",
    "    l = len(a)\n",
    "    if l == 0:\n",
    "        return 0\n",
    "    \n",
    "    if l == 1:\n",
    "        return a[0]\n",
    "\n",
    "    return a[0]+rec_sum_arr(a[1:])\n",
    "\n",
    "arr = [1,2,3,2,3,5]\n",
    "print(rec_sum_arr(arr))"
   ]
  },
  {
   "cell_type": "code",
   "execution_count": null,
   "metadata": {},
   "outputs": [],
   "source": [
    "## Find if a number exists in an array or not\n",
    "\n",
    "from typing import List\n",
    "\n",
    "def check_num(arr: List, x: int) -> bool:\n",
    "    l = len(arr)\n",
    "    if l == 0:\n",
    "        return False\n",
    "    \n",
    "    if l == 1 & arr[0] != x:\n",
    "        return False\n",
    "\n",
    "    \n",
    "\n",
    "print(check_num([9,8,10],8))"
   ]
  },
  {
   "cell_type": "code",
   "execution_count": null,
   "metadata": {},
   "outputs": [],
   "source": [
    "## Check number in an array \n",
    "\n",
    "from typing import List\n",
    "\n",
    "def rec_find_num(arr: List[int], pos:int,num: int) -> bool:\n",
    "    l = len(arr)\n",
    "\n",
    "    if l == 0 or (pos == l & arr[pos] != num):\n",
    "        return False\n",
    "\n",
    "    if arr[pos] == num:\n",
    "        return True\n",
    "    \n",
    "    find_smaller = rec_find_num(arr,pos+1,num)\n",
    "    return find_smaller\n",
    "\n",
    "def rec_find_num_dup_arr(arr: List[int], num: int) -> bool:\n",
    "    l = len(arr)\n",
    "\n",
    "    if l == 0 or (l == 1 & arr[0] != num):\n",
    "        return False\n",
    "\n",
    "    if arr[0] == num:\n",
    "        return True\n",
    "\n",
    "    smaller_arr = arr[1:]\n",
    "    find_smaller = rec_find_num_dup_arr(smaller_arr,num)\n",
    "    return find_smaller\n",
    "\n",
    "\n",
    "# print(rec_find_num([9,8,10],0,8))\n",
    "print(rec_find_num_dup_arr([9,8,10],8))"
   ]
  },
  {
   "cell_type": "code",
   "execution_count": null,
   "metadata": {},
   "outputs": [],
   "source": [
    "## Find the first Index of a Number\n",
    "\n",
    "from typing import List\n",
    "\n",
    "def firstIndex(arr: List[int],x:int) -> int:\n",
    "    l = len(arr)\n",
    "\n",
    "    if l == 0:\n",
    "        return -1\n",
    "\n",
    "    if arr[0] == x:\n",
    "        return 0\n",
    "    \n",
    "    small_list = arr[1:]\n",
    "    output = firstIndex(small_list,x)\n",
    "\n",
    "    if output == -1:\n",
    "        return -1 \n",
    "    else:\n",
    "        return output+1  # This step adds the index from the inner loop to the outer one and\n",
    "                        # gives the final location. \n",
    "\n",
    "print(firstIndex([9,8,10,8,3,9],3))\n",
    "    \n"
   ]
  },
  {
   "cell_type": "code",
   "execution_count": null,
   "metadata": {},
   "outputs": [],
   "source": [
    "## Find the Last index of a Number\n",
    "\n",
    "def lastIndex(arr,x):\n",
    "    l = len(arr)\n",
    "    \n",
    "    if l == 0:\n",
    "        return -1\n",
    "\n",
    "    small_list = arr[1:]\n",
    "\n",
    "    out_put = lastIndex(small_list,x)\n",
    "    \n",
    "    if out_put != -1:\n",
    "        return out_put+1\n",
    "    else:\n",
    "        if arr[0] == x:\n",
    "            return 0\n",
    "        else:\n",
    "            return -1\n",
    "\n",
    "print(lastIndex([1,3,2,4,2],2))"
   ]
  },
  {
   "cell_type": "markdown",
   "metadata": {},
   "source": [
    "## Recursion Advanced"
   ]
  },
  {
   "cell_type": "code",
   "execution_count": null,
   "metadata": {},
   "outputs": [],
   "source": [
    "# Character replacement using recursion \n",
    "\n",
    "def rec_replace_char(string: str,to_replace:str, wrd: str) -> str:\n",
    "    if len(string) == 0:\n",
    "        return string\n",
    "\n",
    "    small_output = rec_replace_char(string[1:],to_replace,wrd)\n",
    "\n",
    "    if string[0] == to_replace:\n",
    "        return wrd + small_output\n",
    "    else:\n",
    "        # return string[0]+small_output\n",
    "        return string[0]+small_output\n",
    "\n",
    "\n",
    "print(rec_replace_char(\"abcdebff\",\"b\",\"x\"))"
   ]
  },
  {
   "cell_type": "code",
   "execution_count": null,
   "metadata": {},
   "outputs": [],
   "source": [
    "# Remove \"X\" from a string\n",
    "\n",
    "def rec_remove_x(string: str)-> str:\n",
    "    l = len(string)\n",
    "\n",
    "    if l == 0:\n",
    "        return string\n",
    "\n",
    "    small_string = rec_remove_x(string[1:])\n",
    "\n",
    "    if string[0] == \"x\":\n",
    "        return small_string\n",
    "    else:\n",
    "        return string[0]+small_string\n",
    "\n",
    "print(rec_remove_x(\"xx\"))\n"
   ]
  },
  {
   "cell_type": "code",
   "execution_count": 1,
   "metadata": {},
   "outputs": [
    {
     "name": "stdout",
     "output_type": "stream",
     "text": [
      "abcd\n"
     ]
    }
   ],
   "source": [
    "## Remove Duplicated Recursively \n",
    "\n",
    "def rec_remove_duplicate(string: str) -> str:\n",
    "    l = len(string)\n",
    "\n",
    "    if l == 0 or l == 1:\n",
    "        return string\n",
    "\n",
    "    small_string = rec_remove_duplicate(string[1:])\n",
    "\n",
    "    if string[0] == small_string[0]:\n",
    "        return small_string\n",
    "    else:\n",
    "        return string[0]+small_string\n",
    "\n",
    "print(rec_remove_duplicate(\"aabccd\"))"
   ]
  },
  {
   "cell_type": "markdown",
   "metadata": {},
   "source": [
    "## Sorting Algorithms"
   ]
  },
  {
   "cell_type": "code",
   "execution_count": null,
   "metadata": {},
   "outputs": [],
   "source": [
    "# Binary Search \n",
    "\n"
   ]
  },
  {
   "cell_type": "code",
   "execution_count": 4,
   "metadata": {},
   "outputs": [
    {
     "name": "stdout",
     "output_type": "stream",
     "text": [
      "[1, 2, 4, 6, 8, 9]\n"
     ]
    }
   ],
   "source": [
    "# Merge Sort \n",
    "# :TODO: Understand this properly. \n",
    "\n",
    "from typing import List\n",
    "\n",
    "\n",
    "def merge_arr(a1:List[int],a2:List[int],a:List[int]) -> None:\n",
    "    i,j,k=0,0,0\n",
    "\n",
    "    while i < len(a1) and j <len(a2):\n",
    "        if a1[i] < a2[j]:\n",
    "            a[k] = a1[i]\n",
    "            k+=1\n",
    "            i+=1\n",
    "        else:\n",
    "            a[k] = a2[j]\n",
    "            j+=1\n",
    "            k+=1\n",
    "    \n",
    "    while i < len(a1):\n",
    "        a[k] = a1[i]\n",
    "        k+=1\n",
    "        i+=1\n",
    "    \n",
    "    while j < len(a2):\n",
    "        a[k] = a2[j]\n",
    "        j+=1\n",
    "        k+=1\n",
    "\n",
    "\n",
    "def mergeSort(arr: List[int]) -> None:\n",
    "\n",
    "    if len(arr) == 0 or len(arr) == 1:\n",
    "        return\n",
    "\n",
    "    mid = len(arr)//2 \n",
    "\n",
    "    s1 = arr[0:mid]\n",
    "    s2 = arr[mid:]\n",
    "\n",
    "    mergeSort(s1)\n",
    "    mergeSort(s2)\n",
    "\n",
    "    merge_arr(s1,s2,arr)\n",
    "\n",
    "lst = [1,8,2,6,4,9]\n",
    "mergeSort(lst)\n",
    "print(lst)\n"
   ]
  },
  {
   "cell_type": "code",
   "execution_count": 13,
   "metadata": {},
   "outputs": [
    {
     "name": "stdout",
     "output_type": "stream",
     "text": [
      "[1, 2, 4, 6, 8, 9]\n"
     ]
    }
   ],
   "source": [
    "# Quick Sort \n",
    "# Better than Insertion, Merge and Selection. \n",
    "# TODO: Understand the code here. \n",
    "\n",
    "from typing import List\n",
    "\n",
    "def partition(a:List[int],si:int,ei:int) -> int:\n",
    "    p = a[si]\n",
    "    c = 0\n",
    "    \n",
    "    for i in range(si,ei+1):\n",
    "        if a[i] < p:\n",
    "            c+=1\n",
    "    \n",
    "    a[si+c],a[si] = a[si],a[si+c]\n",
    "\n",
    "    i = si\n",
    "    j = ei\n",
    "\n",
    "    while i < j:\n",
    "        if a[i] < p:\n",
    "            i+=1\n",
    "        elif a[j] >= p:\n",
    "            j-=1\n",
    "        else:\n",
    "            a[i],a[j] = a[j],a[i]\n",
    "            i+=1\n",
    "            j-=1\n",
    "    \n",
    "    return si+c\n",
    "\n",
    "def rec_quick_sort(arr:List[int],s:int,e:int) -> None:\n",
    "    if s >= e:\n",
    "        return \n",
    "    \n",
    "    pivot = partition(arr,s,e)\n",
    "    rec_quick_sort(arr,s,pivot-1)\n",
    "    rec_quick_sort(arr,pivot+1,e)\n",
    "\n",
    "\n",
    "a2 = [8,2,1,6,4,9]\n",
    "rec_quick_sort(a2,0,len(a2)-1)\n",
    "\n",
    "print(a2)"
   ]
  },
  {
   "cell_type": "code",
   "execution_count": 16,
   "metadata": {},
   "outputs": [
    {
     "name": "stdout",
     "output_type": "stream",
     "text": [
      "1 6 43 62 96 96 99 125 158 223 236 243 258 276 279 299 352 360 398 412 414 442 473 481 546 558 591 597 602 633 662 682 714 794 801 804 813 847 895 957 961 993 996 1008 1009 1093 1138 1143 1148 1157 1171 1194 1236 1245 1266 1283 1303 1327 1363 1364 1371 1448 1466 1488 1492 1494 1501 1518 1518 1535 1551 1576 1582 1593 1608 1612 1619 1630 1638 1657 1661 1716 1755 1757 1827 1852 1856 1859 1908 1911 1952 1982 1999 2023 2034 2036 2058 2084 2090 2112 2155 2157 2161 2200 2221 2242 2252 2283 2292 2293 2301 2306 2325 2330 2353 2365 2388 2394 2402 2402 2425 2500 2517 2533 2542 2548 2558 2588 2594 2612 2618 2630 2639 2702 2707 2708 2716 2724 2738 2750 2761 2780 2804 2846 2887 2894 2903 2947 2967 2976 2991 2994 3046 3061 3077 3127 3175 3195 3230 3257 3275 3299 3305 3340 3341 3405 3434 3435 3436 3450 3451 3469 3486 3511 3513 3525 3534 3574 3574 3618 3643 3645 3654 3672 3714 3727 3732 3734 3735 3752 3808 3852 3854 3857 3878 3880 3898 3902 3907 3988 3989 3990 4003 4011 4043 4093 4107 4130 4140 4159 4166 4203 4255 4259 4270 4288 4297 4307 4312 4328 4351 4351 4366 4412 4417 4450 4474 4508 4519 4545 4548 4559 4569 4591 4622 4630 4665 4734 4748 4748 4752 4755 4770 4824 4837 4876 4930 4953\n"
     ]
    }
   ],
   "source": [
    "\n",
    "# Solution posted on Coding Ninjas\n",
    "\n",
    "def partition(a:List[int],si:int,ei:int) -> int:\n",
    "    p = a[si]\n",
    "    c = 0\n",
    "    \n",
    "    for i in range(si,ei+1):\n",
    "        if a[i] < p:\n",
    "            c+=1\n",
    "    \n",
    "    a[si+c],a[si] = a[si],a[si+c]\n",
    "\n",
    "    i = si\n",
    "    j = ei\n",
    "\n",
    "    while i < j:\n",
    "        if a[i] < p:\n",
    "            i+=1\n",
    "        elif a[j] >= p:\n",
    "            j-=1\n",
    "        else:\n",
    "            a[i],a[j] = a[j],a[i]\n",
    "            i+=1\n",
    "            j-=1\n",
    "    \n",
    "    return si+c\n",
    "\n",
    "def rec_quick_sort(arr:List[int],s:int,e:int) -> None:\n",
    "    if s >= e:\n",
    "        return \n",
    "    \n",
    "    pivot = partition(arr,s,e)\n",
    "    rec_quick_sort(arr,s,pivot-1)\n",
    "    rec_quick_sort(arr,pivot+1,e)\n",
    "\n",
    "n=int(input())\n",
    "arr=list(int(i) for i in input().strip().split(' '))\n",
    "rec_quick_sort(arr, 0, len(arr)-1)\n",
    "print(*arr)"
   ]
  }
 ],
 "metadata": {
  "kernelspec": {
   "display_name": "Python 3.10.6 ('base_3.10')",
   "language": "python",
   "name": "python3"
  },
  "language_info": {
   "codemirror_mode": {
    "name": "ipython",
    "version": 3
   },
   "file_extension": ".py",
   "mimetype": "text/x-python",
   "name": "python",
   "nbconvert_exporter": "python",
   "pygments_lexer": "ipython3",
   "version": "3.10.6"
  },
  "orig_nbformat": 4,
  "vscode": {
   "interpreter": {
    "hash": "b69274b327b8ccc6d5153ebb758a5a4aa69943b8d839ce796915123502b92e21"
   }
  }
 },
 "nbformat": 4,
 "nbformat_minor": 2
}
