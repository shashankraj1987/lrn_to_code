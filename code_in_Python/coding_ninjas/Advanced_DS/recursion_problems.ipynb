{
 "cells": [
  {
   "cell_type": "markdown",
   "metadata": {},
   "source": [
    "# Recursion Problems"
   ]
  },
  {
   "cell_type": "code",
   "execution_count": 1,
   "metadata": {},
   "outputs": [],
   "source": [
    "from typing import List"
   ]
  },
  {
   "cell_type": "code",
   "execution_count": 5,
   "metadata": {},
   "outputs": [
    {
     "name": "stdout",
     "output_type": "stream",
     "text": [
      "1.93750\n"
     ]
    }
   ],
   "source": [
    "# Geometric Sum using recursion \n",
    "# Given an integer k, find - (1 + 1/2 + 1/4 + 1/8 + ... + 1/(2^k) ) using recursion\n",
    "# :NOTE: Output should be upto 5 decimal places\n",
    "\n",
    "def rec_geo_sum(k:float) -> float:\n",
    "    if k <= 0:\n",
    "        return 1\n",
    "    else:\n",
    "        return (1/(2**k))+rec_geo_sum(k-1)\n",
    "\n",
    "def main():\n",
    "    val = int(input())\n",
    "    output = rec_geo_sum(val)\n",
    "    print(\"{:.5f}\".format(output))\n",
    "    \n",
    "if __name__==\"__main__\":\n",
    "    main()"
   ]
  },
  {
   "cell_type": "code",
   "execution_count": 14,
   "metadata": {},
   "outputs": [
    {
     "name": "stdout",
     "output_type": "stream",
     "text": [
      "15\n"
     ]
    }
   ],
   "source": [
    "# Write a recursive function that returns the sum of the digits of a given integer.\n",
    "\n",
    "\n",
    "def rec_sum_digits(n:int) -> int:\n",
    "    if n//10 == 0:\n",
    "        return n\n",
    "\n",
    "    return  n%10 + rec_sum_digits(n//10)\n",
    "\n",
    "print(rec_sum_digits(12345))"
   ]
  },
  {
   "cell_type": "code",
   "execution_count": 26,
   "metadata": {},
   "outputs": [
    {
     "name": "stdout",
     "output_type": "stream",
     "text": [
      "21\n"
     ]
    }
   ],
   "source": [
    "# Perform multiplication of two numbers using + and - only \n",
    "\n",
    "from sys import setrecursionlimit\n",
    "setrecursionlimit(10**6)\n",
    "\n",
    "def rec_mul(n,m):\n",
    "    if m == 1:\n",
    "        return n\n",
    "    elif m < 0 or n < 0:\n",
    "        return 0\n",
    "    \n",
    "    return n+rec_mul(n,m-1)\n",
    "\n",
    "def main():\n",
    "    n = int(input())\n",
    "    m = int(input())\n",
    "    if int(n) == n and int(m)== m and m >= 0:\n",
    "        print(rec_mul(n,m))\n",
    "    elif int(n) == n and int(m)== m and n >=0 and m < 0:\n",
    "        print(0)\n",
    "    \n",
    "if __name__ == '__main__':\n",
    "    main()\n"
   ]
  },
  {
   "cell_type": "code",
   "execution_count": 36,
   "metadata": {},
   "outputs": [
    {
     "name": "stdout",
     "output_type": "stream",
     "text": [
      "true\n"
     ]
    }
   ],
   "source": [
    "# Check Palindrome Recursive\n",
    "\n",
    "def isPalindrome(s):\n",
    "\ts = s.lower()\n",
    "\tl = len(s)\n",
    "\tif l < 2:\n",
    "\t\treturn \"true\"\n",
    "\telif s[0] == s[l - 1]:\n",
    "\t\treturn isPalindrome(s[1:l-1])\n",
    "\telse:\n",
    "\t\treturn \"false\"\n",
    "\n",
    "print(isPalindrome(\"nn\"))"
   ]
  },
  {
   "cell_type": "code",
   "execution_count": 104,
   "metadata": {},
   "outputs": [
    {
     "name": "stdout",
     "output_type": "stream",
     "text": [
      "2\n"
     ]
    }
   ],
   "source": [
    "# Count Zeroes Recursively \n",
    "\n",
    "def count_zeroes(n):\n",
    "    if n >= 1 and n <=9:\n",
    "        return 0\n",
    "    \n",
    "    if n == 0:\n",
    "        return 1\n",
    "    \n",
    "    ans = count_zeroes(n//10)\n",
    "\n",
    "    if n % 10 == 0:\n",
    "        return ans+1\n",
    "    else:\n",
    "        return ans\n",
    "\n",
    "print(count_zeroes(1001))"
   ]
  },
  {
   "cell_type": "code",
   "execution_count": 4,
   "metadata": {},
   "outputs": [
    {
     "name": "stdout",
     "output_type": "stream",
     "text": [
      "12345\n"
     ]
    }
   ],
   "source": [
    "# Convert String to Integer \n",
    "# TODO: No Clue whatsoever. Need to check. \n",
    "\n",
    "def stringToInt(str):\n",
    " \n",
    "    # If the number represented as a string\n",
    "    # contains only a single digit\n",
    "    # then returns its value\n",
    "    if (len(str) == 1):\n",
    "        return ord(str[0]) - ord('0')\n",
    " \n",
    "    # Recursive call for the sub-string\n",
    "    # starting at the second character\n",
    "    y = stringToInt(str[1:])\n",
    " \n",
    "    # First digit of the number\n",
    "    x = ord(str[0]) - ord('0')\n",
    " \n",
    "    # First digit multiplied by the\n",
    "    # appropriate power of 10 and then\n",
    "    # add the recursive result\n",
    "    # For example, xy = ((x * 10) + y)\n",
    "    x = x * (10**(len(str) - 1)) + y\n",
    "    return x\n",
    "\n",
    "print(stringToInt(\"0012345\"))"
   ]
  },
  {
   "cell_type": "code",
   "execution_count": 44,
   "metadata": {},
   "outputs": [
    {
     "name": "stdout",
     "output_type": "stream",
     "text": [
      "a*a*a\n",
      "hel*lo\n"
     ]
    }
   ],
   "source": [
    "# Replace a Pair word with a *\n",
    "# TODO: Understand this. \n",
    "\n",
    "\n",
    "def replace_pair(string: str) -> str:\n",
    "    l = len(string)\n",
    "\n",
    "    if l == 0 or l == 1:\n",
    "        return string\n",
    "    \n",
    "    if string[0] == string[1] and string[1] != '*':\n",
    "        small = replace_pair(string[1:])\n",
    "        # return string[0]+'*'+string[1]+small\n",
    "        return string[0]+'*'+small\n",
    "\n",
    "    else:\n",
    "        small = replace_pair(string[1:])\n",
    "        return string[0]+small\n",
    "\n",
    "print(replace_pair(\"aaa\"))\n",
    "print(replace_pair(\"hello\"))"
   ]
  },
  {
   "cell_type": "code",
   "execution_count": 50,
   "metadata": {},
   "outputs": [
    {
     "name": "stdout",
     "output_type": "stream",
     "text": [
      "False\n"
     ]
    }
   ],
   "source": [
    "# Check ab \n",
    "# TODO: #NOTE:noClue how this worked. \n",
    "'''\n",
    "Suppose you have a string, S, made up of only 'a's and 'b's. Write a recursive function that checks if the string was generated using the following rules:\n",
    "a. The string begins with an 'a'\n",
    "b. Each 'a' is followed by nothing or an 'a' or \"bb\"\n",
    "c. Each \"bb\" is followed by nothing or an 'a'\n",
    "'''\n",
    "\n",
    "def check_ab(str):\n",
    "    if (len(str)==0):\n",
    "        return True\n",
    "    \n",
    "    if (str[0] == 'a'):\n",
    "        if (len(str[1:])>1 and str[1:3] == 'bb'):\n",
    "            return check_ab(str[3:])\n",
    "        else:\n",
    "            return check_ab(str[1:])\n",
    "    else:\n",
    "        return False\n",
    "\n",
    "print(check_ab(\"abbb\"))\n",
    "\n",
    "    "
   ]
  },
  {
   "cell_type": "code",
   "execution_count": 63,
   "metadata": {},
   "outputs": [
    {
     "name": "stdout",
     "output_type": "stream",
     "text": [
      "13\n"
     ]
    }
   ],
   "source": [
    "# Staircase\n",
    "# TODO: #NOTE:noClue how this worked. \n",
    "\n",
    "'''\n",
    "A child is running up a staircase with N steps, and can hop either 1 step, 2 steps or 3 steps at a time. \n",
    "Implement a method to count how many possible ways the child can run up to the stairs. \n",
    "You need to return number of possible ways W.\n",
    "\n",
    "'''\n",
    "\n",
    "'''\n",
    "Solution and Explaination\n",
    "https://www.geeksforgeeks.org/count-ways-reach-nth-stair/\n",
    "'''\n",
    "\n",
    "def countWaysUtil(n, m):\n",
    "    if n <= 1:\n",
    "        return n\n",
    "    res = 0\n",
    "    i = 1\n",
    "    while i<= m and i<= n:\n",
    "        res = res + countWaysUtil(n-i, m)\n",
    "        i = i + 1\n",
    "    return res\n",
    "     \n",
    "# Returns number of ways to reach s'th stair   \n",
    "def countWays(s, m):\n",
    "    return countWaysUtil(s + 1, m)\n",
    "\n",
    "print(countWays(5,3))"
   ]
  }
 ],
 "metadata": {
  "kernelspec": {
   "display_name": "Python 3.10.6 ('base_3.10')",
   "language": "python",
   "name": "python3"
  },
  "language_info": {
   "codemirror_mode": {
    "name": "ipython",
    "version": 3
   },
   "file_extension": ".py",
   "mimetype": "text/x-python",
   "name": "python",
   "nbconvert_exporter": "python",
   "pygments_lexer": "ipython3",
   "version": "3.10.6"
  },
  "orig_nbformat": 4,
  "vscode": {
   "interpreter": {
    "hash": "b69274b327b8ccc6d5153ebb758a5a4aa69943b8d839ce796915123502b92e21"
   }
  }
 },
 "nbformat": 4,
 "nbformat_minor": 2
}
