{
 "cells": [
  {
   "cell_type": "code",
   "execution_count": 2,
   "metadata": {},
   "outputs": [],
   "source": [
    "from typing import List"
   ]
  },
  {
   "cell_type": "code",
   "execution_count": 3,
   "metadata": {},
   "outputs": [],
   "source": [
    "# Selection Sort \n",
    "\n",
    "def selection_sort(a: List[int]) -> List[int]:\n",
    "    for i in range(len(a)):\n",
    "        min_idx = i\n",
    "        for j in range(i+1,len(a)):\n",
    "            if a[min_idx] > a[j]:\n",
    "                min_idx = j\n",
    "        \n",
    "        a[i],a[min_idx] = a[min_idx], a[i]"
   ]
  },
  {
   "cell_type": "code",
   "execution_count": 4,
   "metadata": {},
   "outputs": [],
   "source": [
    "def merge_sort(a: List[int]) -> List[int]:\n",
    "    if len(a) == 0 or len(a) == 1:\n",
    "        return \n",
    "\n",
    "    mid = len(a) //2\n",
    "    a1 = a[0:mid]\n",
    "    a2 = a[mid:]\n",
    "\n",
    "    merge_sort(a1)\n",
    "    merge_sort(a2)\n",
    "\n",
    "    merge_sort(a1,a2,a)"
   ]
  },
  {
   "cell_type": "code",
   "execution_count": 5,
   "metadata": {},
   "outputs": [],
   "source": [
    "def create_array(n: int) -> List[int]:\n",
    "    a = []\n",
    "    for i in range(n,0,-1):\n",
    "        a.append(i)\n",
    "    return a"
   ]
  },
  {
   "cell_type": "code",
   "execution_count": null,
   "metadata": {},
   "outputs": [],
   "source": []
  }
 ],
 "metadata": {
  "kernelspec": {
   "display_name": "Python 3.11.0 ('base_3.11')",
   "language": "python",
   "name": "python3"
  },
  "language_info": {
   "codemirror_mode": {
    "name": "ipython",
    "version": 3
   },
   "file_extension": ".py",
   "mimetype": "text/x-python",
   "name": "python",
   "nbconvert_exporter": "python",
   "pygments_lexer": "ipython3",
   "version": "3.11.0"
  },
  "orig_nbformat": 4,
  "vscode": {
   "interpreter": {
    "hash": "e9365011e3cd0ebf70e7cb8647cafe94528dd3154d70cb9b1ce615028c8ab6aa"
   }
  }
 },
 "nbformat": 4,
 "nbformat_minor": 2
}
