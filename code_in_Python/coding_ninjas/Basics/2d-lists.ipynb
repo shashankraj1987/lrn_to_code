{
 "cells": [
  {
   "cell_type": "markdown",
   "metadata": {},
   "source": [
    "# 2D Lists"
   ]
  },
  {
   "cell_type": "markdown",
   "metadata": {},
   "source": [
    "Jagged Lists:\n",
    "\n",
    "Lists in which all sub-lists are not of the same size. "
   ]
  },
  {
   "cell_type": "code",
   "execution_count": null,
   "metadata": {},
   "outputs": [],
   "source": [
    "a = [[1,2,3],[4,5],[6,7,8,9]]\n",
    "print(a)"
   ]
  },
  {
   "cell_type": "markdown",
   "metadata": {},
   "source": [
    "List Comprehension with Multiple For Loops"
   ]
  },
  {
   "cell_type": "code",
   "execution_count": null,
   "metadata": {},
   "outputs": [],
   "source": [
    "li_1 = [1,2,3,4,5,6,7,9]\n",
    "li_2 = [2,4,6,8]\n",
    "\n",
    "li_intersection = [elem for elem in li_1 for elem2 in li_2 if elem == elem2]\n",
    "\n",
    "print(li_intersection)"
   ]
  },
  {
   "cell_type": "markdown",
   "metadata": {},
   "source": [
    "If - Else Condition in List Comprehension"
   ]
  },
  {
   "cell_type": "code",
   "execution_count": null,
   "metadata": {},
   "outputs": [],
   "source": [
    "li_inter = [elem**2 if elem%2 == 0 else elem**3 for elem in li_1]\n",
    "print(li_inter)"
   ]
  },
  {
   "cell_type": "markdown",
   "metadata": {},
   "source": [
    "Generating a List of 2-D lists using String"
   ]
  },
  {
   "cell_type": "code",
   "execution_count": null,
   "metadata": {},
   "outputs": [],
   "source": [
    "li = [\"Abcd\",\"EfGh\",\"IJKLMN\"]\n",
    "\n",
    "li_2d = [[s for s in elem] for elem in li]\n",
    "print(li_2d)\n",
    "# Generating a list of lists using List Comprehension"
   ]
  },
  {
   "cell_type": "markdown",
   "metadata": {},
   "source": [
    "Take input of a 2D List"
   ]
  },
  {
   "cell_type": "code",
   "execution_count": null,
   "metadata": {},
   "outputs": [],
   "source": [
    "no_rows = int(input())\n",
    "\n",
    "# We are taking space separated input\n",
    "\n",
    "arr_2d = [[int(j) for j in input().split()] for i in range(no_rows)]\n",
    "print(arr_2d)"
   ]
  },
  {
   "cell_type": "code",
   "execution_count": null,
   "metadata": {},
   "outputs": [],
   "source": [
    "# Converting one long list to a 2D Array \n",
    "row_cols = input()\n",
    "rows,cols = int(row_cols.split()[0]),int(row_cols.split()[1])\n",
    "b = input().split()\n",
    "arr_sl = [ [ int(b[cols*i+j]) for j in range(cols)] for i in range(rows)]\n",
    "\n",
    "print(arr_sl)"
   ]
  },
  {
   "cell_type": "code",
   "execution_count": null,
   "metadata": {},
   "outputs": [],
   "source": [
    "\"abc\".join('*-/')\n",
    "\n",
    "# NOTE - It doesn't join the last element into anything.  "
   ]
  },
  {
   "cell_type": "code",
   "execution_count": null,
   "metadata": {},
   "outputs": [],
   "source": [
    "li = [[1,2,3,4],[5,6,7,8],[9,10,11,12]]\n",
    "\n",
    "for row in li:\n",
    "    print(' '.join([str(elem) for elem in row]))"
   ]
  },
  {
   "cell_type": "markdown",
   "metadata": {},
   "source": [
    "Largest Column Sum"
   ]
  },
  {
   "cell_type": "code",
   "execution_count": null,
   "metadata": {},
   "outputs": [],
   "source": [
    "li = [[1,2,3,4],[8,7,6,5],[9,12,10,11]]\n",
    "li[0][1]"
   ]
  },
  {
   "cell_type": "code",
   "execution_count": null,
   "metadata": {},
   "outputs": [],
   "source": [
    "# Here each row will have same number of columns \n",
    "\n",
    "li = [[1,2,3,4],[8,7,6,5],[9,10,11,12]]\n",
    "\n",
    "no_rows = len(li)\n",
    "no_cols = len(li[0])\n",
    "j, max_sum, max_col_index=0,-1,-1\n",
    "\n",
    "while j < no_cols:\n",
    "    sum_num = 0\n",
    "    i = 0\n",
    "    while i < no_rows:\n",
    "        sum_num += li[i][j]\n",
    "        i+=1\n",
    "    if sum_num > max_sum:\n",
    "        max_sum = sum_num\n",
    "        max_col_index = j\n",
    "    j+=1\n",
    "\n",
    "print(max_col_index, max_sum)\n",
    "\n",
    "\n",
    "## Try the above with List Comprehension , if possible"
   ]
  },
  {
   "cell_type": "code",
   "execution_count": null,
   "metadata": {},
   "outputs": [],
   "source": [
    "li=[[1,2,3,4],[5,6,7,8],[9,10,11,12]]\n",
    "for j in range(4):\n",
    "    for ele in li:\n",
    "        print(ele[j],end = \" \")"
   ]
  },
  {
   "cell_type": "markdown",
   "metadata": {},
   "source": [
    "### Quizzes"
   ]
  },
  {
   "cell_type": "code",
   "execution_count": null,
   "metadata": {},
   "outputs": [],
   "source": [
    "from typing import List\n",
    "\n",
    "def rowWiseSum(mat: List[int], nRows: int, mCols: int) -> None:\n",
    "    tot_sum = 0\n",
    "    for x in mat:\n",
    "        tot_sum+=x\n",
    "    print(tot_sum)\n",
    "\n",
    "arr = [4,5,3,2,6]\n",
    "\n",
    "rowWiseSum(arr,1,5)"
   ]
  },
  {
   "cell_type": "code",
   "execution_count": null,
   "metadata": {},
   "outputs": [],
   "source": [
    "x = 10\n",
    "y = 20\n",
    "print(f'column {x} {y}')\n"
   ]
  },
  {
   "cell_type": "code",
   "execution_count": null,
   "metadata": {},
   "outputs": [],
   "source": [
    "# Find the Largest sum or rows of Columns \n",
    "# arr = 2-d List\n",
    "\n",
    "def findLargest(arr, nRows, mCols):\n",
    "    if nRows <=0:\n",
    "        print(\"row 0 -2147483648\")\n",
    "    else:\n",
    "        max_col_index = -1\n",
    "        max_sum_col,max_sum_row = -2147483648,-2147483648\n",
    "        max_row_index = -1\n",
    "\n",
    "        # Finding Column Sum \n",
    "        for c in range(mCols):\n",
    "            tot_sum = 0\n",
    "            for r in range(nRows):\n",
    "                tot_sum += arr[r][c]\n",
    "            if tot_sum > max_sum_col:\n",
    "                max_sum_col = tot_sum\n",
    "                max_col_index = c\n",
    "\t\t\n",
    "        # Finding the Row Sum \n",
    "        for r in range(nRows):\n",
    "            tot_sum = 0\n",
    "            for c in range(mCols):\n",
    "                tot_sum += arr[r][c]\n",
    "            if tot_sum >  max_sum_row:\n",
    "                max_sum_row = tot_sum\n",
    "                max_row_index = r\n",
    "                \n",
    "    \t# Check if Row's Sum is Bigger than Column's Sum\n",
    "        if max_sum_col > max_sum_row:\n",
    "            print(\"column \"+ str(max_col_index)+\" \"+str(max_sum_col))\n",
    "        else:\n",
    "            print(\"row \"+ str(max_row_index)+\" \"+str(max_sum_row))\n",
    "\n",
    "arr = [[6,9,8,5],[9,2,4,1],[8,3,9,3]]\n",
    "row = 3\n",
    "col = 4\n",
    "findLargest(arr,row,col)"
   ]
  },
  {
   "cell_type": "code",
   "execution_count": 5,
   "metadata": {},
   "outputs": [
    {
     "name": "stdout",
     "output_type": "stream",
     "text": [
      "0 0\n",
      "1 0\n",
      "2 0\n",
      "2 1\n",
      "1 1\n",
      "0 1\n",
      "0 2\n",
      "1 2\n",
      "2 2\n",
      "2 3\n",
      "1 3\n",
      "0 3\n"
     ]
    }
   ],
   "source": [
    "# Wave Pattern Print \n",
    "\n",
    "row = 3\n",
    "col = 4\n",
    "cntr = 0\n",
    "\n",
    "for x in range(col):\n",
    "    if x%2 == 0:\n",
    "        for y in range(row):\n",
    "            print(y,x)\n",
    "    else:\n",
    "        for y in range(row-1, -1,-1):\n",
    "            print(y,x)"
   ]
  },
  {
   "cell_type": "code",
   "execution_count": null,
   "metadata": {},
   "outputs": [],
   "source": [
    "# Wave Print \n",
    "\n",
    "def wavePrint(mat, nRows, mCols):\n",
    "    for x in range(mCols):\n",
    "        if x%2 == 0:\n",
    "            for y in range(nRows):\n",
    "                print(mat[y][x], end=' ')\n",
    "        else:\n",
    "            for y in range(nRows-1,-1,-1):\n",
    "                print(mat[y][x],end=' ')"
   ]
  },
  {
   "cell_type": "code",
   "execution_count": 9,
   "metadata": {},
   "outputs": [
    {
     "name": "stdout",
     "output_type": "stream",
     "text": [
      "6 9 8 5 1 3 9 3 8 9 2 4 "
     ]
    }
   ],
   "source": [
    "## Spiral Pattern  *** IMP *** \n",
    "# TODO: Frequently Asked Question \n",
    "# https://www.youtube.com/watch?v=BJnMZNwUk1M\n",
    "\n",
    "\n",
    "def spiralPrint(arr, nRows, mCols):\n",
    "    left, top = 0,0\n",
    "    right = len(arr[0])\n",
    "    bot = len(arr)\n",
    "\n",
    "    while left < right and top < bot:\n",
    "\n",
    "        # The Top Row \n",
    "        for i in range(left, right):\n",
    "            print(arr[top][i], end = ' ')\n",
    "        top += 1\n",
    "\n",
    "        # The Right Col \n",
    "        for i in range(top,bot):\n",
    "            print(arr[i][right-1], end = ' ')\n",
    "        right -= 1\n",
    "\n",
    "        # This is if the matrix is a Single Row or a Singe Column \n",
    "        if not(left < right and top < bot):\n",
    "            break\n",
    "\n",
    "        # The Bottom Row  \n",
    "        for i in range(right -1 , left -1, -1):\n",
    "            print(arr[bot -1 ][i], end = ' ')\n",
    "        bot -= 1\n",
    "\n",
    "        # The Left Column \n",
    "        for i in range(bot-1,top-1,-1):\n",
    "            print(arr[i][left], end = ' ')\n",
    "        left +=1 \n",
    "\n",
    "arr = [[6,9,8,5],[9,2,4,1],[8,3,9,3]]\n",
    "spiralPrint(arr,3,4)"
   ]
  }
 ],
 "metadata": {
  "kernelspec": {
   "display_name": "Python 3.10.6 64-bit (system)",
   "language": "python",
   "name": "python3"
  },
  "language_info": {
   "codemirror_mode": {
    "name": "ipython",
    "version": 3
   },
   "file_extension": ".py",
   "mimetype": "text/x-python",
   "name": "python",
   "nbconvert_exporter": "python",
   "pygments_lexer": "ipython3",
   "version": "3.10.6"
  },
  "orig_nbformat": 4,
  "vscode": {
   "interpreter": {
    "hash": "1ea856f75c744b83ee05856dd1a145e8846d73b2689b503f4e3256f20a6fee7c"
   }
  }
 },
 "nbformat": 4,
 "nbformat_minor": 2
}
