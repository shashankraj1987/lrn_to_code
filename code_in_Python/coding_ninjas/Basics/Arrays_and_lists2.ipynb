{
 "cells": [
  {
   "cell_type": "code",
   "execution_count": 1,
   "metadata": {},
   "outputs": [],
   "source": [
    "li = [int(x) for x in input().split()]"
   ]
  },
  {
   "cell_type": "code",
   "execution_count": 2,
   "metadata": {},
   "outputs": [
    {
     "data": {
      "text/plain": [
       "[2]"
      ]
     },
     "execution_count": 2,
     "metadata": {},
     "output_type": "execute_result"
    }
   ],
   "source": [
    "li"
   ]
  },
  {
   "cell_type": "code",
   "execution_count": 3,
   "metadata": {},
   "outputs": [
    {
     "name": "stdout",
     "output_type": "stream",
     "text": [
      "[1, 4, 3, 4, 5]\n"
     ]
    }
   ],
   "source": [
    "def change(li):\n",
    "    li[1] = li[1] + 2\n",
    "\n",
    "li = [1,2,3,4,5]\n",
    "change(li)\n",
    "print(li)\n",
    "\n",
    "\n",
    "# Output is [1,4,3,4,5] as lists are mutable. \n",
    "# The function having li will refer to the same memory address as the variable li. \n"
   ]
  },
  {
   "cell_type": "code",
   "execution_count": 4,
   "metadata": {},
   "outputs": [
    {
     "name": "stdout",
     "output_type": "stream",
     "text": [
      "[1, 4, 3, 4, 5]\n"
     ]
    }
   ],
   "source": [
    "def change(li):\n",
    "    li[1] = li[1] + 2\n",
    "    li = [3,3,3,4,5]\n",
    "li = [1,2,3,4,5]\n",
    "change(li)\n",
    "print(li)"
   ]
  },
  {
   "cell_type": "code",
   "execution_count": 6,
   "metadata": {},
   "outputs": [
    {
     "name": "stdout",
     "output_type": "stream",
     "text": [
      "[1, 4, 3, 4, 5]\n",
      "[5, 4, 3, 4, 1]\n"
     ]
    }
   ],
   "source": [
    "print(li)\n",
    "\n",
    "# Reversing the list \n",
    "\n",
    "li = li[::-1]\n",
    "\n",
    "print(li)\n"
   ]
  },
  {
   "cell_type": "markdown",
   "metadata": {},
   "source": [
    "Swap Alternate"
   ]
  },
  {
   "cell_type": "markdown",
   "metadata": {},
   "source": [
    "~~~\n",
    "Sample Input 1:\n",
    "1\n",
    "6\n",
    "9 3 6 12 4 32\n",
    "\n",
    "Sample Output:\n",
    "3 9 12 6 32 4\n",
    "\n",
    "----------------------------------\n",
    "\n",
    "Sample Input 2:\n",
    "2\n",
    "9\n",
    "9 3 6 12 4 32 5 11 19\n",
    "4\n",
    "1 2 3 4\n",
    "\n",
    "Sample Output:\n",
    "3 9 12 6 32 4 11 5 19 \n",
    "2 1 4 3 \n",
    "\n",
    "~~~"
   ]
  },
  {
   "cell_type": "code",
   "execution_count": 30,
   "metadata": {},
   "outputs": [
    {
     "name": "stdout",
     "output_type": "stream",
     "text": [
      "[2, 1, 4, 3, 6, 5, 8, 7, 10, 9, 11]\n"
     ]
    }
   ],
   "source": [
    "def swap_alternate(lst,n):\n",
    "    i = 0\n",
    "    while(i<n-1):\n",
    "        lst[i],lst[i+1] = lst[i+1],lst[i]\n",
    "        i+=2\n",
    "\n",
    "t = int(input())\n",
    "# print(t)\n",
    "\n",
    "for i in range(t):\n",
    "    n = int(input())\n",
    "    lst = [int(x) for x in input().split()]\n",
    "    swap_alternate(lst,n)\n",
    "    [print(x,end = ' ') for x in lst]\n",
    "    # Again, this works as lists are mutable. \n"
   ]
  },
  {
   "cell_type": "code",
   "execution_count": null,
   "metadata": {},
   "outputs": [],
   "source": [
    "## Coding Ninjas Solution\n",
    "\n",
    "\n",
    "from sys import stdin\n",
    "\n",
    "def swapAlternate(lst,n):\n",
    "    i = 0\n",
    "    while(i<n-1):\n",
    "        lst[i],lst[i+1] = lst[i+1],lst[i]\n",
    "        i+=2\n",
    "\n",
    "#Taking Input Using Fast I/O\n",
    "def takeInput() :\n",
    "    n = int(stdin.readline().rstrip())\n",
    "\n",
    "    if n == 0 :\n",
    "        return list(), 0\n",
    "\n",
    "    arr = list(map(int, stdin.readline().rstrip().split(\" \")))\n",
    "    return arr, n\n",
    "\n",
    "#Printing the array/list\n",
    "def printList(arr, n) :\n",
    "    for i in range(n) :\n",
    "        print(arr[i], end = \" \")\n",
    "    print()\n",
    "\n",
    "#main\n",
    "t = int(stdin.readline().rstrip())\n",
    "\n",
    "while t > 0 :\n",
    "    arr, n = takeInput()\n",
    "    if n != 0 :\n",
    "        swapAlternate(arr, n)\n",
    "        printList(arr, n)\n",
    "    t -= 1"
   ]
  },
  {
   "cell_type": "markdown",
   "metadata": {},
   "source": [
    "Questions for Arrays 2"
   ]
  },
  {
   "cell_type": "markdown",
   "metadata": {},
   "source": [
    "The first line contains an Integer 't' which denotes the number of test cases or queries to be run. Then the test cases follow.\n",
    "\n",
    "First line of each test case or query contains an integer 'N' representing the size of the array/list.\n",
    "\n",
    "Second line contains 'N' single space separated integers representing the elements in the array/list.\n",
    "\n",
    "For each test case, print the unique element present in the array.\n",
    "\n",
    "Output for every test case will be printed in a separate line."
   ]
  },
  {
   "cell_type": "code",
   "execution_count": 24,
   "metadata": {},
   "outputs": [
    {
     "name": "stdout",
     "output_type": "stream",
     "text": [
      "{2: 2, 1: 2, 7: 1, 6: 2}\n",
      "7\n"
     ]
    }
   ],
   "source": [
    "num_map = {}\n",
    "\n",
    "def findUnique(arr, n):\n",
    "    for num in arr:\n",
    "        if num in num_map:\n",
    "            num_map[num] +=1 \n",
    "        else:\n",
    "            num_map[num] = 1\n",
    "\n",
    "    for key in num_map:\n",
    "        if num_map[key] == 1:\n",
    "            return key\n",
    "\n",
    "    return -1\n",
    "\n",
    "arr_val = [2,2,1,1,7,6,6]\n",
    "print(findUnique(arr_val,len(arr_val)))\n"
   ]
  },
  {
   "cell_type": "code",
   "execution_count": 5,
   "metadata": {},
   "outputs": [
    {
     "data": {
      "text/plain": [
       "1"
      ]
     },
     "execution_count": 5,
     "metadata": {},
     "output_type": "execute_result"
    }
   ],
   "source": [
    "## Coding Ninjas Solution\n",
    "\n",
    "import sys\n",
    "\n",
    "def findUnique(arr, n):\n",
    "    num_map = {}\n",
    "    for num in arr:\n",
    "        if num in num_map:\n",
    "            num_map[num] +=1 \n",
    "        else:\n",
    "            num_map[num] = 1\n",
    "\n",
    "    for key in num_map:\n",
    "        if num_map[key] == 1:\n",
    "            return key\n",
    "\n",
    "    return -1\n",
    "\n",
    "\n",
    "#Taking Input Using Fast I/O\n",
    "def takeInput() :\n",
    "    n = int(sys.stdin.readline().rstrip())\n",
    "\n",
    "    if n == 0 :\n",
    "        return list(), 0\n",
    "\n",
    "    arr = list(map(int, sys.stdin.readline().rstrip().split(\" \")))\n",
    "    return arr, n\n",
    "\n",
    "\n",
    "#main\n",
    "t = int(sys.stdin.readline().rstrip())\n",
    "\n",
    "while t > 0 :\n",
    "\n",
    "    arr, n = takeInput()\n",
    "    print(findUnique(arr, n))\n",
    "\n",
    "    t -= 1"
   ]
  },
  {
   "cell_type": "code",
   "execution_count": 28,
   "metadata": {},
   "outputs": [],
   "source": [
    "def duplicateNumber(arr, n):\n",
    "    num_map = {}\n",
    "\n",
    "    for key in arr:\n",
    "        if key in num_map:\n",
    "            num_map[key] += 1\n",
    "        else:\n",
    "            num_map[key] = 1\n",
    "    \n",
    "    for key in num_map:\n",
    "        if num_map[key] > 1:\n",
    "            return key\n",
    "\n",
    "    return -1"
   ]
  },
  {
   "cell_type": "markdown",
   "metadata": {},
   "source": [
    "Intersection of Two Arrays II\n",
    "\n",
    "You have been given two integer arrays/list(ARR1 and ARR2) of size N and M, respectively. You need to print their intersection; An intersection for this problem can be defined when both the arrays/lists contain a particular value or to put it in other words, when there is a common value that exists in both the arrays/lists.\n",
    "\n",
    "Input arrays/lists can contain duplicate elements.\n",
    "\n",
    "The intersection elements printed would be in the order they appear in the first array/list(ARR1)"
   ]
  },
  {
   "cell_type": "code",
   "execution_count": 65,
   "metadata": {},
   "outputs": [
    {
     "name": "stdout",
     "output_type": "stream",
     "text": [
      "[9, 8]\n"
     ]
    }
   ],
   "source": [
    "def arr_intersections(arr1, n,arr2,m):\n",
    "    match = []\n",
    "\n",
    "    for i in range(len(arr1)):\n",
    "        for j in range(len(arr2)):\n",
    "            if arr1[i] == arr2[j]:\n",
    "                match.append(arr2[j])\n",
    "                arr2.pop(j)\n",
    "                break\n",
    "    return match\n",
    "\n",
    "\n",
    "arr1 = [6,9,8,5]\n",
    "arr2 = [9,2,4,1,8]\n",
    "\n",
    "print(arr_intersections(arr1,len(arr1),arr2,len(arr2)))\n",
    "\n",
    "# t = int(input())\n",
    "# for i in range(t):\n",
    "#     n = int(input())\n",
    "#     if n > 0:\n",
    "#         arr1 = [int(x) for x in input().split()]\n",
    "#     else:\n",
    "#         arr1 = [0]\n",
    "#     m = int(input())\n",
    "#     if m > 0:\n",
    "#         arr2 = [int(x) for x in input().split()]\n",
    "#     else:\n",
    "#         arr2 = [0]\n",
    "#     ret_val = intersections(arr1,n,arr2,m)\n",
    "#     if ret_val is not None:\n",
    "#         [print(y, end=' ') for y in ret_val]\n",
    "#     print()"
   ]
  },
  {
   "cell_type": "code",
   "execution_count": 86,
   "metadata": {},
   "outputs": [
    {
     "data": {
      "text/plain": [
       "7"
      ]
     },
     "execution_count": 86,
     "metadata": {},
     "output_type": "execute_result"
    }
   ],
   "source": [
    "## Pairsum\n",
    "\n",
    "def pairSum(arr, n, x) :\n",
    "    pairs = 0\n",
    "    for i in range(len(arr)):\n",
    "        # print(f'{pairs} ')\n",
    "        for j in range(i+1,len(arr)):\n",
    "            # print(f'{arr[i]} [{i}]+ {arr[j]}[{j}] = {arr[i]+arr[j]}')\n",
    "            if arr[i]+arr[j] == x and i != j:\n",
    "                pairs+=1\n",
    "        # print('*'*10)\n",
    "    \n",
    "    return pairs\n",
    "\n",
    "arr = [1,3,6,2,5,4,3,2,4]\n",
    "\n",
    "pairSum(arr,0,7)"
   ]
  },
  {
   "cell_type": "code",
   "execution_count": 97,
   "metadata": {},
   "outputs": [
    {
     "data": {
      "text/plain": [
       "5"
      ]
     },
     "execution_count": 97,
     "metadata": {},
     "output_type": "execute_result"
    }
   ],
   "source": [
    "## Triplet Sum\n",
    "\n",
    "def findTriplet(arr, n, x) :\n",
    "    pairs = 0\n",
    "    for i in range(len(arr)):\n",
    "        # print(f'{pairs} ')\n",
    "        for j in range(i+1,len(arr)):\n",
    "            for k in range(j+1,len(arr)):\n",
    "                # print(f'{arr[i]} [{i}]+ {arr[j]}[{j}] + {arr[k]}[{k}] = {arr[i]+arr[j]+arr[k]}')\n",
    "                if arr[i]+arr[j]+arr[k] == x and (i != j or i!=j or k!=j):\n",
    "                    # print(\"*** adding to pairs ***\")\n",
    "                    pairs+=1\n",
    "    return pairs\n",
    "\n",
    "arr = [1,2,3,4,5,6,7]\n",
    "\n",
    "findTriplet(arr,0,12)"
   ]
  },
  {
   "cell_type": "code",
   "execution_count": 119,
   "metadata": {},
   "outputs": [
    {
     "name": "stdout",
     "output_type": "stream",
     "text": [
      "1,1,6\n",
      "[0, 1, 1, 0, 1, 0, 1]\n",
      "1,2,6\n",
      "[0, 1, 1, 0, 1, 0, 1]\n",
      "1,3,6\n",
      "[0, 1, 1, 0, 1, 0, 1]\n",
      "2,4,6\n",
      "[0, 0, 1, 1, 1, 0, 1]\n",
      "2,5,6\n",
      "[0, 0, 1, 1, 1, 0, 1]\n",
      "3,6,6\n",
      "[0, 0, 0, 1, 1, 1, 1]\n",
      "3,7,6\n",
      "[0, 0, 0, 1, 1, 1, 1]\n",
      "[0, 0, 0, 1, 1, 1, 1]\n"
     ]
    }
   ],
   "source": [
    "# Sort 0 1\n",
    "# TODO: - Revise the concept\n",
    "\n",
    "# Explanation : - https://www.geeksforgeeks.org/sort-an-array-of-0s-1s-and-2s/\n",
    "\n",
    "def sortZeroesAndOne(arr, n):\n",
    "    low = 0\n",
    "    high = len(arr)-1\n",
    "    mid = 0\n",
    "    while mid <= high:\n",
    "        # print(f'{low},{mid},{high}')\n",
    "        if arr[mid] == 0:\n",
    "            arr[low], arr[mid] = arr[mid],arr[low]\n",
    "            low+=1\n",
    "            mid+=1\n",
    "        elif arr[mid] == 1:\n",
    "            mid+=1\n",
    "        else:\n",
    "            arr[high],arr[mid] = arr[mid],arr[high]\n",
    "            high -=1\n",
    "        # print(f'{low},{mid},{high}')\n",
    "        # print(arr)\n",
    "\n",
    "\n",
    "\n",
    "arr = [0,1,1,0,1,0,1]\n",
    "sortZeroesAndOne(arr,len(arr))\n",
    "print(arr)"
   ]
  }
 ],
 "metadata": {
  "kernelspec": {
   "display_name": "Python 3.10.5 64-bit (system)",
   "language": "python",
   "name": "python3"
  },
  "language_info": {
   "codemirror_mode": {
    "name": "ipython",
    "version": 3
   },
   "file_extension": ".py",
   "mimetype": "text/x-python",
   "name": "python",
   "nbconvert_exporter": "python",
   "pygments_lexer": "ipython3",
   "version": "3.10.5"
  },
  "orig_nbformat": 4,
  "vscode": {
   "interpreter": {
    "hash": "1ea856f75c744b83ee05856dd1a145e8846d73b2689b503f4e3256f20a6fee7c"
   }
  }
 },
 "nbformat": 4,
 "nbformat_minor": 2
}
