{
 "cells": [
  {
   "cell_type": "code",
   "execution_count": 1,
   "metadata": {},
   "outputs": [
    {
     "name": "stdout",
     "output_type": "stream",
     "text": [
      "1 2 3 4 Else is also printed\n"
     ]
    }
   ],
   "source": [
    "i=1\n",
    "while i<5:\n",
    "    if i == 6:\n",
    "        break\n",
    "    print(i,end=\" \")\n",
    "    i = i + 1\n",
    "else:\n",
    "    print(\"Else is also printed\");\n",
    "\n",
    "# The else block just after for/while is executed only when the loop is \n",
    "# NOT terminated by a break statement.\n",
    "# In our example, \n",
    "# the break statement will never hit because the value of “i” will not go above 5."
   ]
  },
  {
   "cell_type": "code",
   "execution_count": 2,
   "metadata": {},
   "outputs": [
    {
     "name": "stdout",
     "output_type": "stream",
     "text": [
      "894586 is not Prime \n"
     ]
    }
   ],
   "source": [
    "# Check Prime Numbers\n",
    "\n",
    "n = 7*127798\n",
    "flag = False\n",
    "\n",
    "for i in range(2,n,1):\n",
    "    if n % i == 0:\n",
    "        flag = True\n",
    "        break\n",
    "\n",
    "if flag:\n",
    "    print(f'{n} is not Prime ')\n",
    "else:\n",
    "    print(f'{n} is Prime ')"
   ]
  },
  {
   "cell_type": "code",
   "execution_count": 3,
   "metadata": {},
   "outputs": [
    {
     "name": "stdout",
     "output_type": "stream",
     "text": [
      "        1 \n",
      "      2 3 2 \n",
      "    3 4 5 4 3 \n",
      "  4 5 6 7 6 5 4 \n",
      "5 6 7 8 9 8 7 6 5 \n"
     ]
    }
   ],
   "source": [
    "n = 5\n",
    "i = 1\n",
    "\n",
    "for i in range(1,n+1,1):\n",
    "\n",
    "    # Printing Spaces\n",
    "    for _ in range(n-i):\n",
    "        print(' ',end = ' ')\n",
    "\n",
    "    # Printing Left Numbers \n",
    "    for j in range(i,2*i):\n",
    "        print(j,end = ' ')\n",
    "\n",
    "    # Printing Right Numbers \n",
    "    for k in range(2*i-2,i-1,-1):  # We need to stop at i, so end = i-1\n",
    "        print(k,end = ' ')\n",
    "\n",
    "    print()"
   ]
  },
  {
   "cell_type": "markdown",
   "metadata": {},
   "source": [
    "\n",
    "Using Else with Loops:\n",
    "\n",
    "Code inside else will not be executed if the while/for loop is finished because of the break statement. \n",
    "\n",
    "Code inside else will be executed if a while/for loop didn't encounter a break. "
   ]
  },
  {
   "cell_type": "code",
   "execution_count": 4,
   "metadata": {},
   "outputs": [
    {
     "name": "stdout",
     "output_type": "stream",
     "text": [
      "1\n",
      "2\n",
      "3\n",
      "4\n"
     ]
    }
   ],
   "source": [
    "for i in range(1,10):\n",
    "    if i == 5:\n",
    "        break\n",
    "    print(i)\n",
    "else:\n",
    "    print(\"This will not be Printed\")\n",
    "\n",
    "# Here, the for loop is exited, due to the break statement,\n",
    "# so the sles block is never run "
   ]
  },
  {
   "cell_type": "code",
   "execution_count": 5,
   "metadata": {},
   "outputs": [
    {
     "name": "stdout",
     "output_type": "stream",
     "text": [
      "1\n",
      "2\n",
      "3\n",
      "4\n",
      "5\n",
      "6\n",
      "7\n",
      "8\n",
      "9\n",
      "This will print\n"
     ]
    }
   ],
   "source": [
    "for i in range(1,10):\n",
    "    print(i)\n",
    "else:\n",
    "    print(\"This will print\")\n",
    "\n",
    "# Here, the else block is executed as the for loop is broken directly"
   ]
  },
  {
   "cell_type": "code",
   "execution_count": 6,
   "metadata": {},
   "outputs": [],
   "source": [
    "# Prime number with an else statement\n",
    "# This will go in else when break is not encountered\n",
    "\n",
    "n = 12\n",
    "\n",
    "for i in range(2,n,1):\n",
    "    if n % i == 0:\n",
    "        break\n",
    "else:\n",
    "    print(\"Prime Number\") "
   ]
  },
  {
   "cell_type": "code",
   "execution_count": 7,
   "metadata": {},
   "outputs": [
    {
     "name": "stdout",
     "output_type": "stream",
     "text": [
      "1 2 "
     ]
    }
   ],
   "source": [
    "i=1\n",
    "while i<5:\n",
    "    if i == 3:\n",
    "        break\n",
    "    print(i,end= ' ')\n",
    "    i = i + 1\n",
    "else:\n",
    "    print(\"Else is also printed\")"
   ]
  },
  {
   "cell_type": "code",
   "execution_count": 9,
   "metadata": {},
   "outputs": [],
   "source": [
    "# i=1\n",
    "# while i<5:\n",
    "#     if i==3:\n",
    "#         continue\n",
    "#     print(i,end=\" \")\n",
    "#     i = i + 1"
   ]
  },
  {
   "cell_type": "code",
   "execution_count": 10,
   "metadata": {},
   "outputs": [
    {
     "name": "stdout",
     "output_type": "stream",
     "text": [
      "Before incr j = 0 \n",
      "After incr j = 1 \n",
      "=======================\n",
      "Before incr j = 1 \n",
      "After incr j = 2 \n",
      "=======================\n",
      "Before incr j = 2 \n",
      "Before incr j = 3 \n",
      "After incr j = 4 \n",
      "=======================\n",
      "Before incr j = 4 \n",
      "After incr j = 5 \n",
      "=======================\n",
      "Before incr j = 0 \n",
      "After incr j = 1 \n",
      "=======================\n",
      "Before incr j = 1 \n",
      "After incr j = 2 \n",
      "=======================\n",
      "Before incr j = 2 \n",
      "Before incr j = 3 \n",
      "After incr j = 4 \n",
      "=======================\n",
      "Before incr j = 4 \n",
      "After incr j = 5 \n",
      "=======================\n"
     ]
    }
   ],
   "source": [
    "i=1\n",
    "while i<3:\n",
    "    j=0\n",
    "    while j<5:\n",
    "        print(f'Before incr j = {j} ')\n",
    "        j = j +1\n",
    "        if j==3:\n",
    "            continue\n",
    "        print(f'After incr j = {j} ')\n",
    "        print(\"=======================\")\n",
    "    i = i +1"
   ]
  },
  {
   "cell_type": "code",
   "execution_count": 11,
   "metadata": {},
   "outputs": [
    {
     "name": "stdout",
     "output_type": "stream",
     "text": [
      "11111\n",
      "0000\n",
      "111\n",
      "00\n",
      "1\n"
     ]
    }
   ],
   "source": [
    "n = 5\n",
    "\n",
    "for i in range(1,n+1):\n",
    "    for j in range(1,(n-i+2)):\n",
    "        if i % 2 == 0:\n",
    "            print('0',end = '')\n",
    "        else:\n",
    "            print('1',end = '')\n",
    "    print()\n"
   ]
  },
  {
   "cell_type": "code",
   "execution_count": 12,
   "metadata": {},
   "outputs": [
    {
     "name": "stdout",
     "output_type": "stream",
     "text": [
      "123456\n",
      " 23456\n",
      "  3456\n",
      "   456\n",
      "    56\n",
      "     6\n",
      "    56\n",
      "   456\n",
      "  3456\n",
      " 23456\n",
      "123456\n"
     ]
    }
   ],
   "source": [
    "n = 6 \n",
    "\n",
    "for i in range(1,n+1):\n",
    "    for j in range(i-1):\n",
    "        print(' ',end = '')\n",
    "    for k in range(i,n+1):\n",
    "        print(k,end='')\n",
    "    print()\n",
    "\n",
    "for i in range(n-1,0,-1):\n",
    "    for j in range(1,i,1):\n",
    "        print(' ',end = '')\n",
    "    \n",
    "    for k in range(i,n+1):\n",
    "        print(k,end='')\n",
    "    print()"
   ]
  },
  {
   "cell_type": "code",
   "execution_count": 13,
   "metadata": {},
   "outputs": [
    {
     "name": "stdout",
     "output_type": "stream",
     "text": [
      "      * \n",
      "    * * * \n",
      "  * * * * * \n",
      "* * * * * * * \n",
      "  * * * * * \n",
      "    * * * \n",
      "      * \n"
     ]
    }
   ],
   "source": [
    "n = 7\n",
    "n1 = int((n+1)/2)\n",
    "n2 = n1 - 1\n",
    "\n",
    "# Dealing with the Top Half of the Code\n",
    "# =======================================\n",
    "\n",
    "# Spaces = n1-i\n",
    "# Stars = 2i-1\n",
    "\n",
    "for i in range(1,n1+1):\n",
    "    for _ in range(n1-i):\n",
    "        print(' ',end=' ')\n",
    "\n",
    "    for _ in range(0,(2*i)-1):\n",
    "        print(\"*\",end=' ')\n",
    "    print()\n",
    "\n",
    "# Dealing with the Bottom Half of the Code\n",
    "# =======================================\n",
    "\n",
    "# Spaces = n2-i+1\n",
    "# Stars = 2i-1\n",
    "\n",
    "for i in range(n2,0,-1):\n",
    "    for _ in range(n2-i+1,0,-1):\n",
    "        print(' ',end=' ')\n",
    "    \n",
    "    for _ in range(2*i-1,0,-1):\n",
    "        print('*',end= ' ')\n",
    "    print()"
   ]
  },
  {
   "cell_type": "code",
   "execution_count": 14,
   "metadata": {},
   "outputs": [
    {
     "name": "stdout",
     "output_type": "stream",
     "text": [
      "555555555\n",
      "544444445\n",
      "543333345\n",
      "543222345\n",
      "543212345\n",
      "543222345\n",
      "543333345\n",
      "544444445\n",
      "555555555\n"
     ]
    }
   ],
   "source": [
    "# TODO: Understand the Logic of this question.\n",
    "\n",
    "N = 5\n",
    "for i in range(1,2*N,1):\n",
    "  a=N\n",
    "  if(i<=N):\n",
    "    for j1 in range(1,2*N,1):\n",
    "      print(a,end=\"\")\n",
    "      if(i>j1):\n",
    "        a=a-1\n",
    "      elif(i+j1>=2*N):\n",
    "        a=a+1\n",
    "  if(i>N):\n",
    "    for j2 in range(1,2*N,1):\n",
    "      print(a,end=\"\")\n",
    "      if(i+j2<2*N):\n",
    "        a=a-1\n",
    "      elif(j2>=i):\n",
    "        a=a+1\n",
    "  print()"
   ]
  },
  {
   "cell_type": "code",
   "execution_count": 15,
   "metadata": {},
   "outputs": [
    {
     "name": "stdout",
     "output_type": "stream",
     "text": [
      "1 2 3 4 5 \n",
      "6 7 8 9 10 \n",
      "11 12 13 14 15 \n",
      "16 17 18 19 20 \n",
      "21 22 23 24 25 \n"
     ]
    }
   ],
   "source": [
    "n = 5\n",
    " \n",
    "for i in range(1,n+1):\n",
    "    for j in range(n*(i-1)+1,n*i+1,1):\n",
    "        print(j,end=' ')\n",
    "    print()"
   ]
  },
  {
   "cell_type": "code",
   "execution_count": 16,
   "metadata": {},
   "outputs": [
    {
     "name": "stdout",
     "output_type": "stream",
     "text": [
      "1 2 3 4 5 \n",
      "11 12 13 14 15 \n",
      "21 22 23 24 25 \n",
      "16 17 18 19 20 \n",
      "6 7 8 9 10 \n"
     ]
    }
   ],
   "source": [
    "# TODO: Understand the Logic of this question. \n",
    "# Jumbled Numbers Sequence\n",
    "\n",
    "n = 5\n",
    "row = 1\n",
    "nst = n\n",
    "i = 0 \n",
    "if n%2 == 0:\n",
    "    j_odd = n - 1\n",
    "else:\n",
    "    j_odd = n - 2 \n",
    "while row <= n:\n",
    "    if n%2 == 0:\n",
    "        if row <= n//2:\n",
    "            value = n * i + 1\n",
    "            i += 2\n",
    "        else:\n",
    "            value = n * j_odd + 1\n",
    "            j_odd -= 2\n",
    "    else:\n",
    "        if row <= n//2 + 1:\n",
    "            value = n * i + 1\n",
    "            i += 2\n",
    "        else:\n",
    "            value = n * j_odd + 1\n",
    "            j_odd -= 2\n",
    "    cst = 1\n",
    "    while cst <= nst:\n",
    "        print(value,end=\" \")\n",
    "        cst += 1\n",
    "        value += 1\n",
    "    print()\n",
    "    row += 1"
   ]
  }
 ],
 "metadata": {
  "kernelspec": {
   "display_name": "Python 3.10.4 64-bit (system)",
   "language": "python",
   "name": "python3"
  },
  "language_info": {
   "codemirror_mode": {
    "name": "ipython",
    "version": 3
   },
   "file_extension": ".py",
   "mimetype": "text/x-python",
   "name": "python",
   "nbconvert_exporter": "python",
   "pygments_lexer": "ipython3",
   "version": "3.10.4"
  },
  "orig_nbformat": 4,
  "vscode": {
   "interpreter": {
    "hash": "989b18c85b380cb5d4dc88751aba259d5b2349ae82f143d55ba9fdb5c3f8c88a"
   }
  }
 },
 "nbformat": 4,
 "nbformat_minor": 2
}
