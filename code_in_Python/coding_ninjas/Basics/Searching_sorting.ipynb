{
 "cells": [
  {
   "cell_type": "markdown",
   "metadata": {},
   "source": [
    "Binary Search"
   ]
  },
  {
   "cell_type": "code",
   "execution_count": null,
   "metadata": {},
   "outputs": [],
   "source": [
    "def bin_srch_recursive(arr,n):\n",
    "    length = len(arr)\n",
    "    mid = length//2\n",
    "    \n",
    "    if arr[mid] > n:\n",
    "        return bin_srch_recursive(arr[:mid],n)\n",
    "    elif arr[mid] < n:\n",
    "        return bin_srch_recursive(arr[mid:],n)\n",
    "    elif arr[mid] == n:\n",
    "        return True\n",
    "    else:\n",
    "        return False\n",
    "\n",
    "def bin_srch_lin(arr,n):\n",
    "    hi = len(arr)\n",
    "    lo = 0\n",
    "    mid = (hi+lo)//2\n",
    "\n",
    "    while lo < mid:\n",
    "        if arr[mid] == n:\n",
    "            return mid+1    # As Python counting is 0 based. \n",
    "        elif arr[mid] < n:\n",
    "            lo = mid\n",
    "            mid = (lo+hi)//2\n",
    "        elif arr[mid] > n:\n",
    "            hi = mid\n",
    "            mid = (hi+lo)//2\n",
    "    \n",
    "    return -1\n",
    "\n",
    "# TODO: Find the difference between the above and below solution\n",
    "\n",
    "def binarySearch_coding_ninjas(arr,x) :\n",
    "    hi = len(arr) -1\n",
    "    lo = 0\n",
    "\n",
    "    while lo <= hi:\n",
    "        mid = (lo+hi)//2\n",
    "        if arr[mid] == x:\n",
    "            return mid+1    # As Python counting is 0 based. \n",
    "        elif arr[mid] < x:\n",
    "            lo = mid+1\n",
    "        elif arr[mid] > x:\n",
    "            hi = mid-1\n",
    "    \n",
    "    return -1\n"
   ]
  },
  {
   "cell_type": "code",
   "execution_count": null,
   "metadata": {},
   "outputs": [],
   "source": [
    "import random \n",
    "\n",
    "# my_numbers = [1,3,7,9,11,11,12,45]\n",
    "arr = [random.randint(0,x) for x in range(0,100,7)]\n",
    "arr.sort()\n",
    "find_val = random.randint(0,20)\n",
    "\n",
    "print(arr)\n",
    "print(find_val)\n",
    "\n",
    "# print(bin_srch_recursive(my_numbers,find_val))\n",
    "print(bin_srch_lin(arr,find_val))\n",
    "# print(binarySearch_coding_ninjas(my_numbers,find_val))"
   ]
  },
  {
   "cell_type": "markdown",
   "metadata": {},
   "source": [
    "Selection Sort"
   ]
  },
  {
   "cell_type": "code",
   "execution_count": null,
   "metadata": {},
   "outputs": [],
   "source": [
    "# Selection Sort \n",
    "arr = [13,4,9,5,3]\n",
    "\n",
    "def sel_sort(arr):\n",
    "    for x in range(len(arr)):\n",
    "        min = x\n",
    "        for y in range(x+1, len(arr)):\n",
    "            if arr[y] < arr[min]:\n",
    "                min = y\n",
    "        arr[x], arr[min] = arr[min], arr[x]\n",
    "\n",
    "sel_sort(arr)\n",
    "print(arr)"
   ]
  },
  {
   "cell_type": "markdown",
   "metadata": {},
   "source": [
    "Bubble Sort"
   ]
  },
  {
   "cell_type": "code",
   "execution_count": null,
   "metadata": {},
   "outputs": [],
   "source": [
    "import random\n",
    "\n",
    "\n",
    "arr = [13,4,9,5,3]\n",
    "\n",
    "arr1 = [random.randint(0,x) for x in range(0,100000,2)]\n",
    "\n",
    "def bubbleSort(arr) :\n",
    "    for x in range(len(arr)):\n",
    "        for y in range(x+1, len(arr)):\n",
    "            if arr[x] > arr[y]:\n",
    "                arr[x],arr[y] = arr[y],arr[x]\n",
    "\n",
    "def bubbleSortoptimized(arr) :\n",
    "    for x in range(len(arr)-1):\n",
    "        for y in range(x+1, len(arr)-1-x):\n",
    "            if arr[x] > arr[y]:\n",
    "                arr[x],arr[y] = arr[y],arr[x]\n",
    "\n",
    "\n",
    "# bubbleSort(arr1)\n",
    "bubbleSortoptimized(arr1)\n",
    "\n",
    "\n",
    "# TODO: Bubble Sort can be further optimized. "
   ]
  },
  {
   "cell_type": "markdown",
   "metadata": {},
   "source": [
    "Insertion Sort"
   ]
  },
  {
   "cell_type": "code",
   "execution_count": null,
   "metadata": {},
   "outputs": [],
   "source": [
    "arr = [5,8,3,4,1]\n",
    "length = len(arr)\n",
    "\n",
    "# TODO: No Clue how this works, need to check this. \n",
    "\n",
    "def insertion_sort(arr,n):\n",
    "    for i in range(1,n):\n",
    "        j=i-1\n",
    "        temp = arr[i]\n",
    "        while (j>=0 and arr[j] > temp):\n",
    "            arr[j+1] = arr[j]\n",
    "            j-=1\n",
    "        arr[j+1] = temp\n",
    "\n",
    "insertion_sort(arr,length)\n",
    "\n",
    "print(arr)"
   ]
  },
  {
   "cell_type": "markdown",
   "metadata": {},
   "source": [
    "Merging two SORTED Arrays"
   ]
  },
  {
   "cell_type": "code",
   "execution_count": null,
   "metadata": {},
   "outputs": [],
   "source": [
    "a1 = [1,3,4,7,11]\n",
    "a2 = [4,9,11,13]\n",
    "\n",
    "# Here we are merging two sorted arrays into a third one. \n",
    "\n",
    "def merge_sorted(arr1,arr2):\n",
    "    arr3 = []\n",
    "    i,j=0,0\n",
    "    len1,len2 = len(arr1), len(arr2)\n",
    "    \n",
    "    # When the Arrays have same Length \n",
    "\n",
    "    while (i<len1 and j < len2):\n",
    "        if arr1[i] < arr2[j]:\n",
    "            arr3.append(arr1[i])\n",
    "            i+=1\n",
    "        else:\n",
    "            arr3.append(arr2[j])\n",
    "            j+=1\n",
    "    \n",
    "    while (i<len1):\n",
    "            arr3.append(arr1[i])\n",
    "            i+=1\n",
    "    \n",
    "    while(j< len2):\n",
    "        arr3.append(arr2[j])\n",
    "        j+=1\n",
    "\n",
    "    return arr3\n",
    "\n",
    "print(merge_sorted(a1,a2))\n"
   ]
  },
  {
   "cell_type": "markdown",
   "metadata": {},
   "source": [
    "Quizzes of Searching and Sorting"
   ]
  },
  {
   "cell_type": "code",
   "execution_count": null,
   "metadata": {},
   "outputs": [],
   "source": [
    "## Push Zeroes to End \n",
    "# TODO: Learn how this works. \n",
    "# https://www.youtube.com/watch?v=aayNRwUN3Do\n",
    "\n",
    "def push_zeroes_end(A):\n",
    "    n = len(A)\n",
    "    j = 0\n",
    "    for i in range(n):\n",
    "        if A[i] != 0:\n",
    "            A[j], A[i] = A[i], A[j]  # Partitioning the array\n",
    "            j += 1\n",
    "\n",
    "\n",
    "arr = [9,0,0,8,2]\n",
    "push_zeroes_end(arr)\n",
    "print(arr)"
   ]
  },
  {
   "cell_type": "markdown",
   "metadata": {},
   "source": [
    "Rotate an Array "
   ]
  },
  {
   "cell_type": "code",
   "execution_count": 17,
   "metadata": {},
   "outputs": [
    {
     "name": "stdout",
     "output_type": "stream",
     "text": [
      "[1, 3, 6, 11, 12, 17, 22, 26, 30, 33, 38]\n",
      "[12, 17, 22, 26, 30, 33, 38, 1, 3, 6, 11]\n"
     ]
    }
   ],
   "source": [
    "\n",
    "# Rotates an array, 'num' elements towards the Left side\n",
    "# TODO: How does this work?\n",
    "\n",
    "def rotate_arr_left_sin_arr(arr,num):\n",
    "    # Takes lot of memory and time more than 1 sec.\n",
    "    # But works on a Single Array\n",
    "    for i in range(num):\n",
    "        temp = arr[0]\n",
    "        for j in range(len(arr)-1):\n",
    "            arr[j] = arr[j+1]\n",
    "        arr[len(arr)-1] = temp\n",
    "        \n",
    "def rotate_arr_left_two_arr(arr,num):\n",
    "    # This algorithm has to return a value. \n",
    "    tmp = [None]*len(arr)\n",
    "    for i in range(len(arr)):\n",
    "        # print(f'[{i}] {arr[i]} <--> [{(i+rotate)%len(arr)}] {arr[(i+rotate)%len(arr)]}')\n",
    "        tmp[(i+num)%len(arr)] = arr[i]\n",
    "    \n",
    "    return tmp\n",
    "        \n",
    "\n",
    "rotate = 7\n",
    "arr = [1,3,6,11,12,17,22,26,30,33,38]\n",
    "\n",
    "print(arr)\n",
    "print(rotate_arr_left_two_arr(arr,rotate))\n"
   ]
  },
  {
   "cell_type": "markdown",
   "metadata": {},
   "source": [
    "Array Reversal with O(1) Memory. "
   ]
  },
  {
   "cell_type": "code",
   "execution_count": 6,
   "metadata": {},
   "outputs": [
    {
     "name": "stdout",
     "output_type": "stream",
     "text": [
      "[26, 30, 33, 38, 1, 3, 6, 11, 12, 17, 22]\n"
     ]
    }
   ],
   "source": [
    "from typing import List\n",
    "\n",
    "def rev_arr(arr: List[int],l: int, r:int) -> None:\n",
    "    while l < r:\n",
    "        arr[l],arr[r] = arr[r],arr[l]\n",
    "        l,r = l+1,r-1\n",
    "\n",
    "def l_rotate_arr(A: List[int],num:int) -> None:\n",
    "    # Rotate Arrays in O(1) Space. \n",
    "    l,r = 0,len(A)-1\n",
    "    rev_arr(A,l,r)\n",
    "\n",
    "    l,r = 0,len(A)-num-1\n",
    "    rev_arr(A,l,r)\n",
    "\n",
    "    l,r = len(A)-num, len(A)-1\n",
    "    rev_arr(A,l,r)\n",
    "\n",
    "arr = [1,3,6,11,12,17,22,26,30,33,38]\n",
    "rotate = 7\n",
    "l_rotate_arr(arr,rotate)\n",
    "print(arr)"
   ]
  },
  {
   "cell_type": "markdown",
   "metadata": {},
   "source": [
    "Second largest number in an Array "
   ]
  },
  {
   "cell_type": "code",
   "execution_count": 58,
   "metadata": {},
   "outputs": [
    {
     "name": "stdout",
     "output_type": "stream",
     "text": [
      "6\n"
     ]
    }
   ],
   "source": [
    "arr = [9,3,6,2,9]\n",
    "\n",
    "def secondLargestElement(arr, n):\n",
    "    largest = 0\n",
    "    s_largest = 0\n",
    "    for i in range(len(arr)):\n",
    "        if arr[i] > largest:\n",
    "            s_largest = largest\n",
    "            largest = arr[i]\n",
    "        elif arr[i] > s_largest and arr[i] != largest:\n",
    "            s_largest = arr[i]\n",
    "        elif arr[i] == largest:\n",
    "            continue\n",
    "    if largest == s_largest:\n",
    "        return -2147483648\n",
    "    elif largest == 0 or s_largest == 0:\n",
    "        return -2147483648\n",
    "    else:\n",
    "        return s_largest\n",
    "\n",
    "print(secondLargestElement(arr, len(arr)))\n"
   ]
  },
  {
   "cell_type": "markdown",
   "metadata": {},
   "source": [
    "Check Array Rotation"
   ]
  },
  {
   "cell_type": "code",
   "execution_count": 62,
   "metadata": {},
   "outputs": [
    {
     "name": "stdout",
     "output_type": "stream",
     "text": [
      "[4, 3, 2, 1, 6, 5]\n",
      "[1, 30, 20, 10]\n",
      "[10, 9, 8, 6, 3]\n"
     ]
    }
   ],
   "source": [
    "# Logic\n",
    "\n",
    "arr = [5,6,1,2,3,4]\n",
    "print(arr[::-1])\n",
    "\n",
    "arr2 = [10,20,30,1]\n",
    "print(arr2[::-1])\n",
    "\n",
    "arr3 = [3,6,8,9,10]\n",
    "print(arr3[::-1])\n",
    "\n",
    "\n",
    "# When an array is in ascending order and rotated, the middle and mid+1 element match \n",
    "# even when the array is flipped. \n",
    "# so, mid,mid+1 == mid+1, mid\n",
    "# no of flips = last pos + new pos + 1"
   ]
  },
  {
   "cell_type": "code",
   "execution_count": 111,
   "metadata": {},
   "outputs": [
    {
     "name": "stdout",
     "output_type": "stream",
     "text": [
      "4\n"
     ]
    }
   ],
   "source": [
    "def arrayRotateCheck(arr,n):\n",
    "    if n == 0 or n == 1:\n",
    "        return 0\n",
    "    arr1 = arr[::-1]\n",
    "    mid = len(arr)//2\n",
    "    if len(arr)%2 == 0:\n",
    "        mid2 = mid-1\n",
    "    else:\n",
    "        mid2 = mid\n",
    "    \n",
    "    if arr[mid] == arr1[mid2] and arr[mid2] == arr1[mid]:\n",
    "        for i in range(len(arr)-1):\n",
    "            if arr[i] > arr[i+1]:\n",
    "                return i+1\n",
    "\n",
    "arr = [26,30,33,38,1,3,6,11,12,17,22]\n",
    "print(arrayRotateCheck(arr,len(arr)))"
   ]
  },
  {
   "cell_type": "code",
   "execution_count": null,
   "metadata": {},
   "outputs": [],
   "source": [
    "# This resulted in 100% in Coding Ninjas. Passed all test cases \n",
    "\n",
    "from sys import stdin\n",
    "\n",
    "def arrayRotateCheck(arr,n):\n",
    "    if n == 0 or n == 1:\n",
    "        return 0\n",
    "    low = 0\n",
    "    high = n - 1\n",
    "    while(low <= high):\n",
    " \n",
    "        # if first element is mid or\n",
    "        # last element is mid\n",
    "        # then simply use modulo\n",
    "        # so it never goes out of bound.\n",
    "        mid = low + ((high - low) // 2)\n",
    "        prev = (mid - 1 + n) % n\n",
    "        next = (mid + 1) % n\n",
    " \n",
    "        if(arr[mid] <= arr[prev]\n",
    "           and arr[mid] <= arr[next]):\n",
    "            return mid\n",
    "        elif (arr[mid] <= arr[high]):\n",
    "            high = mid - 1\n",
    "        elif (arr[mid] >= arr[low]):\n",
    "            low = mid + 1\n",
    "    return 0\n",
    "\n",
    "#Taking Input Using Fast I/O\n",
    "def takeInput() :\n",
    "    n = int(stdin.readline().rstrip())\n",
    "    if n == 0:\n",
    "        return list(), 0\n",
    "\n",
    "    arr = list(map(int, stdin.readline().rstrip().split(\" \")))\n",
    "    return arr, n\n",
    "\n",
    "\n",
    "#main\n",
    "t = int(stdin.readline().rstrip())\n",
    "\n",
    "while t > 0 :\n",
    "\n",
    "    arr, n = takeInput()\n",
    "    print(arrayRotateCheck(arr, n))\n",
    "\n",
    "    t -= 1"
   ]
  },
  {
   "cell_type": "markdown",
   "metadata": {},
   "source": [
    "Sort 0 1 2"
   ]
  },
  {
   "cell_type": "code",
   "execution_count": 131,
   "metadata": {},
   "outputs": [
    {
     "name": "stdout",
     "output_type": "stream",
     "text": [
      "[0, 0, 0, 1, 1, 2, 2]\n"
     ]
    }
   ],
   "source": [
    "# TODO: Understand how this works \n",
    "\n",
    "def sort_012(arr,n):\n",
    "    lo = 0\n",
    "    hi = n - 1\n",
    "    mid = 0\n",
    "    while mid <= hi:\n",
    "        if arr[mid] == 0:\n",
    "            arr[lo], arr[mid] = arr[mid], arr[lo]\n",
    "            lo = lo + 1\n",
    "            mid = mid + 1\n",
    "        elif arr[mid] == 1:\n",
    "            mid = mid + 1\n",
    "        else:\n",
    "            arr[mid], arr[hi] = arr[hi], arr[mid] \n",
    "            hi = hi - 1\n",
    "\n",
    "arr = [0,1,2,0,2,0,1]\n",
    "sort_012(arr,len(arr))\n",
    "print(arr)"
   ]
  },
  {
   "cell_type": "markdown",
   "metadata": {},
   "source": [
    "Add two arrays "
   ]
  },
  {
   "cell_type": "code",
   "execution_count": 139,
   "metadata": {},
   "outputs": [
    {
     "name": "stdout",
     "output_type": "stream",
     "text": [
      "[0, 8, 6, 5]\n"
     ]
    }
   ],
   "source": [
    "arr1 = [8,5,2]\n",
    "arr2 = [1,3]\n",
    "arr3 = []\n",
    "carry = 0\n",
    "\n",
    "i,j = len(arr1)-1,len(arr2)-1\n",
    "\n",
    "while i>=0 and j >=0: \n",
    "    # until both the arrays have same number of elements \n",
    "    val1 = arr1[i]\n",
    "    val2 = arr2[j]\n",
    "\n",
    "    sum_num = val1+val2+carry\n",
    "    carry = sum_num//10\n",
    "    sum_num = sum_num%10\n",
    "    arr3.append(sum_num)\n",
    "\n",
    "    i-=1\n",
    "    j-=1\n",
    "\n",
    "while i >=0:\n",
    "    # while First Array has some numbers remaining\n",
    "    sum_num = arr1[i]+carry\n",
    "    carry = sum_num//10\n",
    "    sum_num = sum_num%10\n",
    "    arr3.append(sum_num)\n",
    "    i-=1\n",
    "\n",
    "while j>=0:\n",
    "    # while Second Array has some numbers remaining\n",
    "    sum_num = arr2[j]+carry\n",
    "    carry = sum_num//10\n",
    "    sum_num = sum_num%10\n",
    "    arr3.append(sum_num)\n",
    "    i-=1\n",
    "\n",
    "if carry != 0:\n",
    "    arr3.append(carry)\n",
    "else :\n",
    "    arr3.append(0)\n",
    "\n",
    "arr3 = arr3[::-1]\n",
    "print(arr3)"
   ]
  },
  {
   "cell_type": "code",
   "execution_count": 142,
   "metadata": {},
   "outputs": [
    {
     "name": "stdout",
     "output_type": "stream",
     "text": [
      "[1, 2, 9, 0]\n"
     ]
    }
   ],
   "source": [
    "def sumOfTwoArrays(arr1, n, arr2, m) :\n",
    "    i,j = n-1,m-1\n",
    "    arr3 = []\n",
    "    carry = 0\n",
    "\n",
    "    while i>=0 and j >=0: \n",
    "        # until both the arrays have same number of elements \n",
    "        val1 = arr1[i]\n",
    "        val2 = arr2[j]\n",
    "\n",
    "        sum_num = val1+val2+carry\n",
    "        carry = sum_num//10\n",
    "        sum_num = sum_num%10\n",
    "        arr3.append(sum_num)\n",
    "\n",
    "        i-=1\n",
    "        j-=1\n",
    "\n",
    "    while i >=0:\n",
    "        # while First Array has some numbers remaining\n",
    "        sum_num = arr1[i]+carry\n",
    "        carry = sum_num//10\n",
    "        sum_num = sum_num%10\n",
    "        arr3.append(sum_num)\n",
    "        i-=1\n",
    "\n",
    "    while j>=0:\n",
    "        # while Second Array has some numbers remaining\n",
    "        sum_num = arr2[j]+carry\n",
    "        carry = sum_num//10\n",
    "        sum_num = sum_num%10\n",
    "        arr3.append(sum_num)\n",
    "        i-=1\n",
    "\n",
    "    if carry != 0:\n",
    "        arr3.append(carry)\n",
    "    else :\n",
    "        arr3.append(0)\n",
    "\n",
    "    output = arr3[::-1]\n",
    "    print(output)\n",
    "\n",
    "arr1 = [6,9,8,]\n",
    "arr2 = [5,9,2]\n",
    "sumOfTwoArrays(arr1,len(arr1),arr2,len(arr2))"
   ]
  },
  {
   "cell_type": "code",
   "execution_count": null,
   "metadata": {},
   "outputs": [],
   "source": []
  }
 ],
 "metadata": {
  "kernelspec": {
   "display_name": "Python 3.10.6 64-bit (system)",
   "language": "python",
   "name": "python3"
  },
  "language_info": {
   "codemirror_mode": {
    "name": "ipython",
    "version": 3
   },
   "file_extension": ".py",
   "mimetype": "text/x-python",
   "name": "python",
   "nbconvert_exporter": "python",
   "pygments_lexer": "ipython3",
   "version": "3.10.6"
  },
  "orig_nbformat": 4,
  "vscode": {
   "interpreter": {
    "hash": "1ea856f75c744b83ee05856dd1a145e8846d73b2689b503f4e3256f20a6fee7c"
   }
  }
 },
 "nbformat": 4,
 "nbformat_minor": 2
}
