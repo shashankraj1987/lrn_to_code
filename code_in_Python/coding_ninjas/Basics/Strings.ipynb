{
 "cells": [
  {
   "cell_type": "markdown",
   "metadata": {},
   "source": [
    "# Strings in Python"
   ]
  },
  {
   "cell_type": "code",
   "execution_count": 1,
   "metadata": {},
   "outputs": [
    {
     "name": "stdout",
     "output_type": "stream",
     "text": [
      "ed\n"
     ]
    }
   ],
   "source": [
    "s = \"abcdef\"\n",
    "print (s[4:2:-1])"
   ]
  },
  {
   "cell_type": "code",
   "execution_count": 2,
   "metadata": {},
   "outputs": [
    {
     "data": {
      "text/plain": [
       "False"
      ]
     },
     "execution_count": 2,
     "metadata": {},
     "output_type": "execute_result"
    }
   ],
   "source": [
    "\"Shashank\" >= \"shashankraj\""
   ]
  },
  {
   "cell_type": "code",
   "execution_count": 4,
   "metadata": {},
   "outputs": [
    {
     "name": "stdout",
     "output_type": "stream",
     "text": [
      "False\n"
     ]
    }
   ],
   "source": [
    "def checkPalindrome(str):\n",
    "    str1 = str[::-1]\n",
    "    if str == str1:\n",
    "        return True\n",
    "    else:\n",
    "        return False\n",
    "\n",
    "print(checkPalindrome(\"coding\"))"
   ]
  },
  {
   "cell_type": "code",
   "execution_count": 6,
   "metadata": {},
   "outputs": [
    {
     "name": "stdout",
     "output_type": "stream",
     "text": [
      "True\n"
     ]
    }
   ],
   "source": [
    "a = \"abce\" >= \"abcdef\"\n",
    "print(a)"
   ]
  },
  {
   "cell_type": "code",
   "execution_count": 7,
   "metadata": {},
   "outputs": [
    {
     "data": {
      "text/plain": [
       "['My', 'name is Shashank']"
      ]
     },
     "execution_count": 7,
     "metadata": {},
     "output_type": "execute_result"
    }
   ],
   "source": [
    "# SPlitting a String \n",
    "\n",
    "\"My name is Shashank\".split(' ',1)"
   ]
  },
  {
   "cell_type": "code",
   "execution_count": 8,
   "metadata": {},
   "outputs": [
    {
     "data": {
      "text/plain": [
       "'I am Shashank'"
      ]
     },
     "execution_count": 8,
     "metadata": {},
     "output_type": "execute_result"
    }
   ],
   "source": [
    "# Replace a Substring \n",
    "\n",
    "\"My name is Shashank\".replace(\"My name is\",\"I am\")"
   ]
  },
  {
   "cell_type": "code",
   "execution_count": 9,
   "metadata": {},
   "outputs": [
    {
     "data": {
      "text/plain": [
       "4"
      ]
     },
     "execution_count": 9,
     "metadata": {},
     "output_type": "execute_result"
    }
   ],
   "source": [
    "\"ABC DEF\".find(\"DE\")"
   ]
  },
  {
   "cell_type": "code",
   "execution_count": 1,
   "metadata": {},
   "outputs": [
    {
     "name": "stdout",
     "output_type": "stream",
     "text": [
      "True\n"
     ]
    }
   ],
   "source": [
    "def isPermutation(string1, string2):\n",
    "    if len(string2) != len(string2):\n",
    "        return False\n",
    "    elif len(string1.split()) == 0 or len(string2.split()) == 0:\n",
    "        return False\n",
    "    \n",
    "    for char in string1:\n",
    "        if char not in string2:\n",
    "            return False\n",
    "    \n",
    "    return True\n",
    "\n",
    "str1 = \"abcdd\"\n",
    "str2 = \"abbcd\"\n",
    "\n",
    "print(isPermutation(str1,str2))\n",
    "\n"
   ]
  },
  {
   "cell_type": "code",
   "execution_count": 9,
   "metadata": {},
   "outputs": [
    {
     "name": "stdout",
     "output_type": "stream",
     "text": [
      "abcd abbcd\n",
      "Length not equal after removing duplicates\n",
      "False\n"
     ]
    }
   ],
   "source": [
    "def isPermutation2(string1, string2):\n",
    "\n",
    "    if len(string1) != len(string2):\n",
    "        print(\"Length not equal\")\n",
    "        return False\n",
    "    elif len(string1.split()) == 0 or len(string2.split()) == 0:\n",
    "        print(\"One is blank\")\n",
    "        return False\n",
    "    \n",
    "    if remove_dup(string1) and remove_dup(string2):\n",
    "        print(\"Equal after removing duplicates\")\n",
    "        for char in string1:\n",
    "            if char not in string2:\n",
    "                print(\"didn't find a value\")\n",
    "                return False\n",
    "            else:\n",
    "                string2.replace(char,\"_\")\n",
    "        print(string2)\n",
    "        print(\"Found all chars\")\n",
    "        return True\n",
    "    else:\n",
    "        print(\"Length not equal after removing duplicates\")\n",
    "        return False\n",
    "\n",
    "\n",
    "def remove_dup(string) :\n",
    "    unq_string = \"\"\n",
    "    for i in range(len(string)-1):\n",
    "        if string[i] == string[i+1]:\n",
    "            continue\n",
    "        else:\n",
    "            unq_string = unq_string+string[i]\n",
    "    unq_string = unq_string+string[len(string)-1]\n",
    "    print(unq_string,string)\n",
    "    if len(unq_string) == len(string):\n",
    "        return True\n",
    "    else:\n",
    "        return False\n",
    "\n",
    "str1 = \"abbcd\"\n",
    "str2 = \"abccd\"\n",
    "\n",
    "print(isPermutation2(str1,str2))\n"
   ]
  },
  {
   "cell_type": "code",
   "execution_count": 1,
   "metadata": {},
   "outputs": [
    {
     "name": "stdout",
     "output_type": "stream",
     "text": [
      "xyzx\n"
     ]
    }
   ],
   "source": [
    "# Remove Consecutive Duplicates in String \n",
    "\n",
    "def removeConsecutiveDuplicates(string) :\n",
    "    unq_string = \"\"\n",
    "    for i in range(len(string)-1):\n",
    "        if string[i] == string[i+1]:\n",
    "            continue\n",
    "        else:\n",
    "            unq_string = unq_string+string[i]\n",
    "    \n",
    "    return unq_string+string[len(string)-1]\n",
    "\n",
    "string = \"xxyyzxx\"\n",
    "print(removeConsecutiveDuplicates(string))"
   ]
  },
  {
   "cell_type": "code",
   "execution_count": 36,
   "metadata": {},
   "outputs": [
    {
     "data": {
      "text/plain": [
       "'syawlA tnedni ruoy edoc '"
      ]
     },
     "execution_count": 36,
     "metadata": {},
     "output_type": "execute_result"
    }
   ],
   "source": [
    "# Reverse each word in a String\n",
    "\n",
    "def reverseEachWord(string) :\n",
    "    reversed = \"\"\n",
    "    words = string.split()\n",
    "    for word in words:\n",
    "        reversed = reversed+word[::-1]+\" \"\n",
    "\n",
    "    return reversed\n",
    "\n",
    "\n",
    "string = \"Always indent your code\"\n",
    "reverseEachWord(string)"
   ]
  },
  {
   "cell_type": "code",
   "execution_count": null,
   "metadata": {},
   "outputs": [],
   "source": [
    "# Remove all occurances of a String \n",
    "def removeAllOccurrencesOfChar(string, ch) :\n",
    "    final = \"\"\n",
    "    for x in string:\n",
    "        if x != ch:\n",
    "            final = final+x\n",
    "    \n",
    "    return final\n",
    "\n",
    "string = \"xxyyzzxx\"\n",
    "to_remove = \"y\""
   ]
  },
  {
   "cell_type": "code",
   "execution_count": 55,
   "metadata": {},
   "outputs": [
    {
     "name": "stdout",
     "output_type": "stream",
     "text": [
      "a\n",
      "a\n"
     ]
    }
   ],
   "source": [
    "# Highest Occuring Character \n",
    "# One test case failed in this solution. \n",
    "\n",
    "def highestOccuringChar(string) :\n",
    "    str_map = {}\n",
    "    for char in string:\n",
    "        if char in str_map:\n",
    "            str_map[char] +=1\n",
    "        else:\n",
    "            str_map[char] = 1\n",
    "\n",
    "    # print(str_map)\n",
    "    max_val = 0\n",
    "    max_key = \"\"\n",
    "\n",
    "    for x in str_map.keys():\n",
    "        if str_map[x] > max_val:\n",
    "            max_key = x\n",
    "            max_val = str_map[x]\n",
    "        elif str_map[x] == max_val:\n",
    "            if string.find(x) < string.find(max_key):\n",
    "                return x\n",
    "            else:\n",
    "                return max_key\n",
    "\n",
    "    # print(max_key,max_val)\n",
    "    \n",
    "    return max_key\n",
    "\n",
    "print(highestOccuringChar(\"acccbbaba\"))\n",
    "\n",
    "\n",
    "\n",
    "# This resulted in 100% in Coding ninjas. \n",
    "# TODO: Find out how it is different from the above solution \n",
    "\n",
    "def highestOccuringChar1(string) :\n",
    "    list1=[]\n",
    "    list2=[]\n",
    "    for i in string:\n",
    "        if i not in list1:\n",
    "            list1.append(i)#appending unique characters of string\n",
    "            list2.append(string.count(i))\n",
    "        #finding maximum in the list\n",
    "    occ=max(list2)\n",
    "    ele=list1[list2.index(occ)]\n",
    "    return ele\n",
    "\n",
    "print(highestOccuringChar1(\"acccbbaba\"))"
   ]
  },
  {
   "cell_type": "code",
   "execution_count": 47,
   "metadata": {},
   "outputs": [
    {
     "name": "stdout",
     "output_type": "stream",
     "text": [
      "a3b2c2dsa\n"
     ]
    }
   ],
   "source": [
    "# TODO: https://www.tutorialspoint.com/program-to-perform-string-compression-in-python\n",
    "# Check how thos works\n",
    "\n",
    "\n",
    "def getCompressedString(s) :\n",
    "   res = \"\"\n",
    "   cnt = 1\n",
    "   for i in range(1, len(s)):\n",
    "      if s[i - 1] == s[i]:\n",
    "         cnt += 1\n",
    "      else:\n",
    "         res = res + s[i - 1]\n",
    "         if cnt > 1:\n",
    "            res += str(cnt)\n",
    "         cnt = 1\n",
    "   res = res + s[-1]\n",
    "   if cnt > 1:\n",
    "      res += str(cnt)\n",
    "   return res\n",
    "\n",
    "print(getCompressedString(\"aaabbccdsa\"))"
   ]
  },
  {
   "cell_type": "code",
   "execution_count": 58,
   "metadata": {},
   "outputs": [
    {
     "data": {
      "text/plain": [
       "0"
      ]
     },
     "execution_count": 58,
     "metadata": {},
     "output_type": "execute_result"
    }
   ],
   "source": [
    "str1 = \" \"\n",
    "len(str1.split())"
   ]
  }
 ],
 "metadata": {
  "kernelspec": {
   "display_name": "Python 3.10.4 64-bit (system)",
   "language": "python",
   "name": "python3"
  },
  "language_info": {
   "codemirror_mode": {
    "name": "ipython",
    "version": 3
   },
   "file_extension": ".py",
   "mimetype": "text/x-python",
   "name": "python",
   "nbconvert_exporter": "python",
   "pygments_lexer": "ipython3",
   "version": "3.10.4"
  },
  "orig_nbformat": 4,
  "vscode": {
   "interpreter": {
    "hash": "989b18c85b380cb5d4dc88751aba259d5b2349ae82f143d55ba9fdb5c3f8c88a"
   }
  }
 },
 "nbformat": 4,
 "nbformat_minor": 2
}
