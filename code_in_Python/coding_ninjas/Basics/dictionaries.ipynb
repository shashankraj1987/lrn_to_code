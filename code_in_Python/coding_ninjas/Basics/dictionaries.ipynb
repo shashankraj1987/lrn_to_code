{
 "cells": [
  {
   "cell_type": "markdown",
   "metadata": {},
   "source": [
    "# Dictoinaries"
   ]
  },
  {
   "cell_type": "markdown",
   "metadata": {},
   "source": [
    "### Methods to Create a Dictionary"
   ]
  },
  {
   "cell_type": "code",
   "execution_count": 2,
   "metadata": {},
   "outputs": [
    {
     "name": "stdout",
     "output_type": "stream",
     "text": [
      "{}\n",
      "{'a': 2, 'b': 10, 100: 'c'}\n",
      "{'abc': None, 'def': None, 'ghi': None}\n",
      "{'abc': 10, 'def': 10, 'ghi': 10}\n"
     ]
    }
   ],
   "source": [
    "d1 = {}\n",
    "d2 = {\"a\":2,\"b\":10,100:\"c\"}\n",
    "d3 = dict.fromkeys([\"abc\",\"def\",\"ghi\"])\n",
    "# If no value is passed, d3 will have NONE as default values\n",
    "\n",
    "# We can also do this\n",
    "d4 = dict.fromkeys([\"abc\",\"def\",\"ghi\"],10)\n",
    "# This gives them a default values of 10\n",
    "\n",
    "print(d1)\n",
    "print(d2)\n",
    "print(d3)\n",
    "print(d4)"
   ]
  },
  {
   "cell_type": "markdown",
   "metadata": {},
   "source": [
    "### Accessing the Values of a Dict"
   ]
  },
  {
   "cell_type": "code",
   "execution_count": 7,
   "metadata": {},
   "outputs": [
    {
     "data": {
      "text/plain": [
       "'Not Present'"
      ]
     },
     "execution_count": 7,
     "metadata": {},
     "output_type": "execute_result"
    }
   ],
   "source": [
    "d4[\"abc\"] \n",
    "\n",
    "d4.get(\"abc\")\n",
    "\n",
    "\n",
    "# get() method will not throw error if a key is not present. Instead, it will just say NONE. \n",
    "# Otherwise, using d4[\"gho\"] will throw an error saying key not present. \n",
    "\n",
    "\n",
    "d4.get(\"gho\", \"Not Present\")\n",
    "\n",
    "# It will return the value corresponding to the jey if present, else it will return the second argument.\n",
    "# WHich in this case is \"Not Present \""
   ]
  },
  {
   "cell_type": "markdown",
   "metadata": {},
   "source": [
    "Updating a Dictionary"
   ]
  },
  {
   "cell_type": "code",
   "execution_count": 13,
   "metadata": {},
   "outputs": [
    {
     "name": "stdout",
     "output_type": "stream",
     "text": [
      "{'a': 10, 'b': 40, 'c': 30, 'd': 12, 'f': 55}\n"
     ]
    }
   ],
   "source": [
    "dict_a = {\"a\":10,\"b\":20,\"c\":30}\n",
    "dict_b = {\"b\":40,\"d\":12,\"f\":55}\n",
    "\n",
    "dict_a.update(dict_b)\n",
    "\n",
    "print(dict_a)"
   ]
  },
  {
   "cell_type": "markdown",
   "metadata": {},
   "source": [
    "### Opeartions on Dictionaries"
   ]
  },
  {
   "cell_type": "code",
   "execution_count": 14,
   "metadata": {},
   "outputs": [],
   "source": [
    "dict_a.pop(\"a\")\n",
    "del dict_a['f']"
   ]
  },
  {
   "cell_type": "code",
   "execution_count": 15,
   "metadata": {},
   "outputs": [
    {
     "data": {
      "text/plain": [
       "{'b': 40, 'c': 30, 'd': 12}"
      ]
     },
     "execution_count": 15,
     "metadata": {},
     "output_type": "execute_result"
    }
   ],
   "source": [
    "dict_a"
   ]
  },
  {
   "cell_type": "code",
   "execution_count": 16,
   "metadata": {},
   "outputs": [
    {
     "data": {
      "text/plain": [
       "{}"
      ]
     },
     "execution_count": 16,
     "metadata": {},
     "output_type": "execute_result"
    }
   ],
   "source": [
    "# To Empty the Dictionary : \n",
    "\n",
    "dict_a.clear()\n",
    "dict_a"
   ]
  },
  {
   "cell_type": "code",
   "execution_count": 17,
   "metadata": {},
   "outputs": [
    {
     "ename": "NameError",
     "evalue": "name 'dict_a' is not defined",
     "output_type": "error",
     "traceback": [
      "\u001b[1;31m---------------------------------------------------------------------------\u001b[0m",
      "\u001b[1;31mNameError\u001b[0m                                 Traceback (most recent call last)",
      "\u001b[1;32mc:\\github\\DS_Algo\\code_in_Python\\coding_ninjas\\dictionaries.ipynb Cell 12\u001b[0m in \u001b[0;36m<cell line: 5>\u001b[1;34m()\u001b[0m\n\u001b[0;32m      <a href='vscode-notebook-cell:/c%3A/github/DS_Algo/code_in_Python/coding_ninjas/dictionaries.ipynb#X15sZmlsZQ%3D%3D?line=0'>1</a>\u001b[0m \u001b[39m# Delete a Dictionary \u001b[39;00m\n\u001b[0;32m      <a href='vscode-notebook-cell:/c%3A/github/DS_Algo/code_in_Python/coding_ninjas/dictionaries.ipynb#X15sZmlsZQ%3D%3D?line=2'>3</a>\u001b[0m \u001b[39mdel\u001b[39;00m(dict_a)\n\u001b[1;32m----> <a href='vscode-notebook-cell:/c%3A/github/DS_Algo/code_in_Python/coding_ninjas/dictionaries.ipynb#X15sZmlsZQ%3D%3D?line=4'>5</a>\u001b[0m \u001b[39mprint\u001b[39m(dict_a)\n",
      "\u001b[1;31mNameError\u001b[0m: name 'dict_a' is not defined"
     ]
    }
   ],
   "source": [
    "# Delete a Dictionary \n",
    "\n",
    "del(dict_a)\n",
    "\n",
    "print(dict_a)"
   ]
  },
  {
   "cell_type": "code",
   "execution_count": 21,
   "metadata": {},
   "outputs": [
    {
     "name": "stdout",
     "output_type": "stream",
     "text": [
      "{'a': 2, 'sentence': 1, 'in': 1, 'line': 1}\n"
     ]
    }
   ],
   "source": [
    "a = \"a sentence in a line\"\n",
    "dict = {}\n",
    "\n",
    "for x in a.split():\n",
    "    dict[x] = dict.get(x,0)+1\n",
    "\n",
    "print(dict)\n"
   ]
  }
 ],
 "metadata": {
  "kernelspec": {
   "display_name": "Python 3.10.6 64-bit (system)",
   "language": "python",
   "name": "python3"
  },
  "language_info": {
   "codemirror_mode": {
    "name": "ipython",
    "version": 3
   },
   "file_extension": ".py",
   "mimetype": "text/x-python",
   "name": "python",
   "nbconvert_exporter": "python",
   "pygments_lexer": "ipython3",
   "version": "3.10.6"
  },
  "orig_nbformat": 4,
  "vscode": {
   "interpreter": {
    "hash": "1ea856f75c744b83ee05856dd1a145e8846d73b2689b503f4e3256f20a6fee7c"
   }
  }
 },
 "nbformat": 4,
 "nbformat_minor": 2
}
