{
 "cells": [
  {
   "cell_type": "code",
   "execution_count": 1,
   "metadata": {},
   "outputs": [
    {
     "name": "stdout",
     "output_type": "stream",
     "text": [
      "12\n"
     ]
    }
   ],
   "source": [
    "a=14\n",
    "def f():\n",
    "    global a\n",
    "    a=12\n",
    "f()\n",
    "print(a)"
   ]
  },
  {
   "cell_type": "code",
   "execution_count": 4,
   "metadata": {},
   "outputs": [
    {
     "name": "stdout",
     "output_type": "stream",
     "text": [
      "0 -17\n",
      "20 -6\n",
      "40 4\n",
      "60 15\n",
      "80 26\n",
      "100 37\n"
     ]
    }
   ],
   "source": [
    "def printTable(start,end,step):\n",
    "    for i in range(start,end+1,step):\n",
    "        cel_val = int((5/9)*(i-32))\n",
    "        print(i, cel_val)\n",
    "    \n",
    "s = 0\n",
    "e = 100\n",
    "step = 20\n",
    "printTable(s,e,step)\n"
   ]
  },
  {
   "cell_type": "code",
   "execution_count": 12,
   "metadata": {},
   "outputs": [
    {
     "name": "stdout",
     "output_type": "stream",
     "text": [
      "false\n"
     ]
    }
   ],
   "source": [
    "# Check if a given number N is part of a Fibonacci Series.\n",
    "\n",
    "def checkMember(n):\n",
    "    if n in (0,1):\n",
    "        return True\n",
    "\n",
    "    fib = 1\n",
    "    first = 1\n",
    "    second = 1\n",
    "    counter = 3\n",
    "\n",
    "    while counter <= n+1:\n",
    "        fib = first+second\n",
    "        first = second\n",
    "        second = fib\n",
    "        counter += 1\n",
    "        if fib == n:\n",
    "            return True\n",
    "        elif fib > n:\n",
    "            return False\n",
    "\n",
    "    return False\n",
    "\n",
    "n=14\n",
    "if(checkMember(n)):\n",
    "    print(\"true\")\n",
    "else:\n",
    "    print(\"false\")"
   ]
  },
  {
   "cell_type": "code",
   "execution_count": 25,
   "metadata": {},
   "outputs": [
    {
     "name": "stdout",
     "output_type": "stream",
     "text": [
      "False\n"
     ]
    }
   ],
   "source": [
    "# Function to Check Palindrome\n",
    "\n",
    "def checkPalindrome(num):\n",
    "    n = num\n",
    "    n2 = 0\n",
    "    while n > 0:\n",
    "        n2 = n2*10+(n%10)\n",
    "        n = n//10\n",
    "\n",
    "    if num == n2:\n",
    "        return True\n",
    "    else:\n",
    "        return False\n",
    "\n",
    "print(checkPalindrome(1032))"
   ]
  },
  {
   "cell_type": "code",
   "execution_count": 46,
   "metadata": {},
   "outputs": [
    {
     "name": "stdout",
     "output_type": "stream",
     "text": [
      "True\n"
     ]
    }
   ],
   "source": [
    "# Check Armstrong Number\n",
    "\n",
    "def checkArmstrong(num):\n",
    "    n = str(num)\n",
    "    n2 = 0\n",
    "    pow_val = len(n)\n",
    "    for i in n:\n",
    "        q = int(i)\n",
    "        n2 = n2+(q**pow_val)\n",
    "    \n",
    "    if num == n2:\n",
    "        return True\n",
    "    else:\n",
    "        return False\n",
    "\n",
    "print(checkArmstrong(371))"
   ]
  }
 ],
 "metadata": {
  "kernelspec": {
   "display_name": "Python 3.10.5 64-bit (system)",
   "language": "python",
   "name": "python3"
  },
  "language_info": {
   "codemirror_mode": {
    "name": "ipython",
    "version": 3
   },
   "file_extension": ".py",
   "mimetype": "text/x-python",
   "name": "python",
   "nbconvert_exporter": "python",
   "pygments_lexer": "ipython3",
   "version": "3.10.5"
  },
  "orig_nbformat": 4,
  "vscode": {
   "interpreter": {
    "hash": "1ea856f75c744b83ee05856dd1a145e8846d73b2689b503f4e3256f20a6fee7c"
   }
  }
 },
 "nbformat": 4,
 "nbformat_minor": 2
}
