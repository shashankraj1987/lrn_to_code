{
 "cells": [
  {
   "cell_type": "code",
   "execution_count": 1,
   "metadata": {},
   "outputs": [
    {
     "name": "stdout",
     "output_type": "stream",
     "text": [
      "7777777\n",
      "7777777\n",
      "7777777\n",
      "7777777\n",
      "7777777\n",
      "7777777\n",
      "7777777\n"
     ]
    }
   ],
   "source": [
    "num = 7\n",
    "x = 1\n",
    "\n",
    "while x <=num:\n",
    "    y = 1\n",
    "    while y <=num:\n",
    "        print(num, end = '')\n",
    "        y+=1\n",
    "    print()\n",
    "    x+=1"
   ]
  },
  {
   "cell_type": "markdown",
   "metadata": {},
   "source": [
    "Square Patterns"
   ]
  },
  {
   "cell_type": "code",
   "execution_count": 2,
   "metadata": {},
   "outputs": [
    {
     "name": "stdout",
     "output_type": "stream",
     "text": [
      "11111\n",
      "22222\n",
      "33333\n",
      "44444\n",
      "55555\n"
     ]
    }
   ],
   "source": [
    "num = 5\n",
    "x = 1\n",
    "\n",
    "while x<=num:\n",
    "    y = 1\n",
    "    while y<=num:\n",
    "        print(x,end='')\n",
    "        y+=1\n",
    "    print()\n",
    "    x+=1"
   ]
  },
  {
   "cell_type": "code",
   "execution_count": 3,
   "metadata": {},
   "outputs": [
    {
     "name": "stdout",
     "output_type": "stream",
     "text": [
      "12345\n",
      "12345\n",
      "12345\n",
      "12345\n",
      "12345\n"
     ]
    }
   ],
   "source": [
    "num = 5\n",
    "x = 1\n",
    "\n",
    "while x<=num:\n",
    "    y = 1\n",
    "    while y<=num:\n",
    "        print(y,end='')\n",
    "        y+=1\n",
    "    print()\n",
    "    x+=1"
   ]
  },
  {
   "cell_type": "code",
   "execution_count": 4,
   "metadata": {},
   "outputs": [
    {
     "name": "stdout",
     "output_type": "stream",
     "text": [
      "54321\n",
      "54321\n",
      "54321\n",
      "54321\n",
      "54321\n"
     ]
    }
   ],
   "source": [
    "num = 5\n",
    "x = 1\n",
    "\n",
    "while x<=num:\n",
    "    y = num\n",
    "    while y>=1:\n",
    "        print(y,end='')\n",
    "        y-=1\n",
    "    print()\n",
    "    x+=1"
   ]
  },
  {
   "cell_type": "markdown",
   "metadata": {},
   "source": [
    "Triangular Patterns"
   ]
  },
  {
   "cell_type": "code",
   "execution_count": 5,
   "metadata": {},
   "outputs": [
    {
     "name": "stdout",
     "output_type": "stream",
     "text": [
      "1\n",
      "12\n",
      "123\n",
      "1234\n"
     ]
    }
   ],
   "source": [
    "num = 4\n",
    "\n",
    "x = 1\n",
    "while x <= num:\n",
    "    j = 1\n",
    "    while j <= x:\n",
    "        print(j,end = '')\n",
    "        j+=1\n",
    "    print()\n",
    "    x+=1"
   ]
  },
  {
   "cell_type": "code",
   "execution_count": 6,
   "metadata": {},
   "outputs": [
    {
     "name": "stdout",
     "output_type": "stream",
     "text": [
      "1\n",
      "23\n",
      "345\n",
      "4567\n",
      "56789\n"
     ]
    }
   ],
   "source": [
    "num = 5\n",
    "n = 1\n",
    "\n",
    "while n<=num:\n",
    "    cntr = 0\n",
    "    while cntr<n:\n",
    "        print(n+cntr,end = '')\n",
    "        cntr +=1\n",
    "    print()\n",
    "    n+=1"
   ]
  },
  {
   "cell_type": "code",
   "execution_count": 7,
   "metadata": {},
   "outputs": [
    {
     "name": "stdout",
     "output_type": "stream",
     "text": [
      "1\n",
      "23\n",
      "456\n",
      "78910\n"
     ]
    }
   ],
   "source": [
    "num = 4\n",
    "n = 1\n",
    "p = 1\n",
    "while n <= num:\n",
    "    x = 1\n",
    "    while x  <= n:\n",
    "        print(p,end = '')\n",
    "        x+=1\n",
    "        p+=1\n",
    "    print()\n",
    "    n+=1"
   ]
  },
  {
   "cell_type": "code",
   "execution_count": 8,
   "metadata": {},
   "outputs": [
    {
     "name": "stdout",
     "output_type": "stream",
     "text": [
      "*\n",
      "**\n",
      "***\n",
      "****\n",
      "*****\n",
      "******\n"
     ]
    }
   ],
   "source": [
    "num = 6\n",
    "n =1 \n",
    "\n",
    "while n <= num:\n",
    "    j = 1\n",
    "    while j <=n:\n",
    "        print(\"*\",end = '')\n",
    "        j+=1\n",
    "    print()\n",
    "    n+=1\n",
    "    "
   ]
  },
  {
   "cell_type": "code",
   "execution_count": 9,
   "metadata": {},
   "outputs": [
    {
     "name": "stdout",
     "output_type": "stream",
     "text": [
      "1\n",
      "22\n",
      "333\n",
      "4444\n",
      "55555\n",
      "666666\n"
     ]
    }
   ],
   "source": [
    "num = 6\n",
    "n =1 \n",
    "\n",
    "while n <= num:\n",
    "    j = 1\n",
    "    while j <= n:\n",
    "        print(n,end = '')\n",
    "        j+=1\n",
    "    print()\n",
    "    n+=1\n",
    "    "
   ]
  },
  {
   "cell_type": "code",
   "execution_count": 10,
   "metadata": {},
   "outputs": [
    {
     "name": "stdout",
     "output_type": "stream",
     "text": [
      "1\n",
      "21\n",
      "321\n",
      "4321\n",
      "54321\n",
      "654321\n"
     ]
    }
   ],
   "source": [
    "num = 6\n",
    "n =1 \n",
    "\n",
    "while n <= num:\n",
    "    j = n\n",
    "    while j >= 1:\n",
    "        print(j,end = '')\n",
    "        j-=1\n",
    "    print()\n",
    "    n+=1\n",
    "    "
   ]
  },
  {
   "cell_type": "markdown",
   "metadata": {},
   "source": [
    "Printing Alphabets"
   ]
  },
  {
   "cell_type": "code",
   "execution_count": 11,
   "metadata": {},
   "outputs": [
    {
     "name": "stdout",
     "output_type": "stream",
     "text": [
      "65\n",
      "B\n"
     ]
    }
   ],
   "source": [
    "print(ord('A'))\n",
    "print(chr(66))"
   ]
  },
  {
   "cell_type": "code",
   "execution_count": 12,
   "metadata": {},
   "outputs": [
    {
     "name": "stdout",
     "output_type": "stream",
     "text": [
      "To get the K th character in Alphabet\n",
      "F\n"
     ]
    }
   ],
   "source": [
    "print(\"To get the K th character in Alphabet\")\n",
    "\n",
    "k = 6  # 6th Character is \"F\"\n",
    "ascii_trgt = 65+k-1\n",
    "print(chr(ascii_trgt))"
   ]
  },
  {
   "cell_type": "code",
   "execution_count": 13,
   "metadata": {},
   "outputs": [
    {
     "name": "stdout",
     "output_type": "stream",
     "text": [
      "ABCDEF\n",
      "ABCDEF\n",
      "ABCDEF\n",
      "ABCDEF\n",
      "ABCDEF\n",
      "ABCDEF\n"
     ]
    }
   ],
   "source": [
    "num = 6\n",
    "n = 1\n",
    "\n",
    "while n <= num:\n",
    "    j = 1\n",
    "    while j <= num:\n",
    "        trgt_val = chr(65+j-1)\n",
    "        print(trgt_val, end = '')\n",
    "        j+=1\n",
    "    print()\n",
    "    n+=1"
   ]
  },
  {
   "cell_type": "code",
   "execution_count": 14,
   "metadata": {},
   "outputs": [
    {
     "name": "stdout",
     "output_type": "stream",
     "text": [
      "ABCDEF\n",
      "BCDEFG\n",
      "CDEFGH\n",
      "DEFGHI\n",
      "EFGHIJ\n",
      "FGHIJK\n"
     ]
    }
   ],
   "source": [
    "num = 6\n",
    "n = 1\n",
    "j = 0\n",
    "\n",
    "while n <= num:\n",
    "    cntr = 1\n",
    "    while cntr <= num:\n",
    "        trgt_val = chr(65+cntr+j-1)\n",
    "        print(trgt_val, end = '')\n",
    "        cntr +=1\n",
    "    print()\n",
    "    j+=1\n",
    "    n += 1   "
   ]
  },
  {
   "cell_type": "code",
   "execution_count": 15,
   "metadata": {},
   "outputs": [
    {
     "name": "stdout",
     "output_type": "stream",
     "text": [
      "A\n",
      "BC\n",
      "CDE\n",
      "DEFG\n",
      "EFGHI\n",
      "FGHIJK\n"
     ]
    }
   ],
   "source": [
    "n = 6\n",
    "num = 65\n",
    "i = 1\n",
    "\n",
    "while i <= n:\n",
    "    j = 1\n",
    "    while j <= i:\n",
    "        print(chr(num+j-1), end = '')\n",
    "        j+=1\n",
    "    print()\n",
    "    i+=1\n",
    "    num+=1"
   ]
  },
  {
   "cell_type": "code",
   "execution_count": 16,
   "metadata": {},
   "outputs": [
    {
     "name": "stdout",
     "output_type": "stream",
     "text": [
      "0 \n",
      "10 \n",
      "210 \n",
      "3210 \n",
      "43210 \n"
     ]
    }
   ],
   "source": [
    "n = 0\n",
    "cntr = 0\n",
    "\n",
    "while n <5:\n",
    "    k = 0\n",
    "    while k <= cntr:\n",
    "        print(cntr-k,end ='')\n",
    "        k+=1\n",
    "    n+=1\n",
    "    cntr += 1\n",
    "    print(\" \")"
   ]
  },
  {
   "cell_type": "code",
   "execution_count": 17,
   "metadata": {},
   "outputs": [
    {
     "name": "stdout",
     "output_type": "stream",
     "text": [
      "G\n",
      "FG\n",
      "EFG\n",
      "DEFG\n",
      "CDEFG\n",
      "BCDEFG\n",
      "ABCDEFG\n"
     ]
    }
   ],
   "source": [
    "num = 65\n",
    "tot = 7\n",
    "n = 0\n",
    "cntr = 0\n",
    "\n",
    "while n <tot:\n",
    "    k = 0\n",
    "    while k <= cntr:\n",
    "        str = num+(tot-(cntr-k))-1\n",
    "        print(chr(str),end ='')\n",
    "        k+=1\n",
    "    n+=1\n",
    "    cntr += 1\n",
    "    print()"
   ]
  },
  {
   "cell_type": "code",
   "execution_count": 18,
   "metadata": {},
   "outputs": [
    {
     "name": "stdout",
     "output_type": "stream",
     "text": [
      "1\n",
      "11\n",
      "111\n",
      "1111\n",
      "11111\n"
     ]
    }
   ],
   "source": [
    "n = 5\n",
    "j= 1\n",
    "while j <= n:\n",
    "    k = 1\n",
    "    while k<=j:\n",
    "        print(\"1\",end = '')\n",
    "        k+=1\n",
    "    print()\n",
    "    j+=1"
   ]
  },
  {
   "cell_type": "code",
   "execution_count": 19,
   "metadata": {},
   "outputs": [
    {
     "name": "stdout",
     "output_type": "stream",
     "text": [
      "1\n",
      "11\n",
      "202\n",
      "3003\n",
      "40004\n"
     ]
    }
   ],
   "source": [
    "n = 5\n",
    "j= 1\n",
    "while j <= n:\n",
    "    k = 1\n",
    "    while k<=j:\n",
    "        if j ==1:\n",
    "            print(1,end ='')\n",
    "        elif k == 1 or k == j:\n",
    "            print((j-1),end = '')\n",
    "        else:\n",
    "            print(0,end = '')\n",
    "        k+=1\n",
    "    print()\n",
    "    j+=1"
   ]
  },
  {
   "cell_type": "code",
   "execution_count": 20,
   "metadata": {},
   "outputs": [
    {
     "name": "stdout",
     "output_type": "stream",
     "text": [
      "1\n",
      "11\n",
      "121\n",
      "1221\n",
      "12221\n"
     ]
    }
   ],
   "source": [
    "n = 5\n",
    "j= 1\n",
    "while j <= n:\n",
    "    k = 1\n",
    "    while k<=j:\n",
    "        if j ==1:\n",
    "            print(1,end ='')\n",
    "        elif k == 1 or k == j:\n",
    "            print(1,end = '')\n",
    "        else:\n",
    "            print(2,end = '')\n",
    "        k+=1\n",
    "    print()\n",
    "    j+=1"
   ]
  },
  {
   "cell_type": "code",
   "execution_count": 21,
   "metadata": {},
   "outputs": [
    {
     "name": "stdout",
     "output_type": "stream",
     "text": [
      "12345\n",
      "1234\n",
      "123\n",
      "12\n",
      "1\n"
     ]
    }
   ],
   "source": [
    "n = 5\n",
    "i = 1\n",
    "cntr = n\n",
    "\n",
    "while i<=n:\n",
    "    j = 1\n",
    "    while j <= cntr and j >0 :\n",
    "        print(j,end='')\n",
    "        j += 1 \n",
    "    cntr -= 1\n",
    "    print()\n",
    "    i+=1"
   ]
  },
  {
   "cell_type": "code",
   "execution_count": 27,
   "metadata": {},
   "outputs": [
    {
     "name": "stdout",
     "output_type": "stream",
     "text": [
      "A\n",
      "BB\n",
      "CCC\n",
      "DDDD\n",
      "EEEEE\n",
      "FFFFFF\n",
      "GGGGGGG\n"
     ]
    }
   ],
   "source": [
    "n = 7\n",
    "i = 1\n",
    "\n",
    "\n",
    "while i <= n:\n",
    "    j = 1\n",
    "    while j <= i:\n",
    "        ascii_chr = (65+i)-1\n",
    "        print(chr(ascii_chr),end='')\n",
    "        j+=1\n",
    "    print()\n",
    "    i+=1"
   ]
  }
 ],
 "metadata": {
  "kernelspec": {
   "display_name": "Python 3.10.6 64-bit (system)",
   "language": "python",
   "name": "python3"
  },
  "language_info": {
   "codemirror_mode": {
    "name": "ipython",
    "version": 3
   },
   "file_extension": ".py",
   "mimetype": "text/x-python",
   "name": "python",
   "nbconvert_exporter": "python",
   "pygments_lexer": "ipython3",
   "version": "3.10.6"
  },
  "vscode": {
   "interpreter": {
    "hash": "1ea856f75c744b83ee05856dd1a145e8846d73b2689b503f4e3256f20a6fee7c"
   }
  }
 },
 "nbformat": 4,
 "nbformat_minor": 4
}
