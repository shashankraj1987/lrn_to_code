{
 "cells": [
  {
   "cell_type": "code",
   "execution_count": 18,
   "id": "b2d5ed94-cc3d-4b78-9905-bdc91cb6e351",
   "metadata": {},
   "outputs": [
    {
     "name": "stdout",
     "output_type": "stream",
     "text": [
      "6 5\n",
      "* \n",
      "  * * \n",
      "    * * * \n",
      "      * * * * \n",
      "        * * * * * \n",
      "          * * * * * * \n",
      "        * * * * * \n",
      "      * * * * \n",
      "    * * * \n",
      "  * * \n",
      "* \n"
     ]
    }
   ],
   "source": [
    "n = 11\n",
    "n2 = n//2\n",
    "n1 = n-n2\n",
    "i = 1\n",
    "\n",
    "print(n1,n2)\n",
    "# Taking Care of the top part\n",
    "\n",
    "while i<= n1:\n",
    "    j = 1\n",
    "    while j <= (2*i)-1:\n",
    "        if j < i:\n",
    "            print(' ',end=' ')\n",
    "        else:\n",
    "            print('*',end = ' ')\n",
    "        j+=1\n",
    "    print()\n",
    "    i+=1\n",
    "\n",
    "# Taking Care of the Bottom part\n",
    "i = n2\n",
    "while i >= 1:\n",
    "    j = 1\n",
    "    while j <= (2*i)-1:\n",
    "        if j < i:\n",
    "            print(' ',end = ' ')\n",
    "        else:\n",
    "            print('*',end = ' ')\n",
    "        j+=1\n",
    "    print()\n",
    "    i-=1\n",
    "    \n",
    "\n"
   ]
  },
  {
   "cell_type": "code",
   "execution_count": 26,
   "id": "79a6daa3",
   "metadata": {},
   "outputs": [
    {
     "name": "stdout",
     "output_type": "stream",
     "text": [
      "*00*00*\n",
      "0*0*0*0\n",
      "00***00\n"
     ]
    }
   ],
   "source": [
    "n = 3\n",
    "i = 1\n",
    "\n",
    "while i <= n:\n",
    "    j = 1\n",
    "    while j <= (n*2)+1:\n",
    "        if j == i or j == n+1 or j == ((n+1)*2)-i:\n",
    "            print('*',end = '')\n",
    "        else:\n",
    "            print('0',end = '')\n",
    "        j+=1\n",
    "    print()\n",
    "    i+=1\n"
   ]
  },
  {
   "cell_type": "code",
   "execution_count": 38,
   "id": "84e01ab4",
   "metadata": {},
   "outputs": [
    {
     "name": "stdout",
     "output_type": "stream",
     "text": [
      "- - - - 1 \n",
      "- - - 2 1 2 \n",
      "- - 3 2 1 2 3 \n",
      "- 4 3 2 1 2 3 4 \n",
      "5 4 3 2 1 2 3 4 5 \n"
     ]
    }
   ],
   "source": [
    "n = 5\n",
    "i = 1\n",
    "\n",
    "while i <=n:\n",
    "    \n",
    "    # Taking Care of the spaces first\n",
    "    spc = 1\n",
    "    j = n\n",
    "    while spc <= n:\n",
    "        if spc <= (n-i):\n",
    "            print('-',end = ' ')\n",
    "        else:\n",
    "            print(j,end = ' ')\n",
    "        j-=1\n",
    "        spc+=1\n",
    "    \n",
    "    # Printing Right Numbers now\n",
    "    if i == 1:\n",
    "        pass\n",
    "    else:\n",
    "        k = 2\n",
    "        while k <=i:\n",
    "            print(k,end = ' ')\n",
    "            k+=1\n",
    "    print()\n",
    "    i+=1\n"
   ]
  },
  {
   "cell_type": "code",
   "execution_count": 45,
   "id": "3a1c97ea",
   "metadata": {},
   "outputs": [
    {
     "name": "stdout",
     "output_type": "stream",
     "text": [
      "1   1    \n",
      "12  21    \n",
      "123 321    \n",
      "12344321    \n"
     ]
    }
   ],
   "source": [
    "n = 4\n",
    "i = 1\n",
    "\n",
    "while i <=n:\n",
    "    j = 1\n",
    "    while j <=n*2:\n",
    "        if j <=i:\n",
    "            print(j,end = '')\n",
    "        else:\n",
    "            print(' ',end = '')\n",
    "        j+=1\n",
    "        if j == n+1:\n",
    "            k = i\n",
    "            while k >=1:\n",
    "                print(k,end = '')\n",
    "                k-=1\n",
    "    print()\n",
    "    i+=1\n"
   ]
  }
 ],
 "metadata": {
  "kernelspec": {
   "display_name": "Python 3.10.4 64-bit (system)",
   "language": "python",
   "name": "python3"
  },
  "language_info": {
   "codemirror_mode": {
    "name": "ipython",
    "version": 3
   },
   "file_extension": ".py",
   "mimetype": "text/x-python",
   "name": "python",
   "nbconvert_exporter": "python",
   "pygments_lexer": "ipython3",
   "version": "3.10.4"
  },
  "vscode": {
   "interpreter": {
    "hash": "989b18c85b380cb5d4dc88751aba259d5b2349ae82f143d55ba9fdb5c3f8c88a"
   }
  }
 },
 "nbformat": 4,
 "nbformat_minor": 5
}
