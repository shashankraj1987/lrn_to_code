{
 "cells": [
  {
   "cell_type": "markdown",
   "metadata": {},
   "source": [
    "Reverse Patterns Questions"
   ]
  },
  {
   "cell_type": "code",
   "execution_count": 16,
   "metadata": {},
   "outputs": [
    {
     "name": "stdout",
     "output_type": "stream",
     "text": [
      "4444\n",
      "333\n",
      "22\n",
      "1\n"
     ]
    }
   ],
   "source": [
    "n = 4\n",
    "i = 1\n",
    "\n",
    "while i<=n:\n",
    "    j = 1\n",
    "    while j <= n-i+1:\n",
    "        print(n-i+1,end='')\n",
    "        j+=1\n",
    "    print()\n",
    "    i+=1\n"
   ]
  },
  {
   "cell_type": "code",
   "execution_count": 17,
   "metadata": {},
   "outputs": [
    {
     "name": "stdout",
     "output_type": "stream",
     "text": [
      "      * \n",
      "    * * \n",
      "  * * * \n",
      "* * * * \n"
     ]
    }
   ],
   "source": [
    "n = 4\n",
    "i = 1\n",
    "\n",
    "while i<=n:\n",
    "    j=1\n",
    "    while j <= n:\n",
    "        if j <=n-i:\n",
    "            print(' ',end=' ')\n",
    "        else:\n",
    "            print('*',end=' ')\n",
    "        j+=1\n",
    "    print()\n",
    "    i+=1\n",
    "        "
   ]
  },
  {
   "cell_type": "code",
   "execution_count": 18,
   "metadata": {},
   "outputs": [
    {
     "name": "stdout",
     "output_type": "stream",
     "text": [
      "    *\n",
      "   **\n",
      "  ***\n",
      " ****\n"
     ]
    }
   ],
   "source": [
    "n = 4\n",
    "i = 1\n",
    "\n",
    "while i <= n:\n",
    "    print(\" \"*(n-i),\"*\"*i)\n",
    "    i+=1\n"
   ]
  },
  {
   "cell_type": "code",
   "execution_count": 19,
   "metadata": {},
   "outputs": [
    {
     "name": "stdout",
     "output_type": "stream",
     "text": [
      "   1\n",
      "  12\n",
      " 123\n",
      "1234\n"
     ]
    }
   ],
   "source": [
    "n = 4\n",
    "i = 1\n",
    "\n",
    "while i<=n:\n",
    "    spc=1\n",
    "    while spc <= n-i:\n",
    "        print(' ',end='')\n",
    "        spc+=1\n",
    "    num = 1\n",
    "    while num <= i:\n",
    "        print(num,end='')\n",
    "        num+=1\n",
    "    print()\n",
    "    i+=1"
   ]
  },
  {
   "cell_type": "markdown",
   "metadata": {},
   "source": [
    "Isosceles Triangles Numbers and Spaces"
   ]
  },
  {
   "cell_type": "code",
   "execution_count": 22,
   "metadata": {},
   "outputs": [
    {
     "name": "stdout",
     "output_type": "stream",
     "text": [
      "      *\n",
      "     ***\n",
      "    *****\n",
      "   *******\n",
      "  *********\n",
      " ***********\n",
      "*************\n"
     ]
    }
   ],
   "source": [
    "n = 7\n",
    "i = 1\n",
    "\n",
    "while i <= n:\n",
    "\n",
    "    # Printing Spaces\n",
    "    spc = 1\n",
    "    while spc <= n-i:\n",
    "        print(' ', end='')\n",
    "        spc += 1\n",
    "\n",
    "    # Printing Left Stars\n",
    "    l_stars = 1\n",
    "    while l_stars <= i:\n",
    "        print('*', end='')\n",
    "        l_stars += 1\n",
    "\n",
    "    # Print Right Stars\n",
    "    r_stars = i-1\n",
    "    while r_stars >= 1:\n",
    "        print('*', end='')\n",
    "        r_stars -= 1\n",
    "    print()\n",
    "    i += 1\n"
   ]
  },
  {
   "cell_type": "code",
   "execution_count": 45,
   "metadata": {},
   "outputs": [
    {
     "name": "stdout",
     "output_type": "stream",
     "text": [
      "    1\n",
      "   232\n",
      "  34543\n",
      " 4567654\n",
      "567898765\n"
     ]
    }
   ],
   "source": [
    "n = 5\n",
    "i = 1\n",
    "\n",
    "while i <= n:\n",
    "\n",
    "    # Printing Spaces\n",
    "    spc = 1\n",
    "    while spc <= n-i:\n",
    "        print(' ', end='')\n",
    "        spc += 1\n",
    "\n",
    "    # Printing Left Stars\n",
    "    l_stars = 1\n",
    "    while l_stars <= i:\n",
    "        print(l_stars+i-1, end='')\n",
    "        l_stars += 1\n",
    "\n",
    "    # Print Right Stars\n",
    "    r_stars = l_stars+i-2\n",
    "    while r_stars > i:\n",
    "        print(r_stars-1, end='')\n",
    "        r_stars -= 1\n",
    "    print()\n",
    "    i += 1\n"
   ]
  },
  {
   "cell_type": "markdown",
   "metadata": {},
   "source": [
    "Printing Diamond Shape in Python"
   ]
  },
  {
   "cell_type": "code",
   "execution_count": 67,
   "metadata": {},
   "outputs": [
    {
     "name": "stdout",
     "output_type": "stream",
     "text": [
      "   *\n",
      "  ***\n",
      " *****\n",
      "*******\n",
      " *****\n",
      "  ***\n",
      "   *\n"
     ]
    }
   ],
   "source": [
    "n = 7\n",
    "n1 = (n+1)/2\n",
    "n2 = n1 - 1\n",
    "\n",
    "# Dealing with the Top Half of the Code\n",
    "# =======================================\n",
    "\n",
    "# Spaces = n1-i\n",
    "# Stars = 2i-1\n",
    "\n",
    "i = 1\n",
    "while i <= n1:\n",
    "    spc = 1\n",
    "    while spc <= n1-i:\n",
    "        print(' ', end='')\n",
    "        spc += 1\n",
    "\n",
    "    stars = 1\n",
    "    while stars <= (2*i)-1:\n",
    "        print('*', end='')\n",
    "        stars += 1\n",
    "    print()\n",
    "    i += 1\n",
    "\n",
    "# Dealing with the Bottom Half of the Code\n",
    "# =======================================\n",
    "\n",
    "# Spaces = n2-i+1\n",
    "# Stars = 2i-1\n",
    "\n",
    "i = n2\n",
    "while i >= 1:\n",
    "    spc = 1\n",
    "    while spc <= (n2-i)+1:\n",
    "        print(' ', end='')\n",
    "        spc += 1\n",
    "\n",
    "    stars = (2*i)-1\n",
    "    while stars >= 1:\n",
    "        print('*', end='')\n",
    "        stars -= 1\n",
    "    i -= 1\n",
    "    print()\n",
    "\n"
   ]
  }
 ],
 "metadata": {
  "kernelspec": {
   "display_name": "Python 3.10.5 64-bit (system)",
   "language": "python",
   "name": "python3"
  },
  "language_info": {
   "codemirror_mode": {
    "name": "ipython",
    "version": 3
   },
   "file_extension": ".py",
   "mimetype": "text/x-python",
   "name": "python",
   "nbconvert_exporter": "python",
   "pygments_lexer": "ipython3",
   "version": "3.10.5"
  },
  "orig_nbformat": 4,
  "vscode": {
   "interpreter": {
    "hash": "1ea856f75c744b83ee05856dd1a145e8846d73b2689b503f4e3256f20a6fee7c"
   }
  }
 },
 "nbformat": 4,
 "nbformat_minor": 2
}
