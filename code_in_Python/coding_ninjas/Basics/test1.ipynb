{
 "cells": [
  {
   "cell_type": "code",
   "execution_count": 4,
   "metadata": {},
   "outputs": [
    {
     "name": "stdout",
     "output_type": "stream",
     "text": [
      "5 4 3 2 * \n",
      "5 4 3 * 1 \n",
      "5 4 * 2 1 \n",
      "5 * 3 2 1 \n",
      "* 4 3 2 1 \n"
     ]
    }
   ],
   "source": [
    "# Question 1\n",
    "\n",
    "n = 5\n",
    "\n",
    "for i in range(1,n+1):\n",
    "    for j in range(n,0,-1):\n",
    "        if j == i:\n",
    "            print(\"*\",end= ' ')\n",
    "        else:\n",
    "            print(j,end = ' ')\n",
    "    print()"
   ]
  },
  {
   "cell_type": "code",
   "execution_count": 28,
   "metadata": {},
   "outputs": [
    {
     "name": "stdout",
     "output_type": "stream",
     "text": [
      "* 0 0 0 0 * 0 0 0 0 * \n",
      "0 * 0 0 0 * 0 0 0 * 0 \n",
      "0 0 * 0 0 * 0 0 * 0 0 \n",
      "0 0 0 * 0 * 0 * 0 0 0 \n",
      "0 0 0 0 * * * 0 0 0 0 \n"
     ]
    }
   ],
   "source": [
    "# Question 2\n",
    "\n",
    "n = 5\n",
    "cnt = 0\n",
    "for i in range(1,n+1):\n",
    "\n",
    "    for j in range(1,(2*n)+2):\n",
    "        # print(((n*2)+cnt))\n",
    "        if j == i or j == n+1 or j == ((n*2)-cnt)+i:\n",
    "            print('*',end = ' ')\n",
    "        else:\n",
    "            print('0',end = ' ')\n",
    "    cnt+=2\n",
    "    print()\n"
   ]
  }
 ],
 "metadata": {
  "kernelspec": {
   "display_name": "Python 3.10.5 64-bit (system)",
   "language": "python",
   "name": "python3"
  },
  "language_info": {
   "codemirror_mode": {
    "name": "ipython",
    "version": 3
   },
   "file_extension": ".py",
   "mimetype": "text/x-python",
   "name": "python",
   "nbconvert_exporter": "python",
   "pygments_lexer": "ipython3",
   "version": "3.10.5"
  },
  "orig_nbformat": 4,
  "vscode": {
   "interpreter": {
    "hash": "1ea856f75c744b83ee05856dd1a145e8846d73b2689b503f4e3256f20a6fee7c"
   }
  }
 },
 "nbformat": 4,
 "nbformat_minor": 2
}
