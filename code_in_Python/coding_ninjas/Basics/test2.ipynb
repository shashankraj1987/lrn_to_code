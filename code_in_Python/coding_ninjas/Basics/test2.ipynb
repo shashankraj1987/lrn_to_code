{
 "cells": [
  {
   "cell_type": "code",
   "execution_count": 5,
   "metadata": {},
   "outputs": [
    {
     "name": "stdout",
     "output_type": "stream",
     "text": [
      "a\n"
     ]
    }
   ],
   "source": [
    "def min_len_wrd(sent):\n",
    "    words = sent.split()\n",
    "    min_len = len(words[0])\n",
    "    min_len_wrd = words[0]\n",
    "    \n",
    "    for word in words:\n",
    "        if len(word) < min_len:\n",
    "            min_len = len(word)\n",
    "            min_len_wrd = word\n",
    "    \n",
    "    return min_len_wrd\n",
    "\n",
    "## Main \n",
    "\n",
    "sentence = \"abc de ghihjk a uvw h j\"\n",
    "print(min_len_wrd(sentence))"
   ]
  },
  {
   "cell_type": "code",
   "execution_count": 13,
   "metadata": {},
   "outputs": [
    {
     "name": "stdout",
     "output_type": "stream",
     "text": [
      "[[1, 2, 3], [4, 5, 6], [7, 8, 9]]\n"
     ]
    }
   ],
   "source": [
    "# Print 2D array \n",
    "def print_2d_arr(arr,nRows,mCols):\n",
    "    pass\n",
    "\n",
    "row_col = input()\n",
    "rows, cols = int(row_col.split()[0]),int(row_col.split()[1])\n",
    "\n",
    "arr_2d = [[int(i) for i in input().split()] for _ in range(rows)]\n",
    "print(arr_2d)\n",
    "print_2d_arr(arr_2d,rows,cols)"
   ]
  },
  {
   "cell_type": "code",
   "execution_count": 57,
   "metadata": {},
   "outputs": [
    {
     "name": "stdout",
     "output_type": "stream",
     "text": [
      "x is 1, y is 0\n",
      "\n",
      "x is 2, y is 0\n",
      "\n",
      "x is 2, y is 1\n",
      "\n",
      "x is 3, y is 0\n",
      "\n",
      "x is 3, y is 1\n",
      "\n",
      "x is 3, y is 2\n",
      "\n"
     ]
    }
   ],
   "source": [
    "len_arr = len(arr_2d)\n",
    "\n",
    "for x in range(len_arr+1):\n",
    "    for y in range(x):\n",
    "        print(f'x is {x}, y is {y}')\n",
    "        for elem in arr_2d[x-1]:\n",
    "            # print(elem, end = ' ')\n",
    "            pass\n",
    "        print()\n",
    "        # print(arr_2d[x])\n",
    "\n"
   ]
  },
  {
   "cell_type": "code",
   "execution_count": 67,
   "metadata": {},
   "outputs": [
    {
     "name": "stdout",
     "output_type": "stream",
     "text": [
      "[1, 2, 3]\n",
      "[1, 2, 3]\n",
      "[1, 2, 3]\n",
      "[4, 5, 6]\n",
      "[4, 5, 6]\n",
      "[7, 8, 9]\n"
     ]
    }
   ],
   "source": [
    "row = 3\n",
    "arr = [[1,2,3],[4,5,6],[7,8,9]]\n",
    "\n",
    "for x in range(row,0,-1):\n",
    "    for y in range(x):\n",
    "        print(arr[len(arr)-x])"
   ]
  },
  {
   "cell_type": "code",
   "execution_count": 71,
   "metadata": {},
   "outputs": [
    {
     "name": "stdout",
     "output_type": "stream",
     "text": [
      "1 2 3 \n",
      "1 2 3 \n",
      "1 2 3 \n",
      "4 5 6 \n",
      "4 5 6 \n",
      "7 8 9 \n"
     ]
    }
   ],
   "source": [
    "def print_2d_arr(arr_2d,nRows):\n",
    "    for x in range(row,0,-1):\n",
    "        for y in range(x):\n",
    "            for elem in arr[len(arr)-x]:\n",
    "                print(elem,end = ' ')\n",
    "            print()\n",
    "\n",
    "# row_col = input().split()\n",
    "# rows,col = row_col\n",
    "# arr = [[int(x) for x in input().split()] for _ in range(int(rows))]\n",
    "\n",
    "arr = [[1,2,3],[4,5,6],[7,8,9]]\n",
    "print_2d_arr(arr,int(rows))\n"
   ]
  },
  {
   "cell_type": "code",
   "execution_count": 90,
   "metadata": {},
   "outputs": [
    {
     "name": "stdout",
     "output_type": "stream",
     "text": [
      "[17, 6]\n"
     ]
    }
   ],
   "source": [
    "# Leaders in an Array \n",
    "\n",
    "arr = [13,17,5,4,6]\n",
    "\n",
    "l_arr = []\n",
    "\n",
    "for x in range(len(arr)):\n",
    "    ldr = False\n",
    "    for y in range(x+1,len(arr)):\n",
    "        # print(arr[x],arr[y],arr[x]>arr[y])\n",
    "        if arr[x] > arr[y]:\n",
    "            ldr = True\n",
    "        else:\n",
    "            ldr = False\n",
    "            break\n",
    "    if ldr:\n",
    "        l_arr.append(arr[x])\n",
    "    # print(ldr)\n",
    "\n",
    "l_arr.append(arr[len(arr)-1])\n",
    "\n",
    "print(l_arr)"
   ]
  },
  {
   "cell_type": "code",
   "execution_count": 91,
   "metadata": {},
   "outputs": [
    {
     "name": "stdout",
     "output_type": "stream",
     "text": [
      "[500, 498, 485, 316, 179, 120]\n"
     ]
    }
   ],
   "source": [
    "def leader_arr(arr, nElem):\n",
    "    l_arr = []\n",
    "    for x in range(nElem):\n",
    "        ldr = False\n",
    "        for y in range(x+1,len(arr)):\n",
    "            if arr[x] >= arr[y]:\n",
    "                ldr = True\n",
    "            else:\n",
    "                ldr = False\n",
    "                break\n",
    "        if ldr:\n",
    "            l_arr.append(arr[x])\n",
    "\n",
    "    l_arr.append(arr[len(arr)-1])\n",
    "\n",
    "    return l_arr\n",
    "\n",
    "len_arr = int(input())\n",
    "arr = [int(x) for x in input().split()]\n",
    "\n",
    "otpt = (leader_arr(arr,len_arr))\n",
    "for elem in otpt:\n",
    "    print(elem, end = ' ')"
   ]
  }
 ],
 "metadata": {
  "kernelspec": {
   "display_name": "Python 3.10.6 64-bit (system)",
   "language": "python",
   "name": "python3"
  },
  "language_info": {
   "codemirror_mode": {
    "name": "ipython",
    "version": 3
   },
   "file_extension": ".py",
   "mimetype": "text/x-python",
   "name": "python",
   "nbconvert_exporter": "python",
   "pygments_lexer": "ipython3",
   "version": "3.10.6"
  },
  "orig_nbformat": 4,
  "vscode": {
   "interpreter": {
    "hash": "1ea856f75c744b83ee05856dd1a145e8846d73b2689b503f4e3256f20a6fee7c"
   }
  }
 },
 "nbformat": 4,
 "nbformat_minor": 2
}
