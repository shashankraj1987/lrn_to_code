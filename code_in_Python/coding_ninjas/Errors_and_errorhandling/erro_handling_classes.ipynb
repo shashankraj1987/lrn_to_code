{
 "cells": [
  {
   "cell_type": "markdown",
   "metadata": {},
   "source": [
    "# Error Handling in Python Classes"
   ]
  },
  {
   "cell_type": "code",
   "execution_count": 3,
   "metadata": {},
   "outputs": [
    {
     "name": "stdout",
     "output_type": "stream",
     "text": [
      "Exception occured\n"
     ]
    }
   ],
   "source": [
    "try:\n",
    "    a = 10\n",
    "    b = 0\n",
    "    c = a/b\n",
    "    print(c)\n",
    "except:\n",
    "    print(\"Exception occured\")"
   ]
  },
  {
   "cell_type": "code",
   "execution_count": 4,
   "metadata": {},
   "outputs": [
    {
     "name": "stdout",
     "output_type": "stream",
     "text": [
      "Name Error occured\n"
     ]
    }
   ],
   "source": [
    "try:\n",
    "    a = 10\n",
    "    b = 0\n",
    "    print(d)\n",
    "    c = a/b\n",
    "except NameError:\n",
    "    print('Name Error occured')\n",
    "except ZeroDivisionError:\n",
    "    print('Zero Division Error occured')"
   ]
  },
  {
   "cell_type": "code",
   "execution_count": 5,
   "metadata": {},
   "outputs": [],
   "source": [
    "# NOTE: Default File load memory for python is 16GB "
   ]
  },
  {
   "cell_type": "markdown",
   "metadata": {},
   "source": [
    "## Execptions\n",
    "\n",
    "These are logical Errors and are dealt with, after compilation of the code. "
   ]
  },
  {
   "cell_type": "markdown",
   "metadata": {},
   "source": [
    "## Error handling"
   ]
  },
  {
   "cell_type": "code",
   "execution_count": 1,
   "metadata": {},
   "outputs": [],
   "source": [
    "from abc import ABC, abstractmethod"
   ]
  },
  {
   "cell_type": "code",
   "execution_count": 32,
   "metadata": {},
   "outputs": [],
   "source": [
    "class Person(ABC):\n",
    "    def __init__(self,name,birth_yr,life_exp):\n",
    "        self.name = name\n",
    "        self.birth_yr = birth_yr\n",
    "        self.life_exp = life_exp\n",
    "    \n",
    "    @abstractmethod\n",
    "    def get_age(self):\n",
    "        pass"
   ]
  },
  {
   "cell_type": "code",
   "execution_count": 51,
   "metadata": {},
   "outputs": [],
   "source": [
    "class employee(Person):\n",
    "    def __init__(self,name, birth_yr,life_exp,emp_id):\n",
    "        super().__init__(name,birth_yr,life_exp)\n",
    "        self.emp_id = emp_id\n",
    "    \n",
    "    def get_age(self):\n",
    "        try: \n",
    "            age = 2022-self.birth_yr\n",
    "        except TypeError:\n",
    "            try:\n",
    "                age = 2022-int(self.birth_yr)\n",
    "                try:\n",
    "                    age/self.life_exp\n",
    "                except ZeroDivisionError:\n",
    "                    return 0\n",
    "                except:  \n",
    "                    # NOTE: Will take in all exceptions, even if we don't define one. \n",
    "                    return \"Life exp should be positive int, greater than 0\"\n",
    "            except:\n",
    "                life = (age/self.life_exp)*100\n",
    "                return life\n",
    "        \n",
    "        "
   ]
  },
  {
   "cell_type": "code",
   "execution_count": 52,
   "metadata": {},
   "outputs": [
    {
     "name": "stdout",
     "output_type": "stream",
     "text": [
      "Life exp should be positive int, greater than 0\n"
     ]
    }
   ],
   "source": [
    "p1 = employee(\"Shashank\",\"2022\",\"0\",\"123\")\n",
    "print(p1.get_age())"
   ]
  },
  {
   "cell_type": "markdown",
   "metadata": {},
   "source": [
    "## Defining custom Exceptions"
   ]
  },
  {
   "cell_type": "code",
   "execution_count": 53,
   "metadata": {},
   "outputs": [
    {
     "ename": "custom_exception",
     "evalue": "Value -10 cannot be negative",
     "output_type": "error",
     "traceback": [
      "\u001b[1;31m---------------------------------------------------------------------------\u001b[0m",
      "\u001b[1;31mcustom_exception\u001b[0m                          Traceback (most recent call last)",
      "Cell \u001b[1;32mIn [53], line 10\u001b[0m\n\u001b[0;32m      7\u001b[0m     \u001b[39mdef\u001b[39;00m \u001b[39m__str__\u001b[39m(\u001b[39mself\u001b[39m):\n\u001b[0;32m      8\u001b[0m         \u001b[39mreturn\u001b[39;00m \u001b[39mf\u001b[39m\u001b[39m'\u001b[39m\u001b[39mValue \u001b[39m\u001b[39m{\u001b[39;00m\u001b[39mself\u001b[39m\u001b[39m.\u001b[39mvalue\u001b[39m}\u001b[39;00m\u001b[39m cannot be negative\u001b[39m\u001b[39m'\u001b[39m\n\u001b[1;32m---> 10\u001b[0m \u001b[39mraise\u001b[39;00m custom_exception(\u001b[39m-\u001b[39m\u001b[39m10\u001b[39m)\n",
      "\u001b[1;31mcustom_exception\u001b[0m: Value -10 cannot be negative"
     ]
    }
   ],
   "source": [
    "class custom_exception(Exception):\n",
    "    def __init__(self,value, msg = \"Value cannot be negative\"):\n",
    "        self.value = value\n",
    "        self.msg = msg\n",
    "        super().__init__(msg)\n",
    "\n",
    "    def __str__(self):\n",
    "        return f'Value {self.value} cannot be negative'\n",
    "\n",
    "\n",
    "# Calling the exception. \n",
    "\n",
    "raise custom_exception(-10)"
   ]
  },
  {
   "cell_type": "code",
   "execution_count": 56,
   "metadata": {},
   "outputs": [
    {
     "ename": "ZeroDenominatorError",
     "evalue": "",
     "output_type": "error",
     "traceback": [
      "\u001b[1;31m---------------------------------------------------------------------------\u001b[0m",
      "\u001b[1;31mZeroDenominatorError\u001b[0m                      Traceback (most recent call last)",
      "Cell \u001b[1;32mIn [56], line 10\u001b[0m\n\u001b[0;32m      8\u001b[0m     b \u001b[39m=\u001b[39m \u001b[39m0\u001b[39m\n\u001b[0;32m      9\u001b[0m     \u001b[39mif\u001b[39;00m(b\u001b[39m==\u001b[39m\u001b[39m0\u001b[39m):\n\u001b[1;32m---> 10\u001b[0m         \u001b[39mraise\u001b[39;00m ZeroDenominatorError() \n\u001b[0;32m     11\u001b[0m     c \u001b[39m=\u001b[39m a\u001b[39m/\u001b[39mb\n\u001b[0;32m     12\u001b[0m \u001b[39mexcept\u001b[39;00m \u001b[39mZeroDivisionError\u001b[39;00m:\n",
      "\u001b[1;31mZeroDenominatorError\u001b[0m: "
     ]
    }
   ],
   "source": [
    "# QUESTION: What error will be raised below ?\n",
    "\n",
    "class ZeroDenominatorError(Exception):\n",
    "    pass\n",
    "\n",
    "try:\n",
    "    a = 10\n",
    "    b = 0\n",
    "    if(b==0):\n",
    "        raise ZeroDenominatorError() \n",
    "    c = a/b\n",
    "except ZeroDivisionError:\n",
    "    print('Zero Division Error occured') "
   ]
  },
  {
   "cell_type": "code",
   "execution_count": 58,
   "metadata": {},
   "outputs": [
    {
     "name": "stdout",
     "output_type": "stream",
     "text": [
      "Zero Division Error occured\n"
     ]
    }
   ],
   "source": [
    "class ZeroDenominatorError(ZeroDivisionError):\n",
    "    pass\n",
    "\n",
    "try:\n",
    "    a = 10\n",
    "    b = 0\n",
    "    if(b==0):\n",
    "        raise ZeroDenominatorError()\n",
    "    c = a/b\n",
    "except ZeroDivisionError:\n",
    "    print('Zero Division Error occured')\n",
    "except ZeroDenominatorError:\n",
    "    print('Zero Denominator Error occured')"
   ]
  },
  {
   "cell_type": "code",
   "execution_count": 59,
   "metadata": {},
   "outputs": [
    {
     "ename": "SyntaxError",
     "evalue": "invalid character '‘' (U+2018) (2459297960.py, line 10)",
     "output_type": "error",
     "traceback": [
      "\u001b[1;36m  Cell \u001b[1;32mIn [59], line 10\u001b[1;36m\u001b[0m\n\u001b[1;33m    print('Zero Division Error occured',end= ‘ ‘)\u001b[0m\n\u001b[1;37m                                             ^\u001b[0m\n\u001b[1;31mSyntaxError\u001b[0m\u001b[1;31m:\u001b[0m invalid character '‘' (U+2018)\n"
     ]
    }
   ],
   "source": [
    "class ZeroDenominatorError(ZeroDivisionError):\n",
    "    pass\n",
    "try:\n",
    "    a = 10\n",
    "    b = 0\n",
    "    if(b==0):\n",
    "        raise ZeroDenominatorError()\n",
    "    c = a/b\n",
    "except ZeroDivisionError:\n",
    "    print('Zero Division Error occured',end= '' )\n",
    "except ZeroDenominatorError:\n",
    "    print('Zero Denominator Error occured',end = '')\n",
    "else:\n",
    "    print('else works')"
   ]
  }
 ],
 "metadata": {
  "kernelspec": {
   "display_name": "Python 3.10.8 ('base_3.10')",
   "language": "python",
   "name": "python3"
  },
  "language_info": {
   "codemirror_mode": {
    "name": "ipython",
    "version": 3
   },
   "file_extension": ".py",
   "mimetype": "text/x-python",
   "name": "python",
   "nbconvert_exporter": "python",
   "pygments_lexer": "ipython3",
   "version": "3.10.8"
  },
  "orig_nbformat": 4,
  "vscode": {
   "interpreter": {
    "hash": "b69274b327b8ccc6d5153ebb758a5a4aa69943b8d839ce796915123502b92e21"
   }
  }
 },
 "nbformat": 4,
 "nbformat_minor": 2
}
