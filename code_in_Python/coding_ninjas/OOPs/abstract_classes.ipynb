{
 "cells": [
  {
   "cell_type": "markdown",
   "metadata": {},
   "source": [
    "# Abstract Class"
   ]
  },
  {
   "cell_type": "markdown",
   "metadata": {},
   "source": [
    "These define the methds and properties, which must be used in the subclass. \n"
   ]
  },
  {
   "cell_type": "code",
   "execution_count": 1,
   "metadata": {},
   "outputs": [],
   "source": [
    "from abc import ABC, abstractmethod"
   ]
  },
  {
   "cell_type": "code",
   "execution_count": 2,
   "metadata": {},
   "outputs": [],
   "source": [
    "class Vehicle(ABC):\n",
    "\n",
    "    @abstractmethod\n",
    "    def get_value(self):\n",
    "        pass\n",
    "\n",
    "    # here, we are making sure that when the class Vehicle is \n",
    "    # inherited, get_value has to be defined. \n",
    "\n",
    "    # We are basically setting a blueprint definition of \n",
    "    # what all needs to be defined, when the Vehicle class is inherited. "
   ]
  },
  {
   "cell_type": "code",
   "execution_count": 3,
   "metadata": {},
   "outputs": [],
   "source": [
    "class car(Vehicle):\n",
    "    def __init__(self, make, model):\n",
    "        self.make = make\n",
    "        self.model = model"
   ]
  },
  {
   "cell_type": "code",
   "execution_count": 4,
   "metadata": {},
   "outputs": [
    {
     "ename": "TypeError",
     "evalue": "Can't instantiate abstract class car with abstract method get_value",
     "output_type": "error",
     "traceback": [
      "\u001b[1;31m---------------------------------------------------------------------------\u001b[0m",
      "\u001b[1;31mTypeError\u001b[0m                                 Traceback (most recent call last)",
      "Cell \u001b[1;32mIn [4], line 1\u001b[0m\n\u001b[1;32m----> 1\u001b[0m obj \u001b[39m=\u001b[39m car(\u001b[39m\"\u001b[39;49m\u001b[39mTesla\u001b[39;49m\u001b[39m\"\u001b[39;49m, \u001b[39m2019\u001b[39;49m)\n\u001b[0;32m      2\u001b[0m \u001b[39mprint\u001b[39m(obj)\n",
      "\u001b[1;31mTypeError\u001b[0m: Can't instantiate abstract class car with abstract method get_value"
     ]
    }
   ],
   "source": [
    "obj = car(\"Tesla\", 2019)\n",
    "print(obj)"
   ]
  },
  {
   "cell_type": "code",
   "execution_count": 5,
   "metadata": {},
   "outputs": [
    {
     "data": {
      "text/plain": [
       "4977.600796416127"
      ]
     },
     "execution_count": 5,
     "metadata": {},
     "output_type": "execute_result"
    }
   ],
   "source": [
    "class car1(Vehicle):\n",
    "    def __init__(self, make, model):\n",
    "        self.make = make\n",
    "        self.model = model\n",
    "    \n",
    "    def get_value(self):\n",
    "        return (1/self.make)*10000000\n",
    "\n",
    "obj1 = car1(2009,\"Tata\")\n",
    "obj1.get_value()"
   ]
  },
  {
   "cell_type": "markdown",
   "metadata": {},
   "source": [
    "### Example"
   ]
  },
  {
   "cell_type": "code",
   "execution_count": 7,
   "metadata": {},
   "outputs": [],
   "source": [
    "class TextReaderAbstract(ABC):\n",
    "\n",
    "    def __init__(self,path,filename):\n",
    "        self.path = path\n",
    "        self.filename = filename\n",
    "\n",
    "        @abstractmethod\n",
    "        def get_path(self):\n",
    "            pass\n",
    "\n",
    "        @abstractmethod\n",
    "        def get_filename(self):\n",
    "            pass"
   ]
  },
  {
   "cell_type": "code",
   "execution_count": 8,
   "metadata": {},
   "outputs": [],
   "source": [
    "class TextReader(TextReaderAbstract):\n",
    "    # NOTE:\n",
    "    # Since we have inforced the path and filename in init\n",
    "    # We do not need to define that again. \n",
    "    # We may, however, choose to override it.\n",
    "    # Also, we do not need to inforce the use of Super function\n",
    "    # as ABC takes care of that. \n",
    "\n",
    "\n",
    "    def get_path(self):\n",
    "        return self.path\n",
    "\n",
    "    def get_filename(self):\n",
    "        return self.filename"
   ]
  },
  {
   "cell_type": "code",
   "execution_count": 9,
   "metadata": {},
   "outputs": [
    {
     "ename": "TypeError",
     "evalue": "TextReaderAbstract.__init__() missing 2 required positional arguments: 'path' and 'filename'",
     "output_type": "error",
     "traceback": [
      "\u001b[1;31m---------------------------------------------------------------------------\u001b[0m",
      "\u001b[1;31mTypeError\u001b[0m                                 Traceback (most recent call last)",
      "Cell \u001b[1;32mIn [9], line 1\u001b[0m\n\u001b[1;32m----> 1\u001b[0m my_obj \u001b[39m=\u001b[39m TextReader()\n",
      "\u001b[1;31mTypeError\u001b[0m: TextReaderAbstract.__init__() missing 2 required positional arguments: 'path' and 'filename'"
     ]
    }
   ],
   "source": [
    "my_obj = TextReader()"
   ]
  },
  {
   "cell_type": "code",
   "execution_count": 11,
   "metadata": {},
   "outputs": [
    {
     "data": {
      "text/plain": [
       "'defgh'"
      ]
     },
     "execution_count": 11,
     "metadata": {},
     "output_type": "execute_result"
    }
   ],
   "source": [
    "my_obj = TextReader(\"abc\",\"defgh\")\n",
    "my_obj.get_filename()"
   ]
  }
 ],
 "metadata": {
  "kernelspec": {
   "display_name": "Python 3.10.8 ('base_3.10')",
   "language": "python",
   "name": "python3"
  },
  "language_info": {
   "codemirror_mode": {
    "name": "ipython",
    "version": 3
   },
   "file_extension": ".py",
   "mimetype": "text/x-python",
   "name": "python",
   "nbconvert_exporter": "python",
   "pygments_lexer": "ipython3",
   "version": "3.10.8"
  },
  "orig_nbformat": 4,
  "vscode": {
   "interpreter": {
    "hash": "b69274b327b8ccc6d5153ebb758a5a4aa69943b8d839ce796915123502b92e21"
   }
  }
 },
 "nbformat": 4,
 "nbformat_minor": 2
}
