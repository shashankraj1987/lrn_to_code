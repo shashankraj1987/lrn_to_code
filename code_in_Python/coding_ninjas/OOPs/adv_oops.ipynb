{
 "cells": [
  {
   "cell_type": "markdown",
   "metadata": {},
   "source": [
    "# Inheritence"
   ]
  },
  {
   "cell_type": "code",
   "execution_count": null,
   "metadata": {},
   "outputs": [],
   "source": [
    "class Mammals():\n",
    "    def __init__(self,classification:str,order:str,habitat:str):\n",
    "        self.classification = classification\n",
    "        self.order = order\n",
    "        self.habitat = habitat\n",
    "\n",
    "    def __distinct_feature(self):\n",
    "        self.__ftr = \"Mammary Glands\"\n",
    "        return self.__ftr\n",
    "\n"
   ]
  },
  {
   "cell_type": "code",
   "execution_count": null,
   "metadata": {},
   "outputs": [],
   "source": [
    "class humans(Mammals):\n",
    "    def __init__(self,classification:str,order:str,habitat:str,sex:str):\n",
    "        super().__init__(classification,order,habitat)\n",
    "        self.sex = sex\n",
    "\n",
    "\n",
    "adam = humans(\"Primate\",\"Metatheria\",\"Land\",\"Male\")\n",
    "adam._Mammals__distinct_feature()                           # Accessing Private method and Provate variable.\n"
   ]
  },
  {
   "cell_type": "markdown",
   "metadata": {},
   "source": [
    "# Polmorphism"
   ]
  },
  {
   "cell_type": "code",
   "execution_count": null,
   "metadata": {},
   "outputs": [],
   "source": [
    "class Vehicle():\n",
    "\n",
    "    curr_year = 2022\n",
    "    base_price = 100000\n",
    "\n",
    "    def __init__(self, make, model_yr, fuel):\n",
    "        self.__make = make\n",
    "        self.__model_yr = model_yr\n",
    "        self.__fuel = fuel\n",
    "    \n",
    "    def __make_of_vehicle(self):\n",
    "        print(\"This is a Vehicle\")\n",
    "\n",
    "    # default function to get the value of a car \n",
    "    def get_value(self):\n",
    "        age = Vehicle.curr_year - self.__model_yr  \n",
    "        # Current_yr is calss attribute, so we need to provide the class name here \n",
    "        # model_yr is the instance attribute, so we need to get that from self. \n",
    "        print(\" This is the default method of the parent \")\n",
    "        return Vehicle.base_price * (1/age) "
   ]
  },
  {
   "cell_type": "code",
   "execution_count": null,
   "metadata": {},
   "outputs": [],
   "source": [
    "# Vehicle.__dict__"
   ]
  },
  {
   "cell_type": "code",
   "execution_count": null,
   "metadata": {},
   "outputs": [],
   "source": [
    "\n",
    "class car(Vehicle):\n",
    "    def __init__(self,make,model_yr,fuel,cat,sunroof):\n",
    "        Vehicle.__make = make\n",
    "        Vehicle.__model_yr = model_yr\n",
    "        Vehicle.__fuel = fuel \n",
    "\n",
    "        self.cat = cat\n",
    "        self.sunroof = sunroof\n",
    "    \n",
    "    def show_parent_attrs(self):\n",
    "        print(\"Printing the Parent Attributes \")\n",
    "        print(\"Make of the Vehicle\",self.__make)\n",
    "        print(\"Model of the Vehicle\",self.__model_yr)\n",
    "        print(\"Fuel Type of the Vehicle\",self.__fuel)\n",
    "    \n",
    "#NOTE: How to access the value retunrned private method of a parent class from a child class??\n",
    "\n",
    "    def get_make(self):\n",
    "        ## Access the Private method of the Parent class\n",
    "        self._Vehicle__make_of_vehicle()\n",
    "        \n",
    "    \n",
    "    # Overriding the parent method. \n",
    "    def get_value(self):\n",
    "        print(\"This is the Child's method\")\n",
    "        Vehicle.base_price = 500000\n",
    "        age = int(Vehicle.curr_year) - int(self.__model_yr)\n",
    "        return Vehicle.base_price * (1/age)"
   ]
  },
  {
   "cell_type": "code",
   "execution_count": null,
   "metadata": {},
   "outputs": [],
   "source": [
    "# car.__dict__"
   ]
  },
  {
   "cell_type": "code",
   "execution_count": null,
   "metadata": {},
   "outputs": [],
   "source": [
    "tesla = car(\"USA\",2018,\"Electric\",\"Automatic\",\"yes\")\n",
    "tesla.show_parent_attrs()"
   ]
  },
  {
   "cell_type": "code",
   "execution_count": null,
   "metadata": {},
   "outputs": [],
   "source": [
    "tesla.get_make()\n",
    "tesla.get_value()"
   ]
  },
  {
   "cell_type": "markdown",
   "metadata": {},
   "source": [
    "### Questions "
   ]
  },
  {
   "cell_type": "code",
   "execution_count": null,
   "metadata": {},
   "outputs": [],
   "source": [
    "class Vehicle:\n",
    "    def __init__(self,color):\n",
    "        self.color = color\n",
    "    def print(self):\n",
    "        print(c.color,end=\"\")\n",
    "class Car(Vehicle):\n",
    "    def __init__(self,color,numGears):\n",
    "        super().__init__(color)\n",
    "        self.numGears = numGears\n",
    "    def print(self):\n",
    "        self.print() # NOTE: This will make the program crash due to recursion error. \n",
    "        print(c.numGears)\n",
    "        \n",
    "# c = Car(\"black\",5)\n",
    "# c.print()"
   ]
  },
  {
   "cell_type": "markdown",
   "metadata": {},
   "source": [
    "## Protected Members"
   ]
  },
  {
   "cell_type": "code",
   "execution_count": 7,
   "metadata": {},
   "outputs": [],
   "source": [
    "class Vehicle():\n",
    "\n",
    "    curr_year = 2022\n",
    "    base_price = 100000\n",
    "\n",
    "    def __init__(self, make, model_yr, fuel):\n",
    "        # Adding a single _ makes the object protected.\n",
    "        \n",
    "        self._make = make\n",
    "        self._model_yr = model_yr\n",
    "        self._fuel = fuel\n",
    "\n",
    "    def __make_of_vehicle(self):\n",
    "        print(\"This is a Vehicle\")\n",
    "\n",
    "    def _get_value(self):\n",
    "        age = Vehicle.curr_year - self._model_yr  \n",
    "        print(\" This is the default method of the parent \")\n",
    "        return Vehicle.base_price * (1/age) "
   ]
  },
  {
   "cell_type": "code",
   "execution_count": 8,
   "metadata": {},
   "outputs": [],
   "source": [
    "\n",
    "class car(Vehicle):\n",
    "    def __init__(self,make,model_yr,fuel,cat,sunroof):\n",
    "        super(car,self).__init__(make,model_yr,fuel)\n",
    "\n",
    "        # Protected \n",
    "        self._cat = cat\n",
    "        self._sunroof = sunroof\n",
    "    \n",
    "    def show_parent_attrs(self):\n",
    "        print(\"Printing the Parent Attributes \")\n",
    "        print(\"Make of the Vehicle\",self._make)\n",
    "        print(\"Model of the Vehicle\",self._model_yr)\n",
    "        print(\"Fuel Type of the Vehicle\",self._fuel)\n",
    "\n",
    "    # Overriding the parent method. \n",
    "    # Protected method\n",
    "    def _get_value(self):\n",
    "        print(\"This is the Child's method\")\n",
    "        Vehicle.base_price = 500000\n",
    "        age = int(Vehicle.curr_year) - int(self._model_yr)\n",
    "        return Vehicle.base_price * (1/age)"
   ]
  },
  {
   "cell_type": "code",
   "execution_count": 9,
   "metadata": {},
   "outputs": [],
   "source": [
    "myobj= car(\"Tesla\", 2019,\"Electric\",\"Automatic\",\"Yes\")"
   ]
  },
  {
   "cell_type": "code",
   "execution_count": 5,
   "metadata": {},
   "outputs": [
    {
     "data": {
      "text/plain": [
       "'Automatic'"
      ]
     },
     "execution_count": 5,
     "metadata": {},
     "output_type": "execute_result"
    }
   ],
   "source": [
    "myobj._cat"
   ]
  },
  {
   "cell_type": "code",
   "execution_count": 10,
   "metadata": {},
   "outputs": [
    {
     "name": "stdout",
     "output_type": "stream",
     "text": [
      "This is the Child's method\n"
     ]
    },
    {
     "data": {
      "text/plain": [
       "166666.66666666666"
      ]
     },
     "execution_count": 10,
     "metadata": {},
     "output_type": "execute_result"
    }
   ],
   "source": [
    "myobj._get_value()"
   ]
  }
 ],
 "metadata": {
  "kernelspec": {
   "display_name": "Python 3.10.6 ('base_3.10')",
   "language": "python",
   "name": "python3"
  },
  "language_info": {
   "codemirror_mode": {
    "name": "ipython",
    "version": 3
   },
   "file_extension": ".py",
   "mimetype": "text/x-python",
   "name": "python",
   "nbconvert_exporter": "python",
   "pygments_lexer": "ipython3",
   "version": "3.10.8"
  },
  "orig_nbformat": 4,
  "vscode": {
   "interpreter": {
    "hash": "b69274b327b8ccc6d5153ebb758a5a4aa69943b8d839ce796915123502b92e21"
   }
  }
 },
 "nbformat": 4,
 "nbformat_minor": 2
}
