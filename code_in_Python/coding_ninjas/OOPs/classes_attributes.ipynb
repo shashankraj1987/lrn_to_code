{
  "cells": [
    {
      "cell_type": "code",
      "execution_count": null,
      "metadata": {
        "colab": {
          "base_uri": "https://localhost:8080/"
        },
        "id": "ikKL9jH1e8TO",
        "outputId": "82db16ae-5de2-4051-f61f-eb4b7f77f1bf"
      },
      "outputs": [
        {
          "name": "stdout",
          "output_type": "stream",
          "text": [
            "True\n"
          ]
        }
      ],
      "source": [
        "## Quiz\n",
        "\n",
        "class Student:\n",
        "  def __init__(self,name,age):\n",
        "    self.name = name\n",
        "    self.age = age\n",
        "  \n",
        "  def print_student_details():\n",
        "    print(self.name, end=\" \" )\n",
        "    print(self.age)\n",
        "    \n",
        "  @staticmethod\n",
        "  def isTeen(age):\n",
        "    return age>16\n",
        "    \n",
        "a = Student.isTeen(18)\n",
        "print(a)\n",
        "# Student.print_student_details() -> This will error out. "
      ]
    },
    {
      "cell_type": "code",
      "execution_count": null,
      "metadata": {
        "id": "g4jlUgcycKiK"
      },
      "outputs": [],
      "source": [
        "class ExpenseTracker:\n",
        "  # Class Attribute\n",
        "  expense_tracker_version = 0.1\n",
        "\n",
        "  def __init__(self,track_cat, orig_bal, budget):\n",
        "    # Instance Object/Attribute\n",
        "\n",
        "    # Public Attribute\n",
        "    self.track_cat = track_cat\n",
        "\n",
        "    # Private Attributes\n",
        "    self.__orig_bal = orig_bal\n",
        "    self.__tracker_budget = budget\n",
        "\n",
        "\n",
        "  # Instance Method, This method will be defined as Private \n",
        "  def __get_orig_balance(self):\n",
        "    return self.__orig_bal\n",
        "\n",
        "    # instance method\n",
        "  def check_balance(self, limit = 1000):\n",
        "    if self.tracker_budget >= limit:\n",
        "      return True\n",
        "    else:\n",
        "      return \"Your Opening Balance is less than the limit\"\n",
        "\n",
        "  @staticmethod\n",
        "  def convert_amount(amount):\n",
        "    return float(amount)\n",
        "\n",
        "  # Factory Mathod. Can create new instances or objects of the classes. \n",
        "  @classmethod\n",
        "  def get_attr_from_str(cls,diary_entry:str):\n",
        "    tracking_category,opening_balance,tracker_budget = diary_entry.split(\" \")\n",
        "\n",
        "    return ExpenseTracker(tracking_category.capitalize(),\n",
        "                            cls.convert_amount(opening_balance),\n",
        "                            cls.convert_amount(tracker_budget))"
      ]
    },
    {
      "cell_type": "code",
      "execution_count": null,
      "metadata": {
        "id": "uvSzwWYSgY2Q"
      },
      "outputs": [],
      "source": [
        "home = ExpenseTracker.get_attr_from_str(\"home 0 10000\")"
      ]
    },
    {
      "cell_type": "code",
      "execution_count": null,
      "metadata": {
        "colab": {
          "base_uri": "https://localhost:8080/"
        },
        "id": "nDHsnGo7kzUX",
        "outputId": "4349771a-16ba-41a2-b1b8-c792b40774a1"
      },
      "outputs": [
        {
          "data": {
            "text/plain": [
              "{'track_cat': 'Home',\n",
              " '_ExpenseTracker__orig_bal': 0.0,\n",
              " '_ExpenseTracker__tracker_budget': 10000.0}"
            ]
          },
          "execution_count": 5,
          "metadata": {},
          "output_type": "execute_result"
        }
      ],
      "source": [
        "home.__dict__"
      ]
    },
    {
      "cell_type": "code",
      "execution_count": null,
      "metadata": {
        "id": "k95GJDN9m23a"
      },
      "outputs": [],
      "source": [
        "test_restrictions_home = ExpenseTracker(\"Home\", 5000, 100000)"
      ]
    },
    {
      "cell_type": "code",
      "execution_count": null,
      "metadata": {
        "colab": {
          "base_uri": "https://localhost:8080/",
          "height": 36
        },
        "id": "1wCs4lyTnHwZ",
        "outputId": "de3f69a1-79d0-4b14-d0cd-218ba1cfedf6"
      },
      "outputs": [
        {
          "data": {
            "application/vnd.google.colaboratory.intrinsic+json": {
              "type": "string"
            },
            "text/plain": [
              "'Home'"
            ]
          },
          "execution_count": 13,
          "metadata": {},
          "output_type": "execute_result"
        }
      ],
      "source": [
        "test_restrictions_home.track_cat"
      ]
    },
    {
      "cell_type": "code",
      "execution_count": null,
      "metadata": {
        "colab": {
          "base_uri": "https://localhost:8080/"
        },
        "id": "p6KAcQdznRqE",
        "outputId": "a7aef806-4912-451f-d044-afb5053aeb2d"
      },
      "outputs": [
        {
          "data": {
            "text/plain": [
              "100000"
            ]
          },
          "execution_count": 14,
          "metadata": {},
          "output_type": "execute_result"
        }
      ],
      "source": [
        "# test_restrictions_home.__orig_bal\n",
        "# This exists but is not accessible as it has been made private\n",
        "\n",
        "# In order to access it, we would do the following:\n",
        "\n",
        "test_restrictions_home._ExpenseTracker__tracker_budget"
      ]
    },
    {
      "cell_type": "code",
      "execution_count": null,
      "metadata": {
        "colab": {
          "base_uri": "https://localhost:8080/"
        },
        "id": "wsASmUuXnrcA",
        "outputId": "4a02dff0-e389-426c-bc6a-668b7eb29ee2"
      },
      "outputs": [
        {
          "data": {
            "text/plain": [
              "5000"
            ]
          },
          "execution_count": 15,
          "metadata": {},
          "output_type": "execute_result"
        }
      ],
      "source": [
        "# home.__get_orig_balance()\n",
        "# Same Issue here as well. \n",
        "test_restrictions_home._ExpenseTracker__get_orig_balance()"
      ]
    },
    {
      "cell_type": "code",
      "execution_count": null,
      "metadata": {
        "colab": {
          "base_uri": "https://localhost:8080/"
        },
        "id": "5ZTZE-W8n0FV",
        "outputId": "0da7a00d-8685-4751-cc39-9b2f5667ef78"
      },
      "outputs": [
        {
          "data": {
            "text/plain": [
              "{'track_cat': 'Home',\n",
              " '_ExpenseTracker__orig_bal': 0.0,\n",
              " '_ExpenseTracker__tracker_budget': 10000.0}"
            ]
          },
          "execution_count": 16,
          "metadata": {},
          "output_type": "execute_result"
        }
      ],
      "source": [
        "home.__dict__"
      ]
    },
    {
      "cell_type": "code",
      "execution_count": 2,
      "metadata": {},
      "outputs": [
        {
          "name": "stdout",
          "output_type": "stream",
          "text": [
            "Rohan20\n"
          ]
        }
      ],
      "source": [
        "class Student:\n",
        "     def __init__(self,name,age):\n",
        "        self.__name = name\n",
        "        self.age = age\n",
        "     def print_student_details(self):\n",
        "        print(self.__name, end=\"\")\n",
        "        print(self.age)\n",
        "s = Student(\"Rohan\",20)\n",
        "s.print_student_details()"
      ]
    },
    {
      "cell_type": "code",
      "execution_count": 24,
      "metadata": {},
      "outputs": [],
      "source": [
        "class Vehicle():\n",
        "    def __init__(self, make, model, fuel):\n",
        "        self.make = make\n",
        "        self.model = model\n",
        "        self.fuel = fuel\n",
        "    \n",
        "    def __make_of_car(self):\n",
        "        print(\"This is a Vehicle\")\n",
        "\n",
        "class car(Vehicle):\n",
        "    def __init__(self,make,model,fuel,cat,sunroof):\n",
        "        Vehicle.__make = make\n",
        "        Vehicle.__model = model\n",
        "        Vehicle.__fuel = fuel \n",
        "\n",
        "        self.cat = cat\n",
        "        self.sunroof = sunroof\n",
        "    \n",
        "    def get_object(self):\n",
        "        self._Vehicle__make_of_car()  ## Access the Private method of the Parent class"
      ]
    },
    {
      "cell_type": "code",
      "execution_count": 17,
      "metadata": {},
      "outputs": [
        {
          "data": {
            "text/plain": [
              "{'cat': 'Cheap', 'sunroof': 'No'}"
            ]
          },
          "execution_count": 17,
          "metadata": {},
          "output_type": "execute_result"
        }
      ],
      "source": [
        "maruti = car(\"Old\",\"Old\",\"Petrol\",\"Cheap\",\"No\")\n",
        "\n",
        "maruti.__dict__"
      ]
    },
    {
      "cell_type": "code",
      "execution_count": 25,
      "metadata": {},
      "outputs": [
        {
          "name": "stdout",
          "output_type": "stream",
          "text": [
            "This is a Vehicle\n",
            "None\n"
          ]
        }
      ],
      "source": [
        "maruti.get_object()"
      ]
    }
  ],
  "metadata": {
    "colab": {
      "provenance": []
    },
    "kernelspec": {
      "display_name": "Python 3.11.0 ('base_3.11')",
      "language": "python",
      "name": "python3"
    },
    "language_info": {
      "codemirror_mode": {
        "name": "ipython",
        "version": 3
      },
      "file_extension": ".py",
      "mimetype": "text/x-python",
      "name": "python",
      "nbconvert_exporter": "python",
      "pygments_lexer": "ipython3",
      "version": "3.11.0"
    },
    "vscode": {
      "interpreter": {
        "hash": "e9365011e3cd0ebf70e7cb8647cafe94528dd3154d70cb9b1ce615028c8ab6aa"
      }
    }
  },
  "nbformat": 4,
  "nbformat_minor": 0
}
