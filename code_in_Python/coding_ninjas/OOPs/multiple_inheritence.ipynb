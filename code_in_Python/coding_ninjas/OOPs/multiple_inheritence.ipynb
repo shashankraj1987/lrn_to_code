{
 "cells": [
  {
   "cell_type": "markdown",
   "metadata": {},
   "source": [
    "# Multiple and Multilevel inheritence "
   ]
  },
  {
   "cell_type": "markdown",
   "metadata": {},
   "source": [
    "Multiple Inheritence - A child class inherits from multiple parent classes. \n",
    "Multilevel inheritence - A child class inherits from another child class, which inherits from a Parent class. "
   ]
  },
  {
   "cell_type": "code",
   "execution_count": 1,
   "metadata": {},
   "outputs": [
    {
     "name": "stdout",
     "output_type": "stream",
     "text": [
      "init of B called\n"
     ]
    }
   ],
   "source": [
    "class A:\n",
    "\n",
    "    def __init__(self):\n",
    "        print(\"init of A called\")\n",
    "class B:\n",
    "    def __init__(self):\n",
    "        print(\"init of B called\")\n",
    "\n",
    "class C(B,A):\n",
    "    def __init__(self):\n",
    "        super().__init__()\n",
    "\n",
    "c = C()"
   ]
  },
  {
   "cell_type": "markdown",
   "metadata": {},
   "source": [
    "## Method Resolution Order"
   ]
  },
  {
   "cell_type": "code",
   "execution_count": 3,
   "metadata": {},
   "outputs": [],
   "source": [
    "class Car():\n",
    "    def __init__(self, make, model, fuel):\n",
    "        self.make = make\n",
    "        self.model = model\n",
    "        self.fuel = fuel \n",
    "\n",
    "    def get_car_detail(self):\n",
    "        return \"The make of the car is \",self.model, \"from Car class\"\n",
    "\n",
    "class Electric_Car():\n",
    "    def _init__(self, make,model,fuel):\n",
    "        self.make=make\n",
    "        self.model = model\n",
    "        self.fuel=fuel\n",
    "\n",
    "    def get_car_detail(self):\n",
    "        return \"The make of the car is \",self.model, \"from electric Car class\"\n",
    "\n",
    "\n",
    "    "
   ]
  },
  {
   "cell_type": "code",
   "execution_count": 5,
   "metadata": {},
   "outputs": [
    {
     "data": {
      "text/plain": [
       "('The make of the car is ', 2019, 'from electric Car class')"
      ]
     },
     "execution_count": 5,
     "metadata": {},
     "output_type": "execute_result"
    }
   ],
   "source": [
    "\n",
    "class taxi(Electric_Car,Car):  # Multiple inheritence, execution order is defined here \n",
    "    def __init__(self,make, model,fuel):\n",
    "        super().__init__(make,model,fuel)\n",
    "\n",
    "myobj = taxi(\"Tesla\",2019,\"Electric\")\n",
    "myobj.get_car_detail()"
   ]
  },
  {
   "cell_type": "code",
   "execution_count": 6,
   "metadata": {},
   "outputs": [
    {
     "data": {
      "text/plain": [
       "(__main__.taxi, __main__.Electric_Car, __main__.Car, object)"
      ]
     },
     "execution_count": 6,
     "metadata": {},
     "output_type": "execute_result"
    }
   ],
   "source": [
    "taxi.__mro__"
   ]
  },
  {
   "cell_type": "code",
   "execution_count": 7,
   "metadata": {},
   "outputs": [],
   "source": [
    "class X: \n",
    "      pass\n",
    "class Y: \n",
    "      pass\n",
    "class Z:\n",
    "      pass\n",
    "class A(X,Y):\n",
    "      pass\n",
    "class B(Y,Z):\n",
    "      pass\n",
    "class C(B,A,Y):\n",
    "      pass"
   ]
  },
  {
   "cell_type": "code",
   "execution_count": 8,
   "metadata": {},
   "outputs": [
    {
     "data": {
      "text/plain": [
       "(__main__.C,\n",
       " __main__.B,\n",
       " __main__.A,\n",
       " __main__.X,\n",
       " __main__.Y,\n",
       " __main__.Z,\n",
       " object)"
      ]
     },
     "execution_count": 8,
     "metadata": {},
     "output_type": "execute_result"
    }
   ],
   "source": [
    "C.__mro__"
   ]
  },
  {
   "cell_type": "markdown",
   "metadata": {},
   "source": [
    "## Operator Overloading"
   ]
  },
  {
   "cell_type": "code",
   "execution_count": null,
   "metadata": {},
   "outputs": [],
   "source": []
  }
 ],
 "metadata": {
  "kernelspec": {
   "display_name": "Python 3.10.8 ('base_3.10')",
   "language": "python",
   "name": "python3"
  },
  "language_info": {
   "codemirror_mode": {
    "name": "ipython",
    "version": 3
   },
   "file_extension": ".py",
   "mimetype": "text/x-python",
   "name": "python",
   "nbconvert_exporter": "python",
   "pygments_lexer": "ipython3",
   "version": "3.10.8"
  },
  "orig_nbformat": 4,
  "vscode": {
   "interpreter": {
    "hash": "b69274b327b8ccc6d5153ebb758a5a4aa69943b8d839ce796915123502b92e21"
   }
  }
 },
 "nbformat": 4,
 "nbformat_minor": 2
}
