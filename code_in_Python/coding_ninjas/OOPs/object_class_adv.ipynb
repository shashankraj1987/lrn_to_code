{
 "cells": [
  {
   "cell_type": "markdown",
   "metadata": {},
   "source": [
    "Every Class inherits from jthe object class. \n",
    "The object class provides 3 methodds by default \n",
    "\n",
    "```python\n",
    "__init__\n",
    "__str__\n",
    "__str__\n",
    "\n",
    "__str__ #gives the description of the class and can be overridden\n",
    "        #to provide a better description\n",
    "\n",
    "```\n",
    "\n",
    "\n",
    "\n"
   ]
  },
  {
   "cell_type": "code",
   "execution_count": 1,
   "metadata": {},
   "outputs": [],
   "source": [
    "class circle(object):\n",
    "    def __init__(self,radius):\n",
    "        self.radius = radius\n",
    "\n",
    "    def __str__(self):\n",
    "        return \"This class accepts an int value\""
   ]
  },
  {
   "cell_type": "code",
   "execution_count": 2,
   "metadata": {},
   "outputs": [
    {
     "name": "stdout",
     "output_type": "stream",
     "text": [
      "This class accepts an int value\n"
     ]
    }
   ],
   "source": [
    "c = circle(3)\n",
    "print(c)"
   ]
  }
 ],
 "metadata": {
  "kernelspec": {
   "display_name": "Python 3.10.8 ('base_3.10')",
   "language": "python",
   "name": "python3"
  },
  "language_info": {
   "codemirror_mode": {
    "name": "ipython",
    "version": 3
   },
   "file_extension": ".py",
   "mimetype": "text/x-python",
   "name": "python",
   "nbconvert_exporter": "python",
   "pygments_lexer": "ipython3",
   "version": "3.10.8"
  },
  "orig_nbformat": 4,
  "vscode": {
   "interpreter": {
    "hash": "b69274b327b8ccc6d5153ebb758a5a4aa69943b8d839ce796915123502b92e21"
   }
  }
 },
 "nbformat": 4,
 "nbformat_minor": 2
}
