{
 "cells": [
  {
   "cell_type": "markdown",
   "metadata": {},
   "source": [
    "# Intro to Flask Application"
   ]
  },
  {
   "cell_type": "code",
   "execution_count": null,
   "metadata": {},
   "outputs": [],
   "source": [
    "from flask import Flask\n",
    "\n",
    "# This gives each file it's own name \n",
    "app = Flask(__name__)\n",
    "\n",
    "# Deorator Defining the Homepage access\n",
    "@app.route('/')  \n",
    "\n",
    "# Whatever is returned here, will be accessed by the website\n",
    "def home():\n",
    "    return \"Hello World\"   \n",
    "\n",
    "# Finally, to run this app. \n",
    "app.run(port=5000)"
   ]
  },
  {
   "cell_type": "markdown",
   "metadata": {},
   "source": [
    "HTTP Verbs (From Server's perspective. For Browsers, it is the opposite)\n",
    "\n",
    "Post - Used to receive data\n",
    " \n",
    "GET - used to send back data only "
   ]
  }
 ],
 "metadata": {
  "interpreter": {
   "hash": "8d3634fa82b1916d96d4833aec560d82faaa613183132935ce3c3d678a80898d"
  },
  "kernelspec": {
   "display_name": "Python 3.10.4 ('venv')",
   "language": "python",
   "name": "python3"
  },
  "language_info": {
   "codemirror_mode": {
    "name": "ipython",
    "version": 3
   },
   "file_extension": ".py",
   "mimetype": "text/x-python",
   "name": "python",
   "nbconvert_exporter": "python",
   "pygments_lexer": "ipython3",
   "version": "3.10.4"
  },
  "orig_nbformat": 4
 },
 "nbformat": 4,
 "nbformat_minor": 2
}
